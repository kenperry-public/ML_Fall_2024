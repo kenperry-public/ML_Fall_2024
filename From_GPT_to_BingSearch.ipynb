{
 "cells": [
  {
   "cell_type": "code",
   "execution_count": 1,
   "metadata": {
    "slideshow": {
     "slide_type": "notes"
    }
   },
   "outputs": [
    {
     "data": {
      "text/latex": [
       "$$\n",
       "\\newcommand{\\x}{\\mathbf{x}}\n",
       "\\newcommand{\\tx}{\\tilde{\\x}}\n",
       "\\newcommand{\\y}{\\mathbf{y}}\n",
       "\\newcommand{\\b}{\\mathbf{b}}\n",
       "\\newcommand{\\c}{\\mathbf{c}}\n",
       "\\newcommand{\\e}{\\mathbf{e}}\n",
       "\\newcommand{\\z}{\\mathbf{z}}\n",
       "\\newcommand{\\h}{\\mathbf{h}}\n",
       "\\newcommand{\\u}{\\mathbf{u}}\n",
       "\\newcommand{\\v}{\\mathbf{v}}\n",
       "\\newcommand{\\w}{\\mathbf{w}}\n",
       "\\newcommand{\\V}{\\mathbf{V}}\n",
       "\\newcommand{\\W}{\\mathbf{W}}\n",
       "\\newcommand{\\X}{\\mathbf{X}}\n",
       "\\newcommand{\\KL}{\\mathbf{KL}}\n",
       "\\newcommand{\\E}{{\\mathbb{E}}}\n",
       "\\newcommand{\\Reals}{{\\mathbb{R}}}\n",
       "\\newcommand{\\ip}{\\mathbf{{(i)}}}\n",
       "%\n",
       "% Test set\n",
       "\\newcommand{\\xt}{\\underline{\\x}}\n",
       "\\newcommand{\\yt}{\\underline{\\y}}\n",
       "\\newcommand{\\Xt}{\\underline{\\X}}\n",
       "\\newcommand{\\perfm}{\\mathcal{P}}\n",
       "%\n",
       "% \\ll indexes a layer; we can change the actual letter\n",
       "\\newcommand{\\ll}{l}\n",
       "\\newcommand{\\llp}{{(\\ll)}}\n",
       "%\n",
       "\\newcommand{Thetam}{\\Theta_{-0}}\n",
       "\n",
       "% CNN\n",
       "\\newcommand{\\kernel}{\\mathbf{k}} \n",
       "\\newcommand{\\dim}{d}\n",
       "\\newcommand{\\idxspatial}{{\\text{idx}}}\n",
       "\\newcommand{\\summaxact}{\\text{max}}\n",
       "%\n",
       "%\n",
       "\n",
       "% RNN\n",
       "% \\tt indexes a time step\n",
       "\\newcommand{\\tt}{t}\n",
       "\\newcommand{\\tp}{{(\\tt)}}\n",
       "%\n",
       "%\n",
       "\n",
       "% LSTM\n",
       "\\newcommand{\\g}{\\mathbf{g}}\n",
       "\\newcommand{\\remember}{\\mathbf{remember}}\n",
       "\\newcommand{\\save}{\\mathbf{save}}\n",
       "\\newcommand{\\focus}{\\mathbf{focus}}\n",
       "%\n",
       "%\n",
       "% NLP\n",
       "\\newcommand{\\Vocab}{\\mathbf{V}}\n",
       "\\newcommand{\\v}{\\mathbf{v}}\n",
       "\\newcommand{\\offset}{o}\n",
       "\\newcommand{\\o}{o}\n",
       "\\newcommand{\\Emb}{\\mathbf{E}}\n",
       "%\n",
       "%\n",
       "\\newcommand{\\loss}{\\mathcal{L}}\n",
       "\\newcommand{\\cost}{\\mathcal{L}}\n",
       "%\n",
       "%                     \n",
       "\\newcommand{\\pdata}{p_\\text{data}}\n",
       "\\newcommand{\\pmodel}{p_\\text{model}}\n",
       "%\n",
       "% SVM\n",
       "\\newcommand{\\margin}{{\\mathbb{m}}}\n",
       "\\newcommand{\\lmk}{\\boldsymbol{\\ell}}\n",
       "%\n",
       "% Functions with arguments\n",
       "\\def\\xsy#1#2{#1^#2}\n",
       "\\def\\rand#1{\\tilde{#1}}\n",
       "\\def\\randx{\\rand{\\x}}\n",
       "\\def\\randy{\\rand{\\y}}\n",
       "\\def\\trans#1{\\dot{#1}}\n",
       "\\def\\transx{\\trans{\\x}}\n",
       "\\def\\transy{\\trans{\\y}}\n",
       "%\n",
       "\\def\\argmax#1{\\underset{#1} {\\operatorname{argmax}} }\n",
       "\\def\\argmin#1{\\underset{#1} {\\operatorname{argmin}} }\n",
       "\\def\\max#1{\\underset{#1} {\\operatorname{max}} }\n",
       "\\def\\min#1{\\underset{#1} {\\operatorname{min}} }\n",
       "%\n",
       "\\def\\pr#1{\\mathcal{p}(#1)}\n",
       "\\def\\prc#1#2{\\mathcal{p}(#1 \\; | \\; #2)}\n",
       "\\def\\cnt#1{\\mathcal{count}_{#1}}\n",
       "\\def\\node#1{\\mathbb{#1}}\n",
       "%\n",
       "\\def\\loc#1{{\\text{##} {#1}}}\n",
       "%\n",
       "\\def\\OrderOf#1{\\mathcal{O}\\left( #1 \\right)}\n",
       "%\n",
       "% Expectation operator\n",
       "\\def\\Exp#1{\\underset{#1} {\\operatorname{\\mathbb{E}}} }\n",
       "%\n",
       "% Reinforcement learning\n",
       "\\newcommand{\\Actions}{{\\mathcal{A}}} \n",
       "\\newcommand{\\actseq}{A}\n",
       "\\newcommand{\\act}{a}\n",
       "\\newcommand{\\States}{{\\mathcal{S}}}   \n",
       "\\newcommand{\\stateseq}{S}  \n",
       "\\newcommand{\\state}{s}\n",
       "\\newcommand{\\Rewards}{{\\mathcal{R}}}\n",
       "\\newcommand{\\rewseq}{R}\n",
       "\\newcommand{\\rew}{r}\n",
       "\\newcommand{\\transp}{P}\n",
       "\\newcommand{\\statevalfun}{v}\n",
       "\\newcommand{\\actvalfun}{q}\n",
       "\\newcommand{\\disc}{\\gamma}\n",
       "%\n",
       "%\n",
       "\\newcommand{\\floor}[1]{\\left\\lfloor #1 \\right\\rfloor}\n",
       "\\newcommand{\\ceil}[1]{\\left\\lceil #1 \\right\\rceil}\n",
       "%\n",
       "%\n",
       "$$\n"
      ],
      "text/plain": [
       "<IPython.core.display.Latex object>"
      ]
     },
     "metadata": {},
     "output_type": "display_data"
    }
   ],
   "source": [
    "%run Latex_macros.ipynb"
   ]
  },
  {
   "cell_type": "code",
   "execution_count": 2,
   "metadata": {
    "slideshow": {
     "slide_type": "notes"
    }
   },
   "outputs": [],
   "source": [
    "# kjp attribution:\n",
    "#   Copied from https://gist.github.com/vgaraujov/fd17b0c151657fbce73189a98617f1c6\n",
    "#   Everything below this line is copied (including where author derived it from !)\n",
    "\n",
    "\n",
    "# Code forked from https://www.kaggle.com/jagannathpatta/reading-json-data-getting-dataframe\n",
    "\n",
    "import pandas as pd\n",
    "import json\n",
    "\n",
    "def json_to_dataframe(file):\n",
    "    f = open ( file , \"r\") \n",
    "    data = json.loads(f.read())               #loading the json file.\n",
    "    iid = []                                  \n",
    "    tit = []                                  #Creating empty lists to store values.\n",
    "    con = []\n",
    "    Que = []\n",
    "    Ans_st = []\n",
    "    Txt = []\n",
    "    \n",
    "    for i in range(len(data['data'])):       #Root tag of the json file contains 'title' tag & 'paragraphs' list.\n",
    "        title = data['data'][i]['title']\n",
    "        for p in range(len(data['data'][i]['paragraphs'])):  # 'paragraphs' list contains 'context' tag & 'qas' list.\n",
    "            context = data['data'][i]['paragraphs'][p]['context']\n",
    "            for q in range(len(data['data'][i]['paragraphs'][p]['qas'])):  # 'qas' list contains 'question', 'Id' tag & 'answers' list.\n",
    "                question = data['data'][i]['paragraphs'][p]['qas'][q]['question']\n",
    "                Id = data['data'][i]['paragraphs'][p]['qas'][q]['id']\n",
    "                for a in range(len(data['data'][i]['paragraphs'][p]['qas'][q]['answers'])): # 'answers' list contains 'ans_start', 'text' tags. \n",
    "                    ans_start = data['data'][i]['paragraphs'][p]['qas'][q]['answers'][a]['answer_start']\n",
    "                    text = data['data'][i]['paragraphs'][p]['qas'][q]['answers'][a]['text']\n",
    "                    \n",
    "                    tit.append(title)\n",
    "                    con.append(context)\n",
    "                    Que.append(question)                    # Appending values to lists\n",
    "                    iid.append(Id)\n",
    "                    Ans_st.append(ans_start)\n",
    "                    Txt.append(text)\n",
    "\n",
    "    new_df = pd.DataFrame(columns=['Id','title','context','question','ans_start','text']) # Creating empty DataFrame.\n",
    "    new_df.Id = iid\n",
    "    new_df.title = tit           #intializing list values to the DataFrame.\n",
    "    new_df.context = con\n",
    "    new_df.question = Que\n",
    "    new_df.ans_start = Ans_st\n",
    "    new_df.text = Txt\n",
    "\n",
    "    final_df = new_df.drop_duplicates(keep='first')  # Dropping duplicate rows from the create Dataframe.\n",
    "    return final_df"
   ]
  },
  {
   "cell_type": "code",
   "execution_count": 3,
   "metadata": {
    "slideshow": {
     "slide_type": "notes"
    }
   },
   "outputs": [],
   "source": [
    "def print_clean(raw):\n",
    "    print(\"\\n\\n\".join( raw.split(\". \") ) )"
   ]
  },
  {
   "cell_type": "code",
   "execution_count": 4,
   "metadata": {
    "slideshow": {
     "slide_type": "notes"
    }
   },
   "outputs": [],
   "source": [
    "# If you have downloaded a SQuAD dataset\n",
    "# - the following will create a very short sample and save it as a csv tfile\n",
    "\n",
    "import pathlib\n",
    "import pandas as pd\n",
    "import os\n",
    "\n",
    "source_json = pathlib.Path.home() / os.path.join(\"Downloads\", \"train-v2.0.json\")\n",
    "dest_csv =  \"squad_show.csv\"\n",
    "\n",
    "\n",
    "squad_json_fname = source_json\n",
    "squad_df = json_to_dataframe( squad_json_fname)\n",
    "squad_df.shape\n",
    "\n",
    "squad_df.iloc[:5].to_csv(dest_csv, index=False)"
   ]
  },
  {
   "cell_type": "markdown",
   "metadata": {
    "slideshow": {
     "slide_type": "slide"
    }
   },
   "source": [
    "# From GPT to Bing Search\n",
    "\n",
    "If you expect a \"raw\" LLM (e.g., GPT-3) to behave like ChatGPT: you will be disappointed.\n",
    "- the LLM has been trained to continue the text given in the prompt\n",
    "- **not** to also be\n",
    "    - Helpful: answer questions\n",
    "    - Conversational\n",
    "    - Harmless\n"
   ]
  },
  {
   "cell_type": "markdown",
   "metadata": {
    "slideshow": {
     "slide_type": "slide"
    }
   },
   "source": [
    "If you want the raw LLM to have capabilities beyond \"predict the next\" (complete the prompt)\n",
    "you need to either\n",
    "- Fine-Tune with examples of the new task\n",
    "- Condition the text continuation with [specific form of prompts](NLP_Beyond_LLM.ipynb#Pre-train,-prompt,-predict)\n",
    "    - Exemplars: In-context learning\n",
    "    - \"Pre-prompt\" with instructions on desired behavior\n",
    "\n",
    "ChatGPT is the end-result of several generations of evolution from GPT-3\n",
    "- using a combination of these techniques"
   ]
  },
  {
   "cell_type": "markdown",
   "metadata": {
    "slideshow": {
     "slide_type": "subslide"
    }
   },
   "source": [
    "Here is a family tree \n",
    "\n",
    "&nbsp; | Model | &nbsp; |\n",
    ":---|:--:|:---\n",
    " | GPT | \n",
    " | $\\big\\downarrow$ | Fine-tuned to be a helpful Assistant\n",
    " | InstructGPT | \n",
    " | $\\big\\downarrow$ | Fine-tuned to be a Conversational\n",
    " | ChatGPT | \n",
    " | $\\big\\downarrow$ | Non-parametric Knowledge Source\n",
    " | WebGPT | \n",
    " | $\\big\\downarrow$ | Pre-prompt imposes Microsoft standards\n",
    " | Bing AI Search | "
   ]
  },
  {
   "cell_type": "markdown",
   "metadata": {
    "slideshow": {
     "slide_type": "subslide"
    }
   },
   "source": [
    "We give a very brief overview of some of the key steps on this family tree.\n",
    "\n",
    "There are a lot of very interesting steps that we omit\n",
    "- Making GPT helpful, truthful and not harmful"
   ]
  },
  {
   "cell_type": "markdown",
   "metadata": {
    "slideshow": {
     "slide_type": "slide"
    }
   },
   "source": [
    "# Fine-tune: Question Answering\n",
    "\n",
    "ChatGPT is actually based on InstructGPT\n",
    "- GPT Fine-tuned for question answering\n",
    "\n",
    "In order to fine-tune a LLM to answer questions\n",
    "- we can present it with Question/Answer pairs\n",
    "- formatted as a long text string\n",
    "\n",
    "    `Question: {question} Answer: {answer}`\n",
    "- where `{question}` and `{answer}` are place-holders for an example question and its answer."
   ]
  },
  {
   "cell_type": "markdown",
   "metadata": {
    "slideshow": {
     "slide_type": "subslide"
    }
   },
   "source": [
    "At inference-time, we just present the question and the request for an Answer\n",
    "\n",
    "    Question: {question} Answer:\n",
    "and expect the LLM to complete the text by providing the answer."
   ]
  },
  {
   "cell_type": "markdown",
   "metadata": {
    "slideshow": {
     "slide_type": "subslide"
    }
   },
   "source": [
    "SQuAD (Stanford Question Answering Dataset) is a dataset frequently used for Question Answering models.\n",
    "\n",
    "Each example consists of\n",
    "- a \"context\": one or more sentences\n",
    "- a \"question\"\n",
    "- an \"answer\": a substring of the context\n",
    "\n",
    "Here are some examples"
   ]
  },
  {
   "cell_type": "markdown",
   "metadata": {
    "slideshow": {
     "slide_type": "subslide"
    }
   },
   "source": [
    "First: the context (which is shared among the first few questions in this toy dataset)."
   ]
  },
  {
   "cell_type": "code",
   "execution_count": 5,
   "metadata": {
    "slideshow": {
     "slide_type": "subslide"
    }
   },
   "outputs": [
    {
     "name": "stdout",
     "output_type": "stream",
     "text": [
      "Beyoncé Giselle Knowles-Carter (/biːˈjɒnseɪ/ bee-YON-say) (born September 4, 1981) is an American singer, songwriter, record producer and actress\n",
      "\n",
      "Born and raised in Houston, Texas, she performed in various singing and dancing competitions as a child, and rose to fame in the late 1990s as lead singer of R&B girl-group Destiny's Child\n",
      "\n",
      "Managed by her father, Mathew Knowles, the group became one of the world's best-selling girl groups of all time\n",
      "\n",
      "Their hiatus saw the release of Beyoncé's debut album, Dangerously in Love (2003), which established her as a solo artist worldwide, earned five Grammy Awards and featured the Billboard Hot 100 number-one singles \"Crazy in Love\" and \"Baby Boy\".\n"
     ]
    }
   ],
   "source": [
    "dest_csv =  \"squad_show.csv\"\n",
    "squad_df = pd.read_csv(dest_csv)\n",
    "\n",
    "example = squad_df.iloc[0]\n",
    "context = example[\"context\"]\n",
    "\n",
    "# NOTE: the context doesn't change in the first few examples, so we show it only once\n",
    "print_clean( example[\"context\"])"
   ]
  },
  {
   "cell_type": "markdown",
   "metadata": {
    "slideshow": {
     "slide_type": "subslide"
    }
   },
   "source": [
    "And then, some questions and answers"
   ]
  },
  {
   "cell_type": "code",
   "execution_count": 6,
   "metadata": {
    "slideshow": {
     "slide_type": "notes"
    }
   },
   "outputs": [
    {
     "name": "stdout",
     "output_type": "stream",
     "text": [
      "Question:\n",
      "When did Beyonce start becoming popular?\n",
      "\n",
      "\n",
      "Answer:\n",
      "in the late 1990s\n",
      "\n",
      "\n",
      "\n",
      "Question:\n",
      "What areas did Beyonce compete in when she was growing up?\n",
      "\n",
      "\n",
      "Answer:\n",
      "singing and dancing\n",
      "\n",
      "\n",
      "\n",
      "Question:\n",
      "When did Beyonce leave Destiny's Child and become a solo singer?\n",
      "\n",
      "\n",
      "Answer:\n",
      "2003\n",
      "\n",
      "\n",
      "\n",
      "Question:\n",
      "In what city and state did Beyonce  grow up? \n",
      "\n",
      "\n",
      "Answer:\n",
      "Houston, Texas\n",
      "\n",
      "\n",
      "\n",
      "Question:\n",
      "In which decade did Beyonce become famous?\n",
      "\n",
      "\n",
      "Answer:\n",
      "late 1990s\n",
      "\n",
      "\n",
      "\n"
     ]
    }
   ],
   "source": [
    "for example_no in range(0,5):\n",
    "    example = squad_df.iloc[example_no]\n",
    "    \n",
    "    question = example[\"question\"]\n",
    "    text = example[\"text\"]\n",
    "    \n",
    "    print(\"Question:\")\n",
    "    print_clean( question )\n",
    "    \n",
    "    print(\"\\n\")\n",
    "    \n",
    "    answer = example[\"text\"]\n",
    "    print(\"Answer:\")\n",
    "    print_clean( answer )\n",
    "    \n",
    "    print(\"\\n\\n\")"
   ]
  },
  {
   "cell_type": "markdown",
   "metadata": {
    "slideshow": {
     "slide_type": "subslide"
    }
   },
   "source": [
    "The answer is a substring of the context, identified by its starting position"
   ]
  },
  {
   "cell_type": "code",
   "execution_count": 7,
   "metadata": {
    "slideshow": {
     "slide_type": "subslide"
    }
   },
   "outputs": [
    {
     "name": "stdout",
     "output_type": "stream",
     "text": [
      "In which decade did Beyonce become famous?\n",
      "\n",
      "\n",
      "Answer starts at position 276 \n",
      "\n",
      "Answer:\n",
      "\n",
      "late 1990s\n"
     ]
    }
   ],
   "source": [
    "print(question)\n",
    "print(\"\\n\")\n",
    "ans_start = example[\"ans_start\"]\n",
    "print(f\"Answer starts at position {ans_start} \")\n",
    "\n",
    "print(\"\\nAnswer:\\n\")\n",
    "print( context[ ans_start: ans_start+len(answer)])"
   ]
  },
  {
   "cell_type": "markdown",
   "metadata": {
    "slideshow": {
     "slide_type": "slide"
    }
   },
   "source": [
    "# The Pre-prompt\n",
    "\n",
    "The \"pre-prompt\" (called the *System Prompt* by OpenAI) for Bing Search instructs it on how to behave.\n",
    "\n",
    "The instructions were meant to be hidden, but a simple *adversarial attack* \n",
    "caused it to [reveal](https://twitter.com/kliu128/status/1623472922374574080) its pre-prompt.\n",
    "\n",
    "<img src=\"images/BingSearch_Sydney_Prepromt.jpeg\">"
   ]
  },
  {
   "cell_type": "markdown",
   "metadata": {
    "slideshow": {
     "slide_type": "subslide"
    }
   },
   "source": [
    "How does this \"pre-prompt\" guide the Assistant's behavior ?\n",
    "\n",
    "Under the covers, it changes  the probability distribution of next token\n",
    "$$\n",
    "\\pr{\\hat\\y_\\tp \\; | \\;\\y_{(1:\\tt-1) }}\n",
    "$$\n",
    "to\n",
    "$$\n",
    "\\pr{\\hat\\y_\\tp \\;| \\;C, \\,\\y_{(1:\\tt-1) }}\n",
    "$$\n",
    "where $C$ are the instructions of the pre-prompt."
   ]
  },
  {
   "cell_type": "code",
   "execution_count": 8,
   "metadata": {
    "slideshow": {
     "slide_type": "slide"
    }
   },
   "outputs": [
    {
     "name": "stdout",
     "output_type": "stream",
     "text": [
      "Done\n"
     ]
    }
   ],
   "source": [
    "print(\"Done\")"
   ]
  }
 ],
 "metadata": {
  "celltoolbar": "Slideshow",
  "kernelspec": {
   "display_name": "Python 3",
   "language": "python",
   "name": "python3"
  },
  "language_info": {
   "codemirror_mode": {
    "name": "ipython",
    "version": 3
   },
   "file_extension": ".py",
   "mimetype": "text/x-python",
   "name": "python",
   "nbconvert_exporter": "python",
   "pygments_lexer": "ipython3",
   "version": "3.7.4"
  },
  "toc": {
   "base_numbering": 1,
   "nav_menu": {},
   "number_sections": true,
   "sideBar": true,
   "skip_h1_title": false,
   "title_cell": "Table of Contents",
   "title_sidebar": "Contents",
   "toc_cell": false,
   "toc_position": {},
   "toc_section_display": true,
   "toc_window_display": false
  }
 },
 "nbformat": 4,
 "nbformat_minor": 2
}
