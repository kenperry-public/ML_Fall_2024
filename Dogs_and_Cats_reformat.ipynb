{
 "cells": [
  {
   "cell_type": "code",
   "execution_count": 1,
   "metadata": {},
   "outputs": [],
   "source": [
    "import os\n",
    "import re\n",
    "\n",
    "from shutil import copyfile\n",
    "\n",
    "Debug=True\n",
    "\n",
    "# Change DATA_DIR_ROOT to wherever you want\n",
    "# - The raw input data should be in subdirectory train_data_dir\n",
    "# - The processed data will wind up in subdirectory out_data_dir, with subdirectories\n",
    "# -- out_train_dir and out_valid_dir\n",
    "# --- each of these out directories will have subdirectories \"dogs\" and \"cats\"\n",
    "DATA_DIR_ROOT=\"/tmp\"\n",
    "\n",
    "train_data_dir= os.path.join(DATA_DIR_ROOT, \"train\")\n",
    "\n",
    "out_data_dir= os.path.join(DATA_DIR_ROOT, \"out\")\n",
    "out_train_dir= os.path.join(out_data_dir, \"train\")\n",
    "out_valid_dir= os.path.join(out_data_dir, \"validation\")\n",
    "\n",
    "(cats_train_dir, dogs_train_dir) = [ os.path.join(out_train_dir, label) for label in [\"cats\", \"dogs\"] ]\n",
    "(cats_valid_dir, dogs_valid_dir) = [ os.path.join(out_valid_dir, label) for label in [\"cats\", \"dogs\"] ]\n",
    "\n",
    "# Create out directory tree as needed\n",
    "os.makedirs(out_data_dir, exist_ok=True)\n",
    "os.makedirs(cats_train_dir, exist_ok=True)\n",
    "os.makedirs(dogs_train_dir, exist_ok=True)\n",
    "os.makedirs(cats_valid_dir, exist_ok=True)\n",
    "os.makedirs(dogs_valid_dir, exist_ok=True)"
   ]
  },
  {
   "cell_type": "code",
   "execution_count": 2,
   "metadata": {},
   "outputs": [],
   "source": [
    "# Walk the file system tree rooted at train_data_dir\n",
    "w = os.walk(train_data_dir)\n",
    "\n",
    "# walk returns a *generator*.  We need only the top level of the tree\n",
    "top_path, top_dirs, top_files = list(w)[0]"
   ]
  },
  {
   "cell_type": "code",
   "execution_count": 3,
   "metadata": {},
   "outputs": [
    {
     "name": "stdout",
     "output_type": "stream",
     "text": [
      "Found validation cat #1002\n",
      "Found train cat #2\n",
      "Found validation cat #1003\n",
      "Found validation cat #1004\n",
      "Found train dog #3\n",
      "Found train cat #4\n",
      "Found validation dog #1000\n",
      "Found train cat #1\n",
      "Found train dog #0\n",
      "Found train dog #2\n",
      "Found validation dog #1002\n",
      "Found train cat #0\n",
      "Found train dog #4\n",
      "Found validation cat #1001\n",
      "Found validation dog #1004\n",
      "Found validation dog #1001\n",
      "Found train cat #3\n",
      "Found validation dog #1003\n",
      "Found validation cat #1000\n",
      "Found train dog #1\n"
     ]
    }
   ],
   "source": [
    "# Iterate thru files in top directory\n",
    "for f in top_files:\n",
    "    # Parse the file name into animal \"label\" and integer \"idx\"\n",
    "    m = re.search(r\"^(.*)\\.([0-9]+)\\.jpg\",f)\n",
    "    label, idx = m.groups()\n",
    "    \n",
    "    # Convert idx from string to integer\n",
    "    # Output directory is plural of label\n",
    "    idx = int(idx)\n",
    "    out_label = label + \"s\"\n",
    "    \n",
    "    # n.b., file index starts a 0, not 1\n",
    "    \n",
    "    # First 1000 files are for training\n",
    "    if idx < 1000:\n",
    "        # Train\n",
    "        copyfile( os.path.join(top_path,f), os.path.join(out_train_dir, out_label, f))\n",
    "        if Debug and idx < 5:\n",
    "            print(\"Found {t:s} {l:s} #{n:d}\".format(t=\"train\", l=label, n=idx))\n",
    "    \n",
    "    # Files 1001 - 1400 are for validation\n",
    "    elif idx < 1400:\n",
    "        # Validation\n",
    "        copyfile( os.path.join(top_path,f), os.path.join(out_valid_dir, out_label, f))\n",
    "        if Debug and idx < 1005:\n",
    "            print(\"Found {t:s} {l:s} #{n:d}\".format(t=\"validation\", l=label, n=idx))\n",
    "    else:\n",
    "        pass\n",
    "    \n",
    "            "
   ]
  }
 ],
 "metadata": {
  "kernelspec": {
   "display_name": "Python 3",
   "language": "python",
   "name": "python3"
  },
  "language_info": {
   "codemirror_mode": {
    "name": "ipython",
    "version": 3
   },
   "file_extension": ".py",
   "mimetype": "text/x-python",
   "name": "python",
   "nbconvert_exporter": "python",
   "pygments_lexer": "ipython3",
   "version": "3.7.4"
  },
  "toc": {
   "base_numbering": 1,
   "nav_menu": {},
   "number_sections": true,
   "sideBar": true,
   "skip_h1_title": false,
   "title_cell": "Table of Contents",
   "title_sidebar": "Contents",
   "toc_cell": false,
   "toc_position": {},
   "toc_section_display": true,
   "toc_window_display": false
  }
 },
 "nbformat": 4,
 "nbformat_minor": 2
}
