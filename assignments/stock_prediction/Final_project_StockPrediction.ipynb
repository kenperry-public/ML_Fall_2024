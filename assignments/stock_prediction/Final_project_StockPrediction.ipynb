{
 "cells": [
  {
   "cell_type": "markdown",
   "metadata": {},
   "source": [
    "# Final project: Stock Prediction\n",
    "\n",
    "Given the recent stock market history, you will predict the return for ticker AAPL for the day ahead."
   ]
  },
  {
   "cell_type": "markdown",
   "metadata": {},
   "source": [
    "# Objectives\n",
    "\n",
    "You will demonstrate your strengths in several areas, especially\n",
    "- Exploratory Data Analysis\n",
    "- Feature Engineering\n",
    "- Creating, testing and evaluating models\n",
    "- Error analysis\n",
    "and Prediction **using Neural Networks**.\n",
    "\n",
    "Your objective will be to predict next period price returns of a stock given its past prices."
   ]
  },
  {
   "cell_type": "markdown",
   "metadata": {},
   "source": [
    "**To be precise**\n",
    "- given recent prices for AAPL you will predict the next *return*\n",
    "- *return* will be defined precisely below\n",
    "- you will be evaluated on a holdout data directory\n",
    "    - it will have 2 years of data\n",
    "    - you will be required to predict next period returns for the final 200 days\n",
    "    - when making a prediction for date $t$, where $t$ is in the holdout data range (**beyond** the last training date)\n",
    "        - you may use *actual* holdout data for dates strictlty prior to date $t$\n",
    "        - That is: your prediction for date $t$ *does not* need to be dependent on your *prediction* for date $(t-1)$\n",
    "    "
   ]
  },
  {
   "cell_type": "markdown",
   "metadata": {},
   "source": [
    "**Predicting forward returns/prices is hard ! If you could do it well: you would be rich**\n",
    "\n",
    "Given that fact, out of sample performance will **not** be the sole metric for your grade\n",
    "\n",
    "This project will test your ability to analyze data, create hypotheses, test them, and improve through iteration.\n",
    "\n",
    "**You will learn a lot, especially from failures**\n",
    "\n",
    "This project provides a wealth of opportunity for\n",
    "- Exploratory data analysis\n",
    "    - This can suggest several different approaches to building one or more models\n",
    "- Error Analysis\n",
    "- Creating, and evaluating models iteratively, learning from past failures and successes.\n",
    "\n",
    "So your performance will be based on your creativity and experimental process, even if the process\n",
    "does not lead to great out of sample performance"
   ]
  },
  {
   "cell_type": "markdown",
   "metadata": {},
   "source": [
    "# The data\n",
    "\n",
    "As explained in the Final Project Overview:\n",
    "- you will be given a data directory for training\n",
    "    - supplied as a compressed archive file in the course's Resource tab in NYU Classes\n",
    "    - unpacking this file will yield directory `./Data/train`\n",
    "\n",
    "The data directory will contain one file per ticker, with a history going back many years of fields including\n",
    "- Price: Close, Adj Close, Open, High, Low\n",
    "- Volume\n",
    "\n",
    "\"return\" means the percent change in the **Close** feature\n",
    "- you can choose to define return based on the **Adj Close** feature\n",
    "    - but you should explain your choice\n",
    "    - in the rest of the instructions: the word \"Close\" will refer to whichever choice you made\n",
    "\n",
    "\n",
    "You will need to \n",
    "- decide which files and which fields to use\n",
    "- prepare the data for training and testing\n",
    "    - convert from price to return as necessary\n",
    "    - prepare train and test examples:\n",
    "    "
   ]
  },
  {
   "cell_type": "markdown",
   "metadata": {},
   "source": [
    "## Data preparation\n",
    "\n",
    "- The files contain prices; your goal is to predict a *return* not a price\n",
    "- Your goal is to predict the **percent change of the Close feature** (\"return\")\n",
    "- Your predicted return for day $t$ should be a function of data occuring *before* day $t$\n",
    "\n",
    "So your first step will be to create a suitable training set.\n",
    "\n",
    "For example, the following training set is a good starting point:\n",
    "- each row is an example\n",
    "- each row will have a column `Dt` indicating time $t$\n",
    "- each example has at least 20 prior days of data\n",
    "    - derived from AAPL features occuring *before* time $t$\n",
    "- the target for the row with time $t$ should be the *return* of AAPL for date $t$\n",
    "    - i.e., the percent price change of AAPL from time $t-1$ to time $t$\n",
    "\n"
   ]
  },
  {
   "cell_type": "markdown",
   "metadata": {},
   "source": [
    "# Out of sample evaluation\n",
    "\n",
    "*You* should test your models out of sample.\n",
    "\n",
    "This will be beneficial as *we* will evaluate your model out of sample using a holdout data directory.\n",
    "\n",
    "The *holdout data directory* will be for dates that are strictly later than the latest date in the\n",
    "training data directory.\n",
    "- will contain 2 years of data\n",
    "- you will be required to predict the latest 200 returns of AAPL for this holdout directory\n",
    "- your submission *must work on the holdout directory*\n",
    "    - you should assume the directory is at relative path  `./data/holdout`\n",
    "\n",
    "The holdout directory will be identical in structure and format to the training directory, just for a later date range.  No attributes will be hidden in the holdout directory.\n",
    " \n",
    " \n",
    "So you might want to create your own validation/test data (from the training data directory) that mimics what the holdout data directory will contain.\n",
    "\n",
    "It is up to you to decide on the out of sample data that you use for model development.\n"
   ]
  },
  {
   "cell_type": "markdown",
   "metadata": {},
   "source": [
    "# Suggestions for  getting started\n",
    "\n",
    "The problem we presented to you is unstructured and not precisely defined in full detail.\n",
    "\n",
    "- Start by defining, in detail,  the problem that you will attempt to solve\n",
    "    - Do you view this as a Regression task ?  A Classification task\n",
    "    - Justify your choice\n",
    "~ Define the Performance Metric that you think is appropriate\n",
    "    - Justify your choice\n",
    "\n",
    "- Start with a simple model, using only data from AAPL (few features)\n",
    "    - Use the model to get a feel for the problem\n",
    "    - Will be a good baseline\n",
    "    - Will help you form new hypotheses to test\n",
    "        - may guide the choice of additional features\n",
    "- Create new models iteratively\n",
    "    - Train and evaluate a \"simpler\" model\n",
    "    - Evalute performance\n",
    "    - Perform error analysis\n",
    "    - Propose a new \"less simple\" model\n",
    "        - add as many features as you like, from any file in the directory\n",
    "\n",
    "- Be disciplined in your process: avoid repeating code\n",
    "    - It will be easier if you have a single piece of code that works for\n",
    "        - the training directory\n",
    "        - the test directory (that you might choose to create)\n",
    "        - the holdout directory\n",
    "    - This will\n",
    "        - simplify your process\n",
    "        - help ensure that your submission will work on the holdout directory !\n",
    "   "
   ]
  },
  {
   "cell_type": "markdown",
   "metadata": {},
   "source": [
    "# Warning: Avoid looking into the future !\n",
    "\n",
    "Obviously, you should not use knowledge of the future to predict future prices.\n",
    "\n",
    "But it is surprisingly easy to inadvertantly do so !  For example:\n",
    "- when standardizing a data set: you might compute averages and standard deviations over the full range of dates\n",
    "    - this means that the earliest dates have implicit knowledge of later dates\n",
    "        - for example, suppose the mean increases after 10 days\n",
    "        - the observations of the first 9 days *should not know* that the mean of the entire data range is different than what is available from earlier observations"
   ]
  },
  {
   "cell_type": "markdown",
   "metadata": {},
   "source": [
    "# Evaluating your model\n",
    "   \n",
    "Your goals\n",
    "- demonstrate that your models can predict in-sample (based on training only) somewhat successfully\n",
    "    - this is easier than predicting out of sample\n",
    "    - this will show that your model has \"learned\" something\n",
    "- evaluate your model out of sample using the validation/test set you created\n",
    "- run multiple experiments to try to improve out of sample prediction\n",
    "- present a \"final model\" which we will evaluate with a holdout dataset\n",
    "     - The holdut dataset will be identical in structure to the full data set we provide\n",
    "     - *BUT* the dates will be strictly after the dates in the full dataset."
   ]
  },
  {
   "cell_type": "markdown",
   "metadata": {},
   "source": [
    "# Final reminder: document your thought process\n",
    "\n",
    "**The key to getting a good grade** is to\n",
    "- document everything you do\n",
    "- justify the many choices you will have to make -- use data and intuition to back up your statements\n",
    "- report on failed theories/experiments\n",
    "    - it shows the amount of effort you expended\n",
    "    - tell us\n",
    "        - why you thought it was a good idea to try\n",
    "        - what you learned from the failure\n",
    "        - how the failure led you to try something different\n",
    "        \n",
    "The out of sample prediction is hard -- you may or may not do well.\n",
    "\n",
    "What is important is to see how you tried to improve and how failure as well as success led to\n",
    "better experiments."
   ]
  }
 ],
 "metadata": {
  "kernelspec": {
   "display_name": "Python 3",
   "language": "python",
   "name": "python3"
  },
  "language_info": {
   "codemirror_mode": {
    "name": "ipython",
    "version": 3
   },
   "file_extension": ".py",
   "mimetype": "text/x-python",
   "name": "python",
   "nbconvert_exporter": "python",
   "pygments_lexer": "ipython3",
   "version": "3.7.4"
  },
  "toc": {
   "base_numbering": 1,
   "nav_menu": {},
   "number_sections": true,
   "sideBar": true,
   "skip_h1_title": false,
   "title_cell": "Table of Contents",
   "title_sidebar": "Contents",
   "toc_cell": false,
   "toc_position": {},
   "toc_section_display": true,
   "toc_window_display": false
  }
 },
 "nbformat": 4,
 "nbformat_minor": 2
}
