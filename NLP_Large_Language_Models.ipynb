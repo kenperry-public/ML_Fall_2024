{
 "cells": [
  {
   "cell_type": "code",
   "execution_count": 1,
   "metadata": {
    "slideshow": {
     "slide_type": "notes"
    }
   },
   "outputs": [
    {
     "data": {
      "text/latex": [
       "$$\n",
       "\\newcommand{\\x}{\\mathbf{x}}\n",
       "\\newcommand{\\tx}{\\tilde{\\x}}\n",
       "\\newcommand{\\y}{\\mathbf{y}}\n",
       "\\newcommand{\\b}{\\mathbf{b}}\n",
       "\\newcommand{\\c}{\\mathbf{c}}\n",
       "\\newcommand{\\e}{\\mathbf{e}}\n",
       "\\newcommand{\\z}{\\mathbf{z}}\n",
       "\\newcommand{\\h}{\\mathbf{h}}\n",
       "\\newcommand{\\u}{\\mathbf{u}}\n",
       "\\newcommand{\\v}{\\mathbf{v}}\n",
       "\\newcommand{\\w}{\\mathbf{w}}\n",
       "\\newcommand{\\V}{\\mathbf{V}}\n",
       "\\newcommand{\\W}{\\mathbf{W}}\n",
       "\\newcommand{\\X}{\\mathbf{X}}\n",
       "\\newcommand{\\KL}{\\mathbf{KL}}\n",
       "\\newcommand{\\E}{{\\mathbb{E}}}\n",
       "\\newcommand{\\Reals}{{\\mathbb{R}}}\n",
       "\\newcommand{\\ip}{\\mathbf{{(i)}}}\n",
       "%\n",
       "% Test set\n",
       "\\newcommand{\\xt}{\\underline{\\x}}\n",
       "\\newcommand{\\yt}{\\underline{\\y}}\n",
       "\\newcommand{\\Xt}{\\underline{\\X}}\n",
       "\\newcommand{\\perfm}{\\mathcal{P}}\n",
       "%\n",
       "% \\ll indexes a layer; we can change the actual letter\n",
       "\\newcommand{\\ll}{l}\n",
       "\\newcommand{\\llp}{{(\\ll)}}\n",
       "%\n",
       "\\newcommand{Thetam}{\\Theta_{-0}}\n",
       "\n",
       "% CNN\n",
       "\\newcommand{\\kernel}{\\mathbf{k}} \n",
       "\\newcommand{\\dim}{d}\n",
       "\\newcommand{\\idxspatial}{{\\text{idx}}}\n",
       "\\newcommand{\\summaxact}{\\text{max}}\n",
       "%\n",
       "%\n",
       "\n",
       "% RNN\n",
       "% \\tt indexes a time step\n",
       "\\newcommand{\\tt}{t}\n",
       "\\newcommand{\\tp}{{(\\tt)}}\n",
       "%\n",
       "%\n",
       "\n",
       "% LSTM\n",
       "\\newcommand{\\g}{\\mathbf{g}}\n",
       "\\newcommand{\\remember}{\\mathbf{remember}}\n",
       "\\newcommand{\\save}{\\mathbf{save}}\n",
       "\\newcommand{\\focus}{\\mathbf{focus}}\n",
       "%\n",
       "%\n",
       "% NLP\n",
       "\\newcommand{\\Vocab}{\\mathbf{V}}\n",
       "\\newcommand{\\v}{\\mathbf{v}}\n",
       "\\newcommand{\\offset}{o}\n",
       "\\newcommand{\\o}{o}\n",
       "\\newcommand{\\Emb}{\\mathbf{E}}\n",
       "%\n",
       "%\n",
       "\\newcommand{\\loss}{\\mathcal{L}}\n",
       "\\newcommand{\\cost}{\\mathcal{L}}\n",
       "%\n",
       "%                     \n",
       "\\newcommand{\\pdata}{p_\\text{data}}\n",
       "\\newcommand{\\pmodel}{p_\\text{model}}\n",
       "%\n",
       "% SVM\n",
       "\\newcommand{\\margin}{{\\mathbb{m}}}\n",
       "\\newcommand{\\lmk}{\\boldsymbol{\\ell}}\n",
       "%\n",
       "%\n",
       "% Functions with arguments\n",
       "\\def\\xsy#1#2{#1^#2}\n",
       "\\def\\rand#1{\\tilde{#1}}\n",
       "\\def\\randx{\\rand{\\x}}\n",
       "\\def\\randy{\\rand{\\y}}\n",
       "\\def\\trans#1{\\dot{#1}}\n",
       "\\def\\transx{\\trans{\\x}}\n",
       "\\def\\transy{\\trans{\\y}}\n",
       "%\n",
       "\\def\\argmax#1{\\underset{#1} {\\operatorname{argmax}} }\n",
       "\\def\\argmin#1{\\underset{#1} {\\operatorname{argmin}} }\n",
       "\\def\\max#1{\\underset{#1} {\\operatorname{max}} }\n",
       "\\def\\min#1{\\underset{#1} {\\operatorname{min}} }\n",
       "%\n",
       "\\def\\pr#1{\\mathcal{p}(#1)}\n",
       "\\def\\prc#1#2{\\mathcal{p}(#1 \\; | \\; #2)}\n",
       "\\def\\cnt#1{\\mathcal{count}_{#1}}\n",
       "\\def\\node#1{\\mathbb{#1}}\n",
       "%\n",
       "\\def\\loc#1{{\\text{##} {#1}}}\n",
       "%\n",
       "\\def\\OrderOf#1{\\mathcal{O}\\left( #1 \\right)}\n",
       "%\n",
       "% Expectation operator\n",
       "\\def\\Exp#1{\\underset{#1} {\\operatorname{\\mathbb{E}}} }\n",
       "%\n",
       "% VAE\n",
       "\\def\\prs#1#2{\\mathcal{p}_{#2}(#1)}\n",
       "\\def\\qr#1{\\mathcal{q}(#1)}\n",
       "\\def\\qrs#1#2{\\mathcal{q}_{#2}(#1)}\n",
       "%\n",
       "% Reinforcement learning\n",
       "\\newcommand{\\Actions}{{\\mathcal{A}}} \n",
       "\\newcommand{\\actseq}{A}\n",
       "\\newcommand{\\act}{a}\n",
       "\\newcommand{\\States}{{\\mathcal{S}}}   \n",
       "\\newcommand{\\stateseq}{S}  \n",
       "\\newcommand{\\state}{s}\n",
       "\\newcommand{\\Rewards}{{\\mathcal{R}}}\n",
       "\\newcommand{\\rewseq}{R}\n",
       "\\newcommand{\\rew}{r}\n",
       "\\newcommand{\\transp}{P}\n",
       "\\newcommand{\\statevalfun}{v}\n",
       "\\newcommand{\\actvalfun}{q}\n",
       "\\newcommand{\\disc}{\\gamma}\n",
       "%\n",
       "%\n",
       "\\newcommand{\\floor}[1]{\\left\\lfloor #1 \\right\\rfloor}\n",
       "\\newcommand{\\ceil}[1]{\\left\\lceil #1 \\right\\rceil}\n",
       "%\n",
       "%\n",
       "$$\n"
      ],
      "text/plain": [
       "<IPython.core.display.Latex object>"
      ]
     },
     "metadata": {},
     "output_type": "display_data"
    }
   ],
   "source": [
    "%run Latex_macros.ipynb"
   ]
  },
  {
   "cell_type": "markdown",
   "metadata": {
    "slideshow": {
     "slide_type": "slide"
    }
   },
   "source": [
    "# Models used with the  Unsupervised Pre-Trained Model + Supervised Fine-Tuning paradigm\n",
    "\n",
    "Pre-training + Fine-Tuning\n",
    "\n",
    "We present a few models using this approach.\n"
   ]
  },
  {
   "cell_type": "markdown",
   "metadata": {
    "slideshow": {
     "slide_type": "slide"
    }
   },
   "source": [
    "# BERT\n",
    "\n",
    "- [paper](https://arxiv.org/pdf/1810.04805.pdf)\n",
    "- [model card](https://huggingface.co/bert-base-uncased)\n",
    "\n",
    "\n",
    "BERT (Bidirectional Encoder Representations from Transformers) is also a *fine-tuning* (universal model) approach.\n",
    "\n",
    "## Training objective\n",
    "\n",
    "BERT is trained to solve **two** tasks\n",
    "- Masked Language Modeling\n",
    "- Next sentence prediction\n",
    "    - does one sentence follow from another\n",
    "\n",
    "(For a list of auxiliary tasks used, see [here](https://arxiv.org/pdf/2107.13586.pdf#page=44))"
   ]
  },
  {
   "cell_type": "markdown",
   "metadata": {
    "slideshow": {
     "slide_type": "subslide"
    }
   },
   "source": [
    "The **Masked Language Model** task is a generalization of \"predict the next\" token\n",
    "- Mask (obscure) 15% of the input tokens, chosen at random\n",
    "- The method for masking takes one of three forms\n",
    "    - 80% of the time, hide it: replace with $\\text{[MASK]}$ token\n",
    "    - 10% of the time: replace it with a random word\n",
    "    - 10% of the time: don't obscure it\n",
    "    \n",
    "The training objective is to predict the masked word"
   ]
  },
  {
   "cell_type": "markdown",
   "metadata": {
    "slideshow": {
     "slide_type": "subslide"
    }
   },
   "source": [
    "The authors explain\n",
    "- Since BERT does not know which words have been masked\n",
    "- Or which of the masked words were random replacements\n",
    "- It must maintain a context for **all** tokens\n",
    "\n",
    "They also state that, since random replacement only occurs 1.5% of the time (10% * 15%), this does\n",
    "not seem to destroy language understanding"
   ]
  },
  {
   "cell_type": "markdown",
   "metadata": {
    "slideshow": {
     "slide_type": "subslide"
    }
   },
   "source": [
    "The second task is *entailment*\n",
    "- Given two sentences, does the second logically follow from the first.\n",
    "\n",
    "Perhaps this forces BERT to encode even more global context into its representations"
   ]
  },
  {
   "cell_type": "markdown",
   "metadata": {
    "slideshow": {
     "slide_type": "subslide"
    }
   },
   "source": [
    "## Training\n",
    "- BooksCorpus dataset (like GPT): 800MM words\n",
    "- Wikipedia (English): 2,500MM words\n",
    "- Training time\n",
    "    - 4 days on 64 TPU chips\n",
    "        \n",
    "See Section A.2 (\"Pre-training procedure\", page 13) for details of training\n",
    "- Optimizer: AdaM\n",
    "- Learning rate decay\n",
    "- Warmup\n"
   ]
  },
  {
   "cell_type": "markdown",
   "metadata": {
    "slideshow": {
     "slide_type": "slide"
    }
   },
   "source": [
    "## Architecture\n",
    "\n",
    "BERT is an *Encoder*.\n",
    "\n",
    "The original Transformer consists of an\n",
    "- An Encoder which could attend to all tokens\n",
    "    - does not use *masked attention* to force causal ordering\n",
    "- A Decoder which used masking to enforce causal attention (not peeking into the future)  \n",
    "\n",
    "The Encoder allows bi-directional access to all elements of the inputs\n",
    "- is appropriate for tasks that require a context-sensitive representation of\n",
    "each input element."
   ]
  },
  {
   "cell_type": "markdown",
   "metadata": {
    "slideshow": {
     "slide_type": "subslide"
    }
   },
   "source": [
    "An Encoder is useful for tasks that require a summary of the sequence.\n",
    "\n",
    "The summary can be conceptualized as a \"sentence embedding\"\n",
    "- Sentiment\n",
    " "
   ]
  },
  {
   "cell_type": "markdown",
   "metadata": {
    "slideshow": {
     "slide_type": "subslide"
    }
   },
   "source": [
    "### BERT in action\n",
    "\n",
    "[Interactive model for MLM](https://huggingface.co/bert-base-uncased?text=Washington+is+the+%5BMASK%5D+of+the+US)"
   ]
  },
  {
   "cell_type": "markdown",
   "metadata": {
    "slideshow": {
     "slide_type": "subslide"
    }
   },
   "source": [
    "# GPT: Generalized Pre-Training\n",
    "\n",
    "[paper](https://cdn.openai.com/research-covers/language-unsupervised/language_understanding_paper.pdf)\n",
    "\n",
    "[Summary article](https://openai.com/blog/language-unsupervised/)\n",
    "\n",
    "GPT is a sequence of increasingly powerful (and big) models of similar architecture.\n",
    "\n",
    "It is based on the paradigm of Unsupervised Pre-Training and Supervised Fine-Tuning.\n"
   ]
  },
  {
   "cell_type": "markdown",
   "metadata": {
    "slideshow": {
     "slide_type": "subslide"
    }
   },
   "source": [
    "## Architecture\n",
    "\n",
    "GPT models are stacks of Transformer Decoders.\n",
    "\n",
    "Recall the specifics of a Transformer Decoder\n",
    "- Recurrent: output of time step $\\tt$ appended to input available at time step $(\\tt+1)$\n",
    "- Causal ordering of inputs\n",
    "    - Left to Right, unidirectional\n",
    "    - Implemented via Masked Self-attention"
   ]
  },
  {
   "cell_type": "markdown",
   "metadata": {
    "slideshow": {
     "slide_type": "subslide"
    }
   },
   "source": [
    "A Decoder is appropriate for *generative* tasks.\n",
    "\n",
    "The Unsupervised Pre-Training task is generative.\n",
    "- They are all trained on a Language Model objective: predict the next word \n"
   ]
  },
  {
   "cell_type": "markdown",
   "metadata": {
    "slideshow": {
     "slide_type": "subslide"
    }
   },
   "source": [
    "<table>\n",
    "    <tr>\n",
    "        <th><center>GPT: architecture</center></th>\n",
    "    </tr>\n",
    "    <tr>\n",
    "        <td><img src=\"images/GPT_orig_arch.png\" width=50%></td>\n",
    "    </tr>\n",
    "    <tr>\n",
    "        <td><center>Picture from: https://cdn.openai.com/research-covers/language-unsupervised/language_understanding_paper.pdf</center></td>\n",
    "    </tr>   \n",
    "</table>"
   ]
  },
  {
   "cell_type": "markdown",
   "metadata": {
    "slideshow": {
     "slide_type": "subslide"
    }
   },
   "source": [
    "## Size\n",
    "\n",
    "Each generation of the GPT family\n",
    "- Increases the number of stacked Transformer blocks\n",
    "- Increases the size of the training data\n",
    "\n"
   ]
  },
  {
   "cell_type": "markdown",
   "metadata": {
    "slideshow": {
     "slide_type": "subslide"
    }
   },
   "source": [
    "The first generation model (called \"GPT\") architecture\n",
    "- $N = 12$ Transformer blocks (stacked)\n",
    "- $d = 768$ (referred to as $d_\\text{model}$ in the paper)\n",
    "    - Recall that $d$ is the size of each position of the Encoder output\n",
    "    - Is also the size of the output of all internal layers\n",
    "- $n_\\text{heads} = 12$\n",
    "    - Recall that Multi-head Attention uses several Attention heads\n",
    "    - On a reduced length transformation of the length $d$ input\n",
    "    - $d_\\text{head} = \\frac{d_\\text{model}} {n_\\text{heads}} = 64$\n",
    "- Feed Forward Network\n",
    "    - Output of Attention layer (size $d_\\text{model}$) connected to\n",
    "    - $4 * d_\\text{model} = 3072$ internal nodes\n",
    "- $\\bar T \\le 512$\n",
    "    - maximum sequence length."
   ]
  },
  {
   "cell_type": "markdown",
   "metadata": {
    "slideshow": {
     "slide_type": "subslide"
    }
   },
   "source": [
    "GPT uses a total of 117 million weights.\n",
    "\n",
    "It is trained on\n",
    "- 5GB of text (BooksCorpus dataset consisting of 7,000 books: 800MM words)\n",
    "- Training time\n",
    "    - 30 days on 8 GPUs\n",
    "    - 26 petaflop-days"
   ]
  },
  {
   "cell_type": "markdown",
   "metadata": {
    "slideshow": {
     "slide_type": "subslide"
    }
   },
   "source": [
    "## Unsupervised Pre-Training\n",
    "\n",
    "The Pre-Training task is to predict the next word in the sequence.\n",
    "\n",
    "The Unsupervised Training objective is to \n",
    "- maximize the likelihood for the \"target\" word (next word in sequence)\n",
    "- maximize log likelihood on $\\mathcal{U}$ (a corpus of tokens)\n",
    "\n",
    "$$\n",
    "\\begin{array}[lll] \\\\\n",
    "\\mathcal{L}_1 ( \\mathcal{U} ) = \\sum_i { \\log{\\pr u_i | u_{i-k}, \\ldots, u_{i-1}} ; \\Theta )} \n",
    "\\end{array}\n",
    "$$"
   ]
  },
  {
   "cell_type": "markdown",
   "metadata": {
    "slideshow": {
     "slide_type": "subslide"
    }
   },
   "source": [
    "The stacked Decoder blocks are described mathematically in the paper as\n",
    "\n",
    "$$\n",
    "\\begin{array}[lll] \\\\\n",
    "h_0 & =  U W_e + W_p  & \\text{concatenate Input Embedding and Positional Encoding}\\\\\n",
    "h_i & =  \\text{transformer_block} ( h_{i-1} ) & \\text{connect output of layer } (i-1) \\text{ to input of layer } i \\\\\n",
    "&& \\text{for }  1 \\le i \\le n & \\\\\n",
    "\\pr{U} & =  \\text{softmax}( h_n  W_e^T ) & \\text{Final output is probability distribution over vocabulary}\\\\\n",
    "& & h_n \\text{ is output of top transformer block} \\\\\n",
    "& & h_n  W_e^T \\text{reverses the embedding to obtain tokens in }U\n",
    "\\end{array}\n",
    "$$\n",
    "where\n",
    "$$ \n",
    "\\begin{array}[lll] \\\\\n",
    "U   & \\text{context of size } k: [ u_{-k}, \\ldots, u_{-1} ] \\\\\n",
    "W_e & \\text{token embedding matrix} \\\\\n",
    "W_p & \\text{position encoding matrix} \\\\\n",
    "h_i & \\text{Output of transformer block } i\\\\ \n",
    "n   & \\text{number of transformer blocks/layers} \\\\\n",
    "\\end{array}\n",
    "$$"
   ]
  },
  {
   "cell_type": "markdown",
   "metadata": {
    "slideshow": {
     "slide_type": "subslide"
    }
   },
   "source": [
    "See [Section 4.1 (\"Model specifications\") of the paper](https://cdn.openai.com/research-covers/language-unsupervised/language_understanding_paper.pdf#page=4) for details of training\n",
    "- Optimizer: AdaM\n",
    "- Learning rate decay\n",
    "- Warmup\n",
    "\n",
    "We briefly introduced these concepts in earlier modules.\n",
    "\n",
    "Hopefully it is somewhat interesting to see them used in practice."
   ]
  },
  {
   "cell_type": "markdown",
   "metadata": {
    "slideshow": {
     "slide_type": "slide"
    }
   },
   "source": [
    "## Supervised Fine Tuning\n",
    "\n",
    "The end-user uses the pre-trained model (architecture and weights)\n",
    "- Trains on a small set  $\\mathcal{C}$ of domain-specific examples for a **Classifiation task** on a sequence of words\n",
    "$$\n",
    "\\begin{array} \\\\\n",
    "\\mathcal{C} & = &[ \\x^\\ip, \\y^\\ip | 1 \\le i \\le || \\mathcal{C} || ]  \\\\\n",
    "& = & \\x^\\ip_{(1)}, \\ldots, \\x^\\ip_{(m)}, \\y^\\ip\n",
    "\\end{array}\n",
    "$$\n",
    "- To fine-tune the weights"
   ]
  },
  {
   "cell_type": "markdown",
   "metadata": {
    "slideshow": {
     "slide_type": "subslide"
    }
   },
   "source": [
    "The process is described mathematical short-hand in the paper by defining the Fine Tuning Objective:\n",
    "- maximize log likelihood on $\\mathcal{C}$\n",
    "$$\n",
    "\\begin{array}[lll] \\\\\n",
    "\\mathcal{L}_2 ( \\mathcal{C} ) = \\sum_{(\\x,\\y)} { \\log \\pr{ \\y | \\x_1, \\ldots, \\x_m } }  \n",
    "& \\text{where }  \\y = \\text{softmax}(h_l^m W_y )\n",
    "\\end{array}\n",
    "$$\n",
    "\n",
    "Let's understand this\n",
    "- Take output of layer $l$ of the model: $h_l^m$\n",
    "    - the $m$ is referring to the length of the input\n",
    "- Add a Classification head specific to the narrow domain\n",
    "    - $\\text{softmax}(h_l^m W_y )$ is the mathematical formula for Logistic Regression\n",
    "- Using weights from unsupervised pre-training"
   ]
  },
  {
   "cell_type": "markdown",
   "metadata": {
    "slideshow": {
     "slide_type": "subslide"
    }
   },
   "source": [
    "The authors also experimented with a Fine Tuning Objective that included the Language Model Pbjective\n",
    "\n",
    "$$\n",
    "\\begin{array}[lll] \\\\\n",
    "\\mathcal{L}_3 ( \\mathcal{C} )  = \\mathcal{L}_2 ( \\mathcal{C} ) + \\lambda \\mathcal{L}_1 ( \\mathcal{C} )\n",
    "\\end{array}\n",
    "$$"
   ]
  },
  {
   "cell_type": "markdown",
   "metadata": {
    "slideshow": {
     "slide_type": "subslide"
    }
   },
   "source": [
    "## Results of Unsupervised Pre-Training + Supervised Fine-Tuning\n",
    "\n",
    "- Tested on 12 tasks\n",
    "- Improved state-of-the-art results on 9 out of the 12"
   ]
  },
  {
   "cell_type": "markdown",
   "metadata": {
    "slideshow": {
     "slide_type": "slide"
    }
   },
   "source": [
    "# GPT 2\n",
    "\n",
    "## GPT-2\n",
    "\n",
    "[paper](https://cdn.openai.com/better-language-models/language_models_are_unsupervised_multitask_learners.pdf)\n",
    "\n",
    "[Model card](https://github.com/openai/gpt-2/blob/master/model_card.md)\n",
    "\n",
    "[Summary](https://openai.com/blog/better-language-models/)\n",
    "\n",
    "Second Generation model."
   ]
  },
  {
   "cell_type": "markdown",
   "metadata": {
    "slideshow": {
     "slide_type": "slide"
    }
   },
   "source": [
    "## Size\n",
    "\n",
    "- $N =48$ Transformer blocks (4 times first generation)\n",
    "- $d = 1536$ (2 times first generation)\n",
    "- $n_\\text{heads} = 16$ (1.5 times first generation)\n",
    "    - $d_\\text{head} = \\frac{d_\\text{model}} {n_\\text{heads}} = 96$\n",
    "- $\\bar T = 1024$ (2 times first generation)"
   ]
  },
  {
   "cell_type": "markdown",
   "metadata": {
    "slideshow": {
     "slide_type": "slide"
    }
   },
   "source": [
    "GPT-2 uses 1.5 billion weights.\n",
    "\n",
    "It is trained on\n",
    "- 40GB of data (10 times the first generation) \n"
   ]
  },
  {
   "cell_type": "markdown",
   "metadata": {
    "slideshow": {
     "slide_type": "slide"
    }
   },
   "source": [
    "## Results on Zero-shot tasks\n",
    "\n",
    "Tested on 8 tasks\n",
    "- State of the art on 7 out of the 8"
   ]
  },
  {
   "cell_type": "markdown",
   "metadata": {
    "slideshow": {
     "slide_type": "slide"
    }
   },
   "source": [
    "# GPT-3\n",
    "\n",
    "Third Generation model.\n",
    "\n",
    "[paper](https://arxiv.org/abs/2005.14165)\n",
    "\n",
    "[Model card](https://github.com/openai/gpt-3/blob/master/model-card.md)\n",
    "\n",
    "[Summary]()\n"
   ]
  },
  {
   "cell_type": "markdown",
   "metadata": {
    "slideshow": {
     "slide_type": "slide"
    }
   },
   "source": [
    "## Size\n",
    "\n",
    "- $N = 96$ Transformer blocks (8 times first generation)\n",
    "- $d = 12,288$ (16 times first generation)\n",
    "- $n_\\text{heads} = 96$ (8 times first generation)\n",
    "    - $d_\\text{head} = \\frac{d_\\text{model}} {n_\\text{heads}} = 128$\n",
    "- $\\bar T = 2048$ (4 times first generation)"
   ]
  },
  {
   "cell_type": "markdown",
   "metadata": {
    "slideshow": {
     "slide_type": "subslide"
    }
   },
   "source": [
    "GPT-3 uses 175 billion weights.\n",
    "\n",
    "It is trained on \n",
    "- 570 GB of data (100 times first generation)\n",
    "- Training cost\n",
    "    - \\$ 42K\n",
    "    - 190K KWh of electricity @\n",
    "    \\\\$ 0.22 per KW hour "
   ]
  },
  {
   "cell_type": "markdown",
   "metadata": {
    "slideshow": {
     "slide_type": "subslide"
    }
   },
   "source": [
    "The training set comes from several sources\n",
    "- [Common Crawl](https://commoncrawl.org/the-data/get-started/)\n",
    "    - web crawler over multiple years\n",
    "    - 570 GB (100 times GPT)\n",
    "    - 410 billion tokens\n",
    "- Additional training sets, for experiments\n",
    "    - [Webtext2](https://d4mucfpksywv.cloudfront.net/better-language-models/language-models.pdf)\n",
    "        - Web pages originating from highly ranked Reddit links\n",
    "        - 19 billion tokens\n",
    "    - Books\n",
    "        - 67 billion tokens\n",
    "    -Wikipedia\n",
    "        - 3 billion tokens"
   ]
  },
  {
   "cell_type": "markdown",
   "metadata": {
    "slideshow": {
     "slide_type": "slide"
    }
   },
   "source": [
    "# GPT-4 (non-official)\n",
    "\n",
    "OpenAI has not released details about the GPT-4 architecture.\n",
    "\n",
    "However, an industry-intelligence firm has compiled a [detailed report](https://www.semianalysis.com/p/gpt-4-architecture-infrastructure) using various sources.\n",
    "\n",
    "This report is **not free**, but information from it has [leaked](https://archive.is/2RQ8X)\n",
    "and we use this speculation as the basis for this section."
   ]
  },
  {
   "cell_type": "markdown",
   "metadata": {
    "slideshow": {
     "slide_type": "subslide"
    }
   },
   "source": [
    "## Size\n",
    "\n",
    "- $N = 120$ Transformer blocks (10 times first generation)\n",
    "- $\\bar T = 32K$ (64 times first generation)"
   ]
  },
  {
   "cell_type": "markdown",
   "metadata": {
    "slideshow": {
     "slide_type": "subslide"
    }
   },
   "source": [
    "GPT-4 uses about $1.8$ trillion parameters.\n",
    "\n",
    "One **cannot** make an apples-to-apples comparison of number of parameters as GPT-4\n",
    "uses a *Mixture of Experts (MOE)* model\n",
    "- 16 experts\n",
    "    - each of size $111$ billion parameters\n",
    "    - each specializes in certain tasks (e.g., areas of knowledge)\n",
    "\n",
    "There are also $55$ billion parameters for attention (the $\\W_Q, \\W_K, \\W_V$ matrices ?)\n",
    "that are shared across experts."
   ]
  },
  {
   "cell_type": "markdown",
   "metadata": {
    "slideshow": {
     "slide_type": "subslide"
    }
   },
   "source": [
    "In an MoE model: **only some of the experts** are active in generating each output token\n",
    "- GPT-4 \"routes\" the work to $2$ of the experts\n",
    "\n",
    "Such models are called *sparse*\n",
    "- only a fraction of the parameters are involved in each output\n",
    "- as opposed to a *dense* model that utilizes all the parameters"
   ]
  },
  {
   "cell_type": "markdown",
   "metadata": {
    "slideshow": {
     "slide_type": "subslide"
    }
   },
   "source": [
    "The advantage of this is *reduced cost of inference*\n",
    "- with $2$ experts\n",
    "$$\n",
    "\\begin{array}\\\\\n",
    "\\text{number of parameters used} & =  \\\\\n",
    "& = & 2 & &\\text{number of experts} \\\\\n",
    "&   &   * &  111 & \\text{billions of parameters per expert} \\\\\n",
    "&   &    + & 55 & \\text{billion shared attention parameters: } \\W_Q, \\W_K, \\W_V \\\\\n",
    "& = & 280 &  & \\text{billions of parameters}\n",
    "\\end{array}\n",
    "$$\n",
    "    - inference cost $560$ TFlops\n",
    "- with 16 experts (Dense model)\n",
    "$$\n",
    "\\begin{array}\\\\\n",
    " ~ & ~ & ~ & ~ \\\\\n",
    "\\text{number of parameters used} & =  & 16 * 111 + 55 \\approx 1.8 &  & \\text{trillions of parameters} \\\\\n",
    "\\end{array}\n",
    "$$\n",
    "    - inference cost $3700$ TFlops"
   ]
  },
  {
   "cell_type": "markdown",
   "metadata": {
    "slideshow": {
     "slide_type": "subslide"
    }
   },
   "source": [
    "GPT-4 is trained on what is called $13$ Trillion tokens\n",
    "- but that is *not* the size of the training set\n",
    "- these are the total number of tokens trained over *multiple* epochs\n",
    "    - 2 epochs for text\n",
    "    - 4 epochs for code"
   ]
  },
  {
   "cell_type": "markdown",
   "metadata": {
    "slideshow": {
     "slide_type": "subslide"
    }
   },
   "source": [
    "The $\\bar T$ (context length) also needs explanation\n",
    "- starts at $8K$ for pre-training\n",
    "- expanded to $32K$ during fine-tuning"
   ]
  },
  {
   "cell_type": "markdown",
   "metadata": {
    "slideshow": {
     "slide_type": "slide"
    }
   },
   "source": [
    "## Cost\n",
    "\n",
    "GPT-4 was trained on 25,000 NVidia A100 GPUs.\n",
    "- cost (per Amazon): \\$10 K/GPU\n",
    "    - \\$250 MM hardware cost\n",
    "        - but is run on Microsoft cloud\n",
    "    - \\$ 1/hour\n",
    "    - 90 to 100 days\n",
    "        $$ \\$ 60 \\text{MM} = 24 \\text{ hours/day} * 100 \\text{ days} * 25000 \\text{ GPU} * \\$1\\text{hour}$$\n",
    "        - Model Flops Utilization (MFU) only $32\\% - 36 \\%$\n",
    "            - GPU *math operations* only active a fraction (max. $60\\%$) of each second\n",
    "                - lots of time waiting for data to be moved into memory (computation is *memory-bound*)\n",
    "            - training: hardware faults, loss plateaus: re-start from checkpoints"
   ]
  },
  {
   "cell_type": "markdown",
   "metadata": {
    "slideshow": {
     "slide_type": "slide"
    }
   },
   "source": [
    "# Evolution of the GPT generations\n",
    "\n",
    "You can see from the following graph how the computation times increase by orders of magnitude over the generations of GPT\n",
    "- GPT-3 small $\\approx$ GPT\n",
    "- GPT-3 XL $\\approx$ GPT-2\n",
    "\n",
    "<table>\n",
    "    <tr>\n",
    "        <th><center>Compute time</center></th>\n",
    "    </tr>\n",
    "    <tr>\n",
    "        <td><img src=\"images/LM_GPT_compute.png\" width=80%></td>\n",
    "    </tr>\n",
    "    <tr>\n",
    "        <td><center>Picture from: https://arxiv.org/pdf/2005.14165.pdf</center></td>\n",
    "    </tr>   \n",
    "</table>"
   ]
  },
  {
   "cell_type": "markdown",
   "metadata": {
    "slideshow": {
     "slide_type": "slide"
    }
   },
   "source": [
    "# Can you compete with GPT ? Why Transfer Learning matters\n",
    "\n",
    "Intellectually: you know (approximately) how to replicate GPT-3.\n",
    "\n",
    "Practically: can you do it ?"
   ]
  },
  {
   "cell_type": "markdown",
   "metadata": {
    "slideshow": {
     "slide_type": "slide"
    }
   },
   "source": [
    "## Scaling up the size of the training set: WebText\n",
    "\n",
    "We argued early in the course that the \"dirty secret\" of Machine Learning was the effort\n",
    "expended in sourcing, cleaning, and pre-processing training data.\n",
    "\n",
    "The GPT project illustrates this.\n",
    "\n",
    "One key to the success of GPT-2 (and later generations) was a newly created training set that was scraped from the Web.\n",
    "\n",
    "The most common web-scraped dataset is [Common Crawl](https://commoncrawl.org/)\n",
    "- large, diversified\n",
    "- quality problems ?\n",
    "    - Large set of pages pointed to are \"gibberish\""
   ]
  },
  {
   "cell_type": "markdown",
   "metadata": {
    "slideshow": {
     "slide_type": "subslide"
    }
   },
   "source": [
    "The GPT team tried to create a high-quality crawl by using a curated approach to links\n",
    "- Based on Reddit\n",
    "- Only follow links originating from highly-ranked (high \"karma\") Reddit pages\n",
    "\n",
    "The result is called WebText\n",
    "- 40GB; 8MM documents\n",
    "- removed any Wikipedia\n",
    "    - since it is included in many of the benchmark tasks whose performance we want to measure out of sample\n"
   ]
  },
  {
   "cell_type": "markdown",
   "metadata": {
    "slideshow": {
     "slide_type": "subslide"
    }
   },
   "source": [
    "From a practical standpoint: \n",
    "- this is a highly labor-intensive step\n",
    "- that **precedes** training\n",
    "\n",
    "Creating a large, quality dataset such as this is a significant impediment to your attempting to create our own model."
   ]
  },
  {
   "cell_type": "markdown",
   "metadata": {
    "slideshow": {
     "slide_type": "slide"
    }
   },
   "source": [
    "## Cost of Training GPT-3 on your own\n",
    "\n",
    "The computational requirements for training a Large Language Model is immense !\n",
    "\n",
    "In the following table observe the \"Total train compute\" cost for models of varying size\n",
    "- in flops (floating point operations)\n",
    "- in Peta Flop (PF) days\n",
    "    - number of days, assuming $10^{15}$ floating point operations per second available, running all day\n",
    "    - can reduce number of days by more hardware (more floating point operations per second)\n",
    "    \n",
    "<img src=\"images/compute_by_model.png\" width=90%>"
   ]
  },
  {
   "cell_type": "markdown",
   "metadata": {
    "slideshow": {
     "slide_type": "subslide"
    }
   },
   "source": [
    "- Amazon Cloud\n",
    "    - G5 instance\n",
    "        - NVidia A10G Tensor Core GPUs @ 250 Tflops/GPU\n",
    "        - 8 GPU instance (2 Pflops) @\\\\$10/hour (with yearly contract; \\\\$16\\hour on-demand)\n",
    "            - \\\\$240 per 2Pflops-day\n",
    "            \n",
    "        \n",
    "- GPT-3 $\\approx$ 3000 Pflop-days\n",
    "    - $ 3000/2 = 1500$ days G5 instances to get 3000 Pflops-days\n",
    "    - Cost = 1500 * \\\\$240/day = \\\\$360K"
   ]
  },
  {
   "cell_type": "markdown",
   "metadata": {
    "slideshow": {
     "slide_type": "slide"
    }
   },
   "source": [
    "## Training: tricks of the trade\n",
    "\n",
    "Training, in practice, involves more than a model and a training set\n",
    "- Using multiple machines/GPU's: expect something to fail in the middle\n",
    "    - necessity to checkpoint and be able to re-start\n",
    "- Loss does not always decrease with increasing epoch\n",
    "    - can speed up computation by using *half-precision* arithmetic (16 versus 32 bits).  Half-size means\n",
    "        - more examples per batch\n",
    "        - fewer bytes transfered\n",
    "        - but limits the size of the smallest number that can be represented \n",
    "            - so the half-precision representation of a non-zero gradient can become zero\n",
    "    - how to recover ?\n",
    "        - Learning rate schedule \"mid-flight corrections\"\n",
    "\n",
    "Some practical lessons are found [here](Training_a_LLM_practical.ipynb)."
   ]
  },
  {
   "cell_type": "markdown",
   "metadata": {
    "slideshow": {
     "slide_type": "subslide"
    }
   },
   "source": [
    "## Can you compete\n",
    "\n",
    "Intellectually: yes.\n",
    "\n",
    "Practically: requires much effort and expense\n",
    "\n",
    "Fortunately, *someone else* often has performed the \n",
    "Unsupervised Pre-Training of a Large Language Model.\n",
    "\n",
    "You may have little choice other than to\n",
    "leverage this effort and\n",
    "only perform the Supervised Fine-Tuning of the Pre-trained model\n",
    "on your specific task."
   ]
  },
  {
   "cell_type": "code",
   "execution_count": 2,
   "metadata": {
    "slideshow": {
     "slide_type": "slide"
    }
   },
   "outputs": [
    {
     "name": "stdout",
     "output_type": "stream",
     "text": [
      "Done\n"
     ]
    }
   ],
   "source": [
    "print(\"Done\")"
   ]
  }
 ],
 "metadata": {
  "celltoolbar": "Slideshow",
  "kernelspec": {
   "display_name": "Python 3",
   "language": "python",
   "name": "python3"
  },
  "language_info": {
   "codemirror_mode": {
    "name": "ipython",
    "version": 3
   },
   "file_extension": ".py",
   "mimetype": "text/x-python",
   "name": "python",
   "nbconvert_exporter": "python",
   "pygments_lexer": "ipython3",
   "version": "3.7.4"
  },
  "toc": {
   "base_numbering": 1,
   "nav_menu": {},
   "number_sections": true,
   "sideBar": true,
   "skip_h1_title": false,
   "title_cell": "Table of Contents",
   "title_sidebar": "Contents",
   "toc_cell": false,
   "toc_position": {
    "height": "calc(100% - 180px)",
    "left": "10px",
    "top": "150px",
    "width": "369.594px"
   },
   "toc_section_display": true,
   "toc_window_display": true
  }
 },
 "nbformat": 4,
 "nbformat_minor": 2
}
