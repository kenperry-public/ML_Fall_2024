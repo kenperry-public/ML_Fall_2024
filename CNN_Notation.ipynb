{
 "cells": [
  {
   "cell_type": "code",
   "execution_count": 1,
   "metadata": {
    "slideshow": {
     "slide_type": "notes"
    }
   },
   "outputs": [
    {
     "data": {
      "text/latex": [
       "$$\n",
       "\\newcommand{\\x}{\\mathbf{x}}\n",
       "\\newcommand{\\tx}{\\tilde{\\x}}\n",
       "\\newcommand{\\y}{\\mathbf{y}}\n",
       "\\newcommand{\\b}{\\mathbf{b}}\n",
       "\\newcommand{\\c}{\\mathbf{c}}\n",
       "\\newcommand{\\e}{\\mathbf{e}}\n",
       "\\newcommand{\\z}{\\mathbf{z}}\n",
       "\\newcommand{\\h}{\\mathbf{h}}\n",
       "\\newcommand{\\u}{\\mathbf{u}}\n",
       "\\newcommand{\\v}{\\mathbf{v}}\n",
       "\\newcommand{\\w}{\\mathbf{w}}\n",
       "\\newcommand{\\V}{\\mathbf{V}}\n",
       "\\newcommand{\\W}{\\mathbf{W}}\n",
       "\\newcommand{\\X}{\\mathbf{X}}\n",
       "\\newcommand{\\KL}{\\mathbf{KL}}\n",
       "\\newcommand{\\E}{{\\mathbb{E}}}\n",
       "\\newcommand{\\Reals}{{\\mathbb{R}}}\n",
       "\\newcommand{\\ip}{\\mathbf{{(i)}}}\n",
       "%\n",
       "% Test set\n",
       "\\newcommand{\\xt}{\\underline{\\x}}\n",
       "\\newcommand{\\yt}{\\underline{\\y}}\n",
       "\\newcommand{\\Xt}{\\underline{\\X}}\n",
       "\\newcommand{\\perfm}{\\mathcal{P}}\n",
       "%\n",
       "% \\ll indexes a layer; we can change the actual letter\n",
       "\\newcommand{\\ll}{l}\n",
       "\\newcommand{\\llp}{{(\\ll)}}\n",
       "%\n",
       "\\newcommand{Thetam}{\\Theta_{-0}}\n",
       "\n",
       "% CNN\n",
       "\\newcommand{\\kernel}{\\mathbf{k}} \n",
       "\\newcommand{\\dim}{d}\n",
       "\\newcommand{\\idxspatial}{{\\text{idx}}}\n",
       "\\newcommand{\\summaxact}{\\text{max}}\n",
       "\\newcommand{idxb}{\\mathbf{i}}\n",
       "%\n",
       "%\n",
       "\n",
       "% RNN\n",
       "% \\tt indexes a time step\n",
       "\\newcommand{\\tt}{t}\n",
       "\\newcommand{\\tp}{{(\\tt)}}\n",
       "%\n",
       "%\n",
       "\n",
       "% LSTM\n",
       "\\newcommand{\\g}{\\mathbf{g}}\n",
       "\\newcommand{\\remember}{\\mathbf{remember}}\n",
       "\\newcommand{\\save}{\\mathbf{save}}\n",
       "\\newcommand{\\focus}{\\mathbf{focus}}\n",
       "%\n",
       "%\n",
       "% NLP\n",
       "\\newcommand{\\Vocab}{\\mathbf{V}}\n",
       "\\newcommand{\\v}{\\mathbf{v}}\n",
       "\\newcommand{\\offset}{o}\n",
       "\\newcommand{\\o}{o}\n",
       "\\newcommand{\\Emb}{\\mathbf{E}}\n",
       "%\n",
       "%\n",
       "\\newcommand{\\loss}{\\mathcal{L}}\n",
       "\\newcommand{\\cost}{\\mathcal{L}}\n",
       "%\n",
       "%                     \n",
       "\\newcommand{\\pdata}{p_\\text{data}}\n",
       "\\newcommand{\\pmodel}{p_\\text{model}}\n",
       "%\n",
       "% SVM\n",
       "\\newcommand{\\margin}{{\\mathbb{m}}}\n",
       "\\newcommand{\\lmk}{\\boldsymbol{\\ell}}\n",
       "%\n",
       "%\n",
       "% Functions with arguments\n",
       "\\def\\xsy#1#2{#1^#2}\n",
       "\\def\\rand#1{\\tilde{#1}}\n",
       "\\def\\randx{\\rand{\\x}}\n",
       "\\def\\randy{\\rand{\\y}}\n",
       "\\def\\trans#1{\\dot{#1}}\n",
       "\\def\\transx{\\trans{\\x}}\n",
       "\\def\\transy{\\trans{\\y}}\n",
       "%\n",
       "\\def\\argmax#1{\\underset{#1} {\\operatorname{argmax}} }\n",
       "\\def\\argmin#1{\\underset{#1} {\\operatorname{argmin}} }\n",
       "\\def\\max#1{\\underset{#1} {\\operatorname{max}} }\n",
       "\\def\\min#1{\\underset{#1} {\\operatorname{min}} }\n",
       "%\n",
       "\\def\\pr#1{\\mathcal{p}(#1)}\n",
       "\\def\\prc#1#2{\\mathcal{p}(#1 \\; | \\; #2)}\n",
       "\\def\\cnt#1{\\mathcal{count}_{#1}}\n",
       "\\def\\node#1{\\mathbb{#1}}\n",
       "%\n",
       "\\def\\loc#1{{\\text{##} {#1}}}\n",
       "%\n",
       "\\def\\OrderOf#1{\\mathcal{O}\\left( {#1} \\right)}\n",
       "%\n",
       "% Expectation operator\n",
       "\\def\\Exp#1{\\underset{#1} {\\operatorname{\\mathbb{E}}} }\n",
       "%\n",
       "% VAE\n",
       "\\def\\prs#1#2{\\mathcal{p}_{#2}(#1)}\n",
       "\\def\\qr#1{\\mathcal{q}(#1)}\n",
       "\\def\\qrs#1#2{\\mathcal{q}_{#2}(#1)}\n",
       "%\n",
       "% Reinforcement learning\n",
       "\\newcommand{\\Actions}{{\\mathcal{A}}} \n",
       "\\newcommand{\\actseq}{A}\n",
       "\\newcommand{\\act}{a}\n",
       "\\newcommand{\\States}{{\\mathcal{S}}}   \n",
       "\\newcommand{\\stateseq}{S}  \n",
       "\\newcommand{\\state}{s}\n",
       "\\newcommand{\\Rewards}{{\\mathcal{R}}}\n",
       "\\newcommand{\\rewseq}{R}\n",
       "\\newcommand{\\rew}{r}\n",
       "\\newcommand{\\transp}{P}\n",
       "\\newcommand{\\statevalfun}{v}\n",
       "\\newcommand{\\actvalfun}{q}\n",
       "\\newcommand{\\disc}{\\gamma}\n",
       "%\n",
       "%\n",
       "\\newcommand{\\floor}[1]{\\left\\lfloor #1 \\right\\rfloor}\n",
       "\\newcommand{\\ceil}[1]{\\left\\lceil #1 \\right\\rceil}\n",
       "%\n",
       "%\n",
       "$$\n"
      ],
      "text/plain": [
       "<IPython.core.display.Latex object>"
      ]
     },
     "metadata": {},
     "output_type": "display_data"
    }
   ],
   "source": [
    "%run Latex_macros.ipynb"
   ]
  },
  {
   "cell_type": "code",
   "execution_count": 2,
   "metadata": {
    "slideshow": {
     "slide_type": "notes"
    }
   },
   "outputs": [],
   "source": [
    "%run beautify_plots.py"
   ]
  },
  {
   "cell_type": "code",
   "execution_count": 3,
   "metadata": {
    "slideshow": {
     "slide_type": "notes"
    }
   },
   "outputs": [],
   "source": [
    "# My standard magic !  You will see this in almost all my notebooks.\n",
    "\n",
    "from IPython.core.interactiveshell import InteractiveShell\n",
    "InteractiveShell.ast_node_interactivity = \"all\"\n",
    "\n",
    "# Reload all modules imported with %aimport\n",
    "%load_ext autoreload\n",
    "%autoreload 1\n",
    "\n",
    "%matplotlib inline"
   ]
  },
  {
   "cell_type": "code",
   "execution_count": 4,
   "metadata": {
    "slideshow": {
     "slide_type": "notes"
    }
   },
   "outputs": [],
   "source": [
    "import pandas as pd\n",
    "import numpy as plt\n",
    "\n",
    "import matplotlib.pyplot as plt\n",
    "\n",
    "import os \n"
   ]
  },
  {
   "cell_type": "markdown",
   "metadata": {
    "slideshow": {
     "slide_type": "slide"
    }
   },
   "source": [
    "# Notation for the CNN layer\n",
    "\n",
    "\n",
    "\n",
    "Layer $\\ll$ in a Sequential NN transforms transforms input $\\y_{(\\ll-1)}$ to output $y_\\llp$\n",
    "- $\\y_\\llp$ is called a *feature map*, for all layers $\\ll$\n",
    "    - for each location in $\\y_{(\\ll-1)}$\n",
    "    - it measures the intensity of the pattern match when the pattern is centered at that location \n",
    "    \n",
    "So we write the input as $\\y_{(\\ll-1)}$ rather than the $\\x$ we had used previously."
   ]
  },
  {
   "cell_type": "markdown",
   "metadata": {
    "slideshow": {
     "slide_type": "subslide"
    }
   },
   "source": [
    "The size of all quantities in the convolution can vary by layer\n",
    "- so we add a parenthesized subscript to indicate the layer\n",
    "\n",
    "We write\n",
    "- the kernel size as $f_\\llp$ (can vary by layer) rather than the $f$ used previously\n",
    "- the collection of kernels for layer $\\ll$ as $\\W_\\llp$"
   ]
  },
  {
   "cell_type": "markdown",
   "metadata": {
    "slideshow": {
     "slide_type": "subslide"
    }
   },
   "source": [
    "In general a layer $\\ll$ output $\\y_\\llp$ will have\n",
    "- $N_\\llp \\gt 0$ non-feature dimensions\n",
    "    - non-feature dimension $i$ has length (number of indices) $d_{\\llp,i}$  indices\n",
    "        - for dimensions $0 \\le i \\lt N_\\llp$\n",
    "    - the set of indexes in dimension $i$ is written as $D_i$\n",
    "        - usually equal to $0, \\ldots, d_{\\llp,i}$\n",
    "- one feature dimension"
   ]
  },
  {
   "cell_type": "markdown",
   "metadata": {
    "slideshow": {
     "slide_type": "subslide"
    }
   },
   "source": [
    "A CNN Layer $\\ll$\n",
    "- preserves the non-feature dimensions (when padding is used)\n",
    "$$\n",
    "\\begin{array} \\\\\n",
    "N_{(\\ll-1)} & = & N_\\llp \\\\\n",
    "d_{(\\ll-1),i} & = & d_{\\llp,i} & 0 \\le i \\lt N_{(\\ll-1)} \\\\\n",
    "\\end{array}\n",
    "$$\n",
    "- changes the length of the feature dimension\n",
    "    - from $n_{(\\ll-1)}$ to $n_\\llp$\n",
    "\n",
    "Thus the shape of the input $\\y_{(\\ll-1)}$ and $\\y_\\llp$ may only differ in the length of the feature dimension\n",
    "- provided padding is used\n",
    "    - in the absence of padding: $\\lfloor \\frac{f_\\llp}{2} \\rfloor$ locations are lost at each boundary\n",
    "\n",
    "Thus the CNN layer $\\ll$\n",
    "\n",
    "$$\n",
    "\\begin{array}\\\\\n",
    "|| \\y_{(\\ll-1)} || & = & (d_{(\\ll-1),0} \\times d_{(\\ll-1),1} \\times \\ldots d_{(\\ll-1), N_{(\\ll-1)}}, & \\mathbf{n_{(\\ll-1)}} ) \\\\\n",
    "|| \\y_\\llp || &  = & (d_{(\\ll-1),0} \\times d_{(\\ll-1),1} \\times \\ldots d_{(\\ll-1),N_{(\\ll-1)}},  &\\mathbf{n_\\llp} )\n",
    "\\end{array}\n",
    "$$\n"
   ]
  },
  {
   "cell_type": "markdown",
   "metadata": {
    "slideshow": {
     "slide_type": "subslide"
    }
   },
   "source": [
    "We write \n",
    "$$\\y_{\\llp, \\idxb, j}$$ \n",
    "to denote feature $j$ of layer $\\ll$ at non-feature dimension location $\\idxb$"
   ]
  },
  {
   "cell_type": "markdown",
   "metadata": {
    "slideshow": {
     "slide_type": "slide"
    }
   },
   "source": [
    "## Channel Last/First\n",
    "\n",
    "We have adopted the convention of using the final dimension as the feature dimension.\n",
    "- This is called *channel last* notation.\n",
    "\n",
    "Alternatively: one could adopt a convention of the first channel being the feature dimension.\n",
    "- This is called *channel first* notation.\n",
    "\n",
    "When using a programming API: make sure you know which notation is the default\n",
    "- Channel last is the default for TensorFlow, but other toolkits may use channel first.\n"
   ]
  },
  {
   "cell_type": "markdown",
   "metadata": {
    "slideshow": {
     "slide_type": "slide"
    }
   },
   "source": [
    "## Kernel, Filter\n",
    "\n",
    "There is one pattern per output feature.\n",
    "\n",
    "A pattern is also called a *kernel*.\n",
    "\n",
    "The kernels of layer $\\ll$ are just the weights of the layer.\n",
    "\n",
    "The vector $\\W_{\\llp,1}$ above\n",
    "\n",
    "So kernel  $j$ ($\\kernel_j$)is just an element $\\W_{\\llp,j}$ of the weights of layer $\\ll$.\n",
    "entered at  $\\y_{(\\ll-1),j,1}$"
   ]
  },
  {
   "cell_type": "markdown",
   "metadata": {
    "slideshow": {
     "slide_type": "subslide"
    }
   },
   "source": [
    "There is one kernel per output feature, so $n_\\llp$ kernels\n",
    "- $\\kernel_{\\llp,1}, \\ldots, \\kernel_{\\llp, n_\\llp}$\n",
    "\n",
    "The length of the feature dimension of a kernel matches it's input, i.e., $n_{(\\ll-1)}$\n",
    "\n",
    "The weight vector $\\W_\\llp$ therefore has multiple dimensions.  Our convention for each dimension is\n",
    "- $\\mathbf{W}_{\\llp, j', \\ldots,j}$\n",
    "    - layer $\\ll$\n",
    "    - output feature $j$\n",
    "    -  location: $\\ldots \\in \\{1,2,3\\}$\n",
    "    - input feature $j'$"
   ]
  },
  {
   "cell_type": "markdown",
   "metadata": {
    "slideshow": {
     "slide_type": "slide"
    }
   },
   "source": [
    "## Padding\n",
    "\n",
    "Convolution centers the pattern at each location of the non-feature dimensions of the input.\n",
    "\n",
    "But what happens when we try to center a patter over the first/last location ?\n",
    "- the pattern may extend beyond the boundaries of the input\n",
    "\n",
    "In such a case, we can choose to *pad* the input\n",
    "- create a special padding input at the locations of the input beyond the original boundary\n",
    "\n",
    "We will see this in pictures below."
   ]
  },
  {
   "cell_type": "markdown",
   "metadata": {
    "slideshow": {
     "slide_type": "slide"
    }
   },
   "source": [
    "## Activation of a CNN layer\n",
    "\n",
    "Just like the Fully Connected layer, a CNN layer is usually paired with an activation.\n",
    "\n",
    "The default activation $a_\\llp$ in Keras is \"linear\"\n",
    "- That is: it returns the dot product input unchanged\n",
    "- Always know what is the default activation for a layer; better yet: always specify !"
   ]
  },
  {
   "cell_type": "code",
   "execution_count": 5,
   "metadata": {
    "slideshow": {
     "slide_type": "slide"
    }
   },
   "outputs": [
    {
     "name": "stdout",
     "output_type": "stream",
     "text": [
      "Done\n"
     ]
    }
   ],
   "source": [
    "print(\"Done\")"
   ]
  }
 ],
 "metadata": {
  "celltoolbar": "Slideshow",
  "kernelspec": {
   "display_name": "Python 3",
   "language": "python",
   "name": "python3"
  },
  "language_info": {
   "codemirror_mode": {
    "name": "ipython",
    "version": 3
   },
   "file_extension": ".py",
   "mimetype": "text/x-python",
   "name": "python",
   "nbconvert_exporter": "python",
   "pygments_lexer": "ipython3",
   "version": "3.7.4"
  },
  "toc": {
   "base_numbering": 1,
   "nav_menu": {},
   "number_sections": true,
   "sideBar": true,
   "skip_h1_title": false,
   "title_cell": "Table of Contents",
   "title_sidebar": "Contents",
   "toc_cell": false,
   "toc_position": {
    "height": "calc(100% - 180px)",
    "left": "10px",
    "top": "150px",
    "width": "370.594px"
   },
   "toc_section_display": true,
   "toc_window_display": true
  }
 },
 "nbformat": 4,
 "nbformat_minor": 2
}
