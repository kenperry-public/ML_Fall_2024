{
 "cells": [
  {
   "cell_type": "code",
   "execution_count": 1,
   "metadata": {
    "slideshow": {
     "slide_type": "notes"
    }
   },
   "outputs": [
    {
     "data": {
      "text/latex": [
       "$$\n",
       "\\newcommand{\\x}{\\mathbf{x}}\n",
       "\\newcommand{\\tx}{\\tilde{\\x}}\n",
       "\\newcommand{\\y}{\\mathbf{y}}\n",
       "\\newcommand{\\b}{\\mathbf{b}}\n",
       "\\newcommand{\\c}{\\mathbf{c}}\n",
       "\\newcommand{\\e}{\\mathbf{e}}\n",
       "\\newcommand{\\z}{\\mathbf{z}}\n",
       "\\newcommand{\\h}{\\mathbf{h}}\n",
       "\\newcommand{\\u}{\\mathbf{u}}\n",
       "\\newcommand{\\v}{\\mathbf{v}}\n",
       "\\newcommand{\\w}{\\mathbf{w}}\n",
       "\\newcommand{\\V}{\\mathbf{V}}\n",
       "\\newcommand{\\W}{\\mathbf{W}}\n",
       "\\newcommand{\\X}{\\mathbf{X}}\n",
       "\\newcommand{\\KL}{\\mathbf{KL}}\n",
       "\\newcommand{\\E}{{\\mathbb{E}}}\n",
       "\\newcommand{\\Reals}{{\\mathbb{R}}}\n",
       "\\newcommand{\\ip}{\\mathbf{{(i)}}}\n",
       "%\n",
       "% Test set\n",
       "\\newcommand{\\xt}{\\underline{\\x}}\n",
       "\\newcommand{\\yt}{\\underline{\\y}}\n",
       "\\newcommand{\\Xt}{\\underline{\\X}}\n",
       "\\newcommand{\\perfm}{\\mathcal{P}}\n",
       "%\n",
       "% \\ll indexes a layer; we can change the actual letter\n",
       "\\newcommand{\\ll}{l}\n",
       "\\newcommand{\\llp}{{(\\ll)}}\n",
       "%\n",
       "\\newcommand{Thetam}{\\Theta_{-0}}\n",
       "\n",
       "% CNN\n",
       "\\newcommand{\\kernel}{\\mathbf{k}} \n",
       "\\newcommand{\\dim}{d}\n",
       "\\newcommand{\\idxspatial}{{\\text{idx}}}\n",
       "\\newcommand{\\summaxact}{\\text{max}}\n",
       "\\newcommand{idxb}{\\mathbf{i}}\n",
       "%\n",
       "%\n",
       "\n",
       "% RNN\n",
       "% \\tt indexes a time step\n",
       "\\newcommand{\\tt}{t}\n",
       "\\newcommand{\\tp}{{(\\tt)}}\n",
       "%\n",
       "%\n",
       "\n",
       "% LSTM\n",
       "\\newcommand{\\g}{\\mathbf{g}}\n",
       "\\newcommand{\\remember}{\\mathbf{remember}}\n",
       "\\newcommand{\\save}{\\mathbf{save}}\n",
       "\\newcommand{\\focus}{\\mathbf{focus}}\n",
       "%\n",
       "%\n",
       "% NLP\n",
       "\\newcommand{\\Vocab}{\\mathbf{V}}\n",
       "\\newcommand{\\v}{\\mathbf{v}}\n",
       "\\newcommand{\\offset}{o}\n",
       "\\newcommand{\\o}{o}\n",
       "\\newcommand{\\Emb}{\\mathbf{E}}\n",
       "%\n",
       "%\n",
       "\\newcommand{\\loss}{\\mathcal{L}}\n",
       "\\newcommand{\\cost}{\\mathcal{L}}\n",
       "%\n",
       "%                     \n",
       "\\newcommand{\\pdata}{p_\\text{data}}\n",
       "\\newcommand{\\pmodel}{p_\\text{model}}\n",
       "%\n",
       "% SVM\n",
       "\\newcommand{\\margin}{{\\mathbb{m}}}\n",
       "\\newcommand{\\lmk}{\\boldsymbol{\\ell}}\n",
       "%\n",
       "%\n",
       "% Functions with arguments\n",
       "\\def\\xsy#1#2{#1^#2}\n",
       "\\def\\rand#1{\\tilde{#1}}\n",
       "\\def\\randx{\\rand{\\x}}\n",
       "\\def\\randy{\\rand{\\y}}\n",
       "\\def\\trans#1{\\dot{#1}}\n",
       "\\def\\transx{\\trans{\\x}}\n",
       "\\def\\transy{\\trans{\\y}}\n",
       "%\n",
       "\\def\\argmax#1{\\underset{#1} {\\operatorname{argmax}} }\n",
       "\\def\\argmin#1{\\underset{#1} {\\operatorname{argmin}} }\n",
       "\\def\\max#1{\\underset{#1} {\\operatorname{max}} }\n",
       "\\def\\min#1{\\underset{#1} {\\operatorname{min}} }\n",
       "%\n",
       "\\def\\pr#1{\\mathcal{p}(#1)}\n",
       "\\def\\prc#1#2{\\mathcal{p}(#1 \\; | \\; #2)}\n",
       "\\def\\cnt#1{\\mathcal{count}_{#1}}\n",
       "\\def\\node#1{\\mathbb{#1}}\n",
       "%\n",
       "\\def\\loc#1{{\\text{##} {#1}}}\n",
       "%\n",
       "\\def\\OrderOf#1{\\mathcal{O}\\left( {#1} \\right)}\n",
       "%\n",
       "% Expectation operator\n",
       "\\def\\Exp#1{\\underset{#1} {\\operatorname{\\mathbb{E}}} }\n",
       "%\n",
       "% VAE\n",
       "\\def\\prs#1#2{\\mathcal{p}_{#2}(#1)}\n",
       "\\def\\qr#1{\\mathcal{q}(#1)}\n",
       "\\def\\qrs#1#2{\\mathcal{q}_{#2}(#1)}\n",
       "%\n",
       "% Reinforcement learning\n",
       "\\newcommand{\\Actions}{{\\mathcal{A}}} \n",
       "\\newcommand{\\actseq}{A}\n",
       "\\newcommand{\\act}{a}\n",
       "\\newcommand{\\States}{{\\mathcal{S}}}   \n",
       "\\newcommand{\\stateseq}{S}  \n",
       "\\newcommand{\\state}{s}\n",
       "\\newcommand{\\Rewards}{{\\mathcal{R}}}\n",
       "\\newcommand{\\rewseq}{R}\n",
       "\\newcommand{\\rew}{r}\n",
       "\\newcommand{\\transp}{P}\n",
       "\\newcommand{\\statevalfun}{v}\n",
       "\\newcommand{\\actvalfun}{q}\n",
       "\\newcommand{\\disc}{\\gamma}\n",
       "%\n",
       "%\n",
       "\\newcommand{\\floor}[1]{\\left\\lfloor #1 \\right\\rfloor}\n",
       "\\newcommand{\\ceil}[1]{\\left\\lceil #1 \\right\\rceil}\n",
       "%\n",
       "%\n",
       "$$\n"
      ],
      "text/plain": [
       "<IPython.core.display.Latex object>"
      ]
     },
     "metadata": {},
     "output_type": "display_data"
    }
   ],
   "source": [
    "%run Latex_macros.ipynb"
   ]
  },
  {
   "cell_type": "markdown",
   "metadata": {
    "slideshow": {
     "slide_type": "notes"
    }
   },
   "source": [
    "$$\n",
    "\\newcommand{\\g}{\\mathbf{g}}\n",
    "\\newcommand{\\remember}{\\mathbf{remember}}\n",
    "\\newcommand{\\save}{\\mathbf{save}}\n",
    "\\newcommand{\\focus}{\\mathbf{focus}}\n",
    "\\newcommand{\\contextcsm}{\\mathcal{c}}\n",
    "\\newcommand{\\querycsm}{\\mathcal{q}}\n",
    "$$"
   ]
  },
  {
   "cell_type": "code",
   "execution_count": 2,
   "metadata": {
    "slideshow": {
     "slide_type": "notes"
    }
   },
   "outputs": [],
   "source": [
    "# My standard magic !  You will see this in almost all my notebooks.\n",
    "\n",
    "from IPython.core.interactiveshell import InteractiveShell\n",
    "InteractiveShell.ast_node_interactivity = \"all\"\n",
    "\n",
    "# Reload all modules imported with %aimport\n",
    "%load_ext autoreload\n",
    "%autoreload 1\n",
    "\n",
    "%matplotlib inline"
   ]
  },
  {
   "cell_type": "code",
   "execution_count": 3,
   "metadata": {
    "slideshow": {
     "slide_type": "notes"
    }
   },
   "outputs": [],
   "source": [
    "%run beautify_plots.py"
   ]
  },
  {
   "cell_type": "code",
   "execution_count": 4,
   "metadata": {
    "slideshow": {
     "slide_type": "notes"
    }
   },
   "outputs": [],
   "source": [
    "import numpy as np\n",
    "import pandas as pd\n",
    "import matplotlib.pyplot as plt\n",
    "\n",
    "import neural_net_helper\n",
    "%aimport neural_net_helper\n",
    "\n",
    "nnh = neural_net_helper.NN_Helper()"
   ]
  },
  {
   "cell_type": "markdown",
   "metadata": {
    "slideshow": {
     "slide_type": "subslide"
    }
   },
   "source": [
    "# From Math to Program\n",
    "\n",
    "Before introducing more advanced layer types (like the LSTM)\n",
    "- we want to provide some simple intuition\n",
    "- for what will appear to be complicated equations that govern these new layer types."
   ]
  },
  {
   "cell_type": "markdown",
   "metadata": {
    "slideshow": {
     "slide_type": "subslide"
    }
   },
   "source": [
    "Neural Networks have the flavor of a Functional Program\n",
    "- A Sequential Model computes the composition of per-layer functions\n",
    "\n",
    "\n",
    "- Layer $\\ll$ is computing a function $\\y_\\llp  = F_\\llp$\n",
    "$$\n",
    "\\begin{array}[lll]\\\\\n",
    "F_\\llp( \\y_{(\\ll-1)}; \\W_\\llp ) = \\y_\\llp \\\\\n",
    "F_\\llp: \\mathcal{R}^{|| \\y_{(\\ll-1)} ||} \\mapsto \\mathcal{R}^{|| \\y_\\llp ||} \\\\\n",
    "\\end{array}\n",
    "$$"
   ]
  },
  {
   "cell_type": "markdown",
   "metadata": {
    "slideshow": {
     "slide_type": "subslide"
    }
   },
   "source": [
    "If we expand $F_\\llp$, we see that it is \n",
    "the $\\ll$-fold composition of functions $F_{(1)}, \\ldots, F_\\llp$\n",
    "$$\n",
    "\\begin{array}[lll]\\\\\n",
    "\\y_\\llp & = & F_\\llp( \\y_{(\\ll-1)}; \\W_\\llp ) \\\\\n",
    "& = &  F_\\llp( \\; F_{(\\ll-1)}( \\y_{(\\ll-2)}; \\,\\W_{(\\ll-1)} ); \\,\\W_\\llp \\;) \\\\\n",
    "& = &  F_\\llp( \\; F_{(\\ll-1)}( \\; F_{(\\ll-2)}( \\y_{(\\ll-3)}; \\,\\W_{(\\ll-2)} ); \\,\\W_{(\\ll-1)} \\;  ); \\W_\\llp \\;) \\\\\n",
    "& = & \\vdots \\\\\n",
    "\\end{array}\n",
    "$$"
   ]
  },
  {
   "cell_type": "markdown",
   "metadata": {
    "slideshow": {
     "slide_type": "subslide"
    }
   },
   "source": [
    "It turns out that it is not too difficult to endow a Neural Network with familiar *imperative* programming constructs\n",
    "- `if` statement\n",
    "- `switch/case` statement\n",
    "\n",
    "This is sometimes called *Neural Programming*.\n",
    "\n",
    "So one way of understanding some complicated equations (e.g., for the LSTM) \n",
    "- is to realize that they are encoding \"soft\" analogs of familiar programming concepts\n"
   ]
  },
  {
   "cell_type": "markdown",
   "metadata": {
    "slideshow": {
     "slide_type": "slide"
    }
   },
   "source": [
    "# Binary switches\n",
    "\n",
    "When we introduced Neural Networks, we argued that their power derived from the ability of Activation Functions\n",
    "- To act like binary \"switches\"\n",
    "- Converting the scalar value computed by the dot product\n",
    "- Into a True/False answer\n",
    "- To the question: \"Is a particular feature present\" ?\n"
   ]
  },
  {
   "cell_type": "markdown",
   "metadata": {
    "slideshow": {
     "slide_type": "subslide"
    }
   },
   "source": [
    "<div>\n",
    "    <center>Step function: binary switch with threshold 0</center>\n",
    "    <br>\n",
    "<img src=images/Step_function_1.jpg>\n",
    "</div>"
   ]
  },
  {
   "cell_type": "markdown",
   "metadata": {
    "slideshow": {
     "slide_type": "subslide"
    }
   },
   "source": [
    "By varying the threshold/bias, we can control the region in which the switch is \"active\""
   ]
  },
  {
   "cell_type": "markdown",
   "metadata": {
    "slideshow": {
     "slide_type": "subslide"
    }
   },
   "source": [
    "<div>\n",
    "    <center>Step function: binary switch with threshold - x^(i)</center>\n",
    "    <br>\n",
    "<img src=images/Step_function_2.jpg>\n",
    "</div>"
   ]
  },
  {
   "cell_type": "markdown",
   "metadata": {
    "slideshow": {
     "slide_type": "subslide"
    }
   },
   "source": [
    "And, in fact, we [showed](Universal_Function_Approximator.ipynb)\n",
    "how to construct a very precise approximation of a binary switch:"
   ]
  },
  {
   "cell_type": "code",
   "execution_count": 5,
   "metadata": {
    "slideshow": {
     "slide_type": "subslide"
    }
   },
   "outputs": [
    {
     "data": {
      "image/png": "[encoded data removed]",
      "text/plain": [
       "<Figure size 720x432 with 1 Axes>"
      ]
     },
     "metadata": {
      "needs_background": "light"
     },
     "output_type": "display_data"
    }
   ],
   "source": [
    "fig, ax = nnh.step_fn_plot()"
   ]
  },
  {
   "cell_type": "markdown",
   "metadata": {
    "slideshow": {
     "slide_type": "slide"
    }
   },
   "source": [
    "# Neurons as statements\n",
    "\n",
    "With the ability to implement a binary switch\n",
    "- We can construct Neural Networks\n",
    "- With elements that look like primitive statements of a programming language"
   ]
  },
  {
   "cell_type": "markdown",
   "metadata": {
    "slideshow": {
     "slide_type": "subslide"
    }
   },
   "source": [
    "Rather than building a true step function\n",
    "- We will settle for the approximation offered by the Sigmoid function $\\sigma$\n"
   ]
  },
  {
   "cell_type": "code",
   "execution_count": 6,
   "metadata": {
    "slideshow": {
     "slide_type": "subslide"
    }
   },
   "outputs": [
    {
     "data": {
      "image/png": "[encoded data removed]",
      "text/plain": [
       "<Figure size 432x288 with 1 Axes>"
      ]
     },
     "metadata": {
      "needs_background": "light"
     },
     "output_type": "display_data"
    }
   ],
   "source": [
    "_= nnh.sigmoid_fn_plot()"
   ]
  },
  {
   "cell_type": "markdown",
   "metadata": {
    "slideshow": {
     "slide_type": "subslide"
    }
   },
   "source": [
    "This is more than laziness or convenience\n",
    "- The step function is **not** differentiable\n",
    "- The sigmoid function **is** differentiable\n",
    "\n",
    "Recall that Gradient Descent is the tool we use to train Neural Networks\n",
    "- Hence it is important that our functions be differentiable !\n",
    "\n",
    "Thus the switches (analogous to conditions in an `if` statement)\n",
    "- Will not output one of True/False\n",
    "- But rather a \"soft\" approximations"
   ]
  },
  {
   "cell_type": "markdown",
   "metadata": {
    "slideshow": {
     "slide_type": "subslide"
    }
   },
   "source": [
    "## \"If\" statements - Gates\n",
    "\n",
    "Suppose we want a Neural Network to\n",
    "- Compute a (vector) output $\\y$\n",
    "- That takes on vector value $T$ if some condition $g$ is `True`\n",
    "- And $F$ otherwise."
   ]
  },
  {
   "cell_type": "markdown",
   "metadata": {
    "slideshow": {
     "slide_type": "subslide"
    }
   },
   "source": [
    "This would be trivial in any programming language having an `if` statement:\n",
    "\n",
    "`if (g):\n",
    "    y = T\n",
    "else:\n",
    "    y = F\n",
    "    `"
   ]
  },
  {
   "cell_type": "markdown",
   "metadata": {
    "slideshow": {
     "slide_type": "subslide"
    }
   },
   "source": [
    "Let's show how to construct the `if` statement with just a little arithmetic.\n",
    "\n",
    "Suppose scalar $g \\in \\{ 0, 1 \\}$ was the value output by a switch.\n",
    "\n",
    "Then \n",
    "$$\n",
    "\\begin{array}[ll]\\\\\n",
    "\\y = (g * \\mathbf{T}) + (1 - g ) * \\mathbf{F} \\\\\n",
    "\\end{array}\n",
    "$$\n",
    "\n",
    "does the trick."
   ]
  },
  {
   "cell_type": "markdown",
   "metadata": {
    "slideshow": {
     "slide_type": "subslide"
    }
   },
   "source": [
    "In general, we tend to compute vectors rather than scalars.\n",
    "\n",
    "Let\n",
    "- $\\g, \\y$ be vectors of equal length\n",
    "- $\\mathbf{T}, \\mathbf{F}$ be vectors of equal length (not necessarily the same as $\\g, \\y$)\n",
    "    - So elements of $\\y$ have length $|| \\mathbf{T} || = || \\mathbf{F} ||$\n",
    " "
   ]
  },
  {
   "cell_type": "markdown",
   "metadata": {
    "slideshow": {
     "slide_type": "subslide"
    }
   },
   "source": [
    "We will construct a \"vector\" `if` statement\n",
    "- Making a conditional choice for *each element* of $\\y$, independently.\n",
    "$$\n",
    "\\y_j = (\\g_j * \\mathbf{T}) + (1 - \\g_j) * \\mathbf{F}\n",
    "$$"
   ]
  },
  {
   "cell_type": "markdown",
   "metadata": {
    "slideshow": {
     "slide_type": "subslide"
    }
   },
   "source": [
    "Letting\n",
    "- $\\otimes$ denote element-wise vector multiplication (*Hadamard product*)\n",
    "- $\\sigma( \\ldots )$ be a sigmoid approximation of a binary switch\n",
    "\n",
    "The following product (almost) does the trick\n",
    "\n",
    "$$\n",
    "\\begin{array}[ll]\\\\\n",
    "\\g = \\sigma( \\ldots ) \\\\\n",
    "\\y = \\g \\otimes \\mathbf{T} + (1 - \\g ) \\otimes \\mathbf{F} \\\\\n",
    "\\end{array}\n",
    "$$"
   ]
  },
  {
   "cell_type": "markdown",
   "metadata": {
    "slideshow": {
     "slide_type": "subslide"
    }
   },
   "source": [
    "It is only \"almost\"\n",
    "- Because the sigmoid only takes a value in the range $[0,1]$\n",
    "- Rather than exactly either $0$ or $1$\n",
    "\n",
    "So $\\g$ is a \"soft\" condition rather than a hard (either True or False) condition.\n",
    "- This means that $\\y$ will be a blend of $\\mathbf{T}$ and $\\mathbf{F}$"
   ]
  },
  {
   "cell_type": "markdown",
   "metadata": {
    "slideshow": {
     "slide_type": "subslide"
    }
   },
   "source": [
    "What we have is\n",
    "- A continuous (soft) decision $\\g$.\n",
    "- That creates a vector `if`\n",
    "- Whose elements are *mixtures* of $\\mathbf{T}$ and $\\mathbf{F}$\n",
    "\n",
    "This is the price we pay for having $\\g$ be differentiable !"
   ]
  },
  {
   "cell_type": "markdown",
   "metadata": {
    "slideshow": {
     "slide_type": "subslide"
    }
   },
   "source": [
    "Note that the individual elements of vector $\\y$ are independent\n",
    "- $\\y_j$ is influenced only by $\\g_j$\n",
    "- The synthetic features represented by $\\y$ are not dependent on one another.\n",
    "- Most importantly: the derivatives of each feature are independent"
   ]
  },
  {
   "cell_type": "markdown",
   "metadata": {
    "slideshow": {
     "slide_type": "subslide"
    }
   },
   "source": [
    "## \"Switch/Case\" statements \n",
    "\n",
    "We can easily generalize from a two-case `if` to a `switch/case` statement with $|| \\mathbf{C} ||$ cases.\n",
    "\n",
    "Suppose we need to set $\\y$ to one value from among multiple choices in $\\mathbf{C}$\n",
    "\n",
    "$$\n",
    "\\begin{array}[ll]\\\\\n",
    "\\g = \\text{softmax}( \\ldots ) \\\\\n",
    "\\y = \\g \\otimes \\mathbf{C}  \\\\\n",
    "\\end{array}\n",
    "$$"
   ]
  },
  {
   "cell_type": "markdown",
   "metadata": {
    "slideshow": {
     "slide_type": "subslide"
    }
   },
   "source": [
    "The *softmax* function\n",
    "- Was introduced in Multinomial Classification\n",
    "- Computes a vector (of length $|| C ||$) values\n",
    "- With each element being in the range $[0,1]$\n",
    "- And summing to $1$\n",
    "\n",
    "\n",
    "We refer to $\\g$ as a *mask* for $\\mathbf{C}$."
   ]
  },
  {
   "cell_type": "markdown",
   "metadata": {
    "slideshow": {
     "slide_type": "subslide"
    }
   },
   "source": [
    "\n",
    "The `if` statement is a special case of the `switch/case` statement where\n",
    "\n",
    "$$\n",
    "\\mathbf{C} = \\left[\n",
    " \\begin{matrix}\n",
    "    \\mathbf{T}  \\\\\n",
    "    \\mathbf{F}\n",
    " \\end{matrix} \n",
    " \\right] \\\\\n",
    "$$\n"
   ]
  },
  {
   "cell_type": "markdown",
   "metadata": {
    "slideshow": {
     "slide_type": "subslide"
    }
   },
   "source": [
    "## Soft Lookup\n",
    "\n",
    "The \"approximate case\" statement we created has an interesting application:\n",
    "- A lookup table (`dict` in Python) that does soft matching\n",
    "\n",
    "Whereas an ordinary `dict` in Python returns an undefined value when the query key $q$ does not match any key in the dictionary\n",
    "- A soft lookup table $M$ (*context sensitive memory*) returns a *weighted sum* of the values associated with all keys\n",
    "\n",
    "Details can be found [here](Context_Sensitive_Memory.ipynb)"
   ]
  },
  {
   "cell_type": "markdown",
   "metadata": {
    "slideshow": {
     "slide_type": "slide"
    }
   },
   "source": [
    "# Conclusion\n",
    "\n",
    "We wanted to show that, in concept\n",
    "- We could create the logic of a simple imperative program\n",
    "- Using the machinery of Neural Networks"
   ]
  },
  {
   "cell_type": "markdown",
   "metadata": {
    "slideshow": {
     "slide_type": "subslide"
    }
   },
   "source": [
    "The only catch was\n",
    "- We cannot use true binary logic (hard decisions)\n",
    "- All choices are *soft*\n",
    "- In order to preserve differentiability\n",
    "- Which is necessary for training with Gradient Descent"
   ]
  },
  {
   "cell_type": "markdown",
   "metadata": {
    "slideshow": {
     "slide_type": "subslide"
    }
   },
   "source": [
    "This background will facilitate our explanation of more advanced Layer types."
   ]
  },
  {
   "cell_type": "code",
   "execution_count": 7,
   "metadata": {
    "slideshow": {
     "slide_type": "slide"
    }
   },
   "outputs": [
    {
     "name": "stdout",
     "output_type": "stream",
     "text": [
      "Done\n"
     ]
    }
   ],
   "source": [
    "print(\"Done\")"
   ]
  }
 ],
 "metadata": {
  "celltoolbar": "Slideshow",
  "kernelspec": {
   "display_name": "Python 3",
   "language": "python",
   "name": "python3"
  },
  "language_info": {
   "codemirror_mode": {
    "name": "ipython",
    "version": 3
   },
   "file_extension": ".py",
   "mimetype": "text/x-python",
   "name": "python",
   "nbconvert_exporter": "python",
   "pygments_lexer": "ipython3",
   "version": "3.7.4"
  },
  "toc": {
   "base_numbering": 1,
   "nav_menu": {},
   "number_sections": true,
   "sideBar": true,
   "skip_h1_title": false,
   "title_cell": "Table of Contents",
   "title_sidebar": "Contents",
   "toc_cell": false,
   "toc_position": {
    "height": "calc(100% - 180px)",
    "left": "10px",
    "top": "150px",
    "width": "370.594px"
   },
   "toc_section_display": true,
   "toc_window_display": true
  }
 },
 "nbformat": 4,
 "nbformat_minor": 2
}
