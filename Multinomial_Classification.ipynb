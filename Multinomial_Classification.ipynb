{
 "cells": [
  {
   "cell_type": "code",
   "execution_count": 1,
   "metadata": {
    "slideshow": {
     "slide_type": "notes"
    }
   },
   "outputs": [
    {
     "data": {
      "text/latex": [
       "$$\n",
       "\\newcommand{\\x}{\\mathbf{x}}\n",
       "\\newcommand{\\tx}{\\tilde{\\x}}\n",
       "\\newcommand{\\y}{\\mathbf{y}}\n",
       "\\newcommand{\\b}{\\mathbf{b}}\n",
       "\\newcommand{\\c}{\\mathbf{c}}\n",
       "\\newcommand{\\e}{\\mathbf{e}}\n",
       "\\newcommand{\\z}{\\mathbf{z}}\n",
       "\\newcommand{\\h}{\\mathbf{h}}\n",
       "\\newcommand{\\u}{\\mathbf{u}}\n",
       "\\newcommand{\\v}{\\mathbf{v}}\n",
       "\\newcommand{\\w}{\\mathbf{w}}\n",
       "\\newcommand{\\V}{\\mathbf{V}}\n",
       "\\newcommand{\\W}{\\mathbf{W}}\n",
       "\\newcommand{\\X}{\\mathbf{X}}\n",
       "\\newcommand{\\KL}{\\mathbf{KL}}\n",
       "\\newcommand{\\E}{{\\mathbb{E}}}\n",
       "\\newcommand{\\Reals}{{\\mathbb{R}}}\n",
       "\\newcommand{\\ip}{\\mathbf{{(i)}}}\n",
       "%\n",
       "% Test set\n",
       "\\newcommand{\\xt}{\\underline{\\x}}\n",
       "\\newcommand{\\yt}{\\underline{\\y}}\n",
       "\\newcommand{\\Xt}{\\underline{\\X}}\n",
       "\\newcommand{\\perfm}{\\mathcal{P}}\n",
       "%\n",
       "% \\ll indexes a layer; we can change the actual letter\n",
       "\\newcommand{\\ll}{l}\n",
       "\\newcommand{\\llp}{{(\\ll)}}\n",
       "%\n",
       "\\newcommand{Thetam}{\\Theta_{-0}}\n",
       "\n",
       "% CNN\n",
       "\\newcommand{\\kernel}{\\mathbf{k}} \n",
       "\\newcommand{\\dim}{d}\n",
       "\\newcommand{\\idxspatial}{{\\text{idx}}}\n",
       "\\newcommand{\\summaxact}{\\text{max}}\n",
       "\\newcommand{idxb}{\\mathbf{i}}\n",
       "%\n",
       "%\n",
       "\n",
       "% RNN\n",
       "% \\tt indexes a time step\n",
       "\\newcommand{\\tt}{t}\n",
       "\\newcommand{\\tp}{{(\\tt)}}\n",
       "%\n",
       "%\n",
       "\n",
       "% LSTM\n",
       "\\newcommand{\\g}{\\mathbf{g}}\n",
       "\\newcommand{\\remember}{\\mathbf{remember}}\n",
       "\\newcommand{\\save}{\\mathbf{save}}\n",
       "\\newcommand{\\focus}{\\mathbf{focus}}\n",
       "%\n",
       "%\n",
       "% NLP\n",
       "\\newcommand{\\Vocab}{\\mathbf{V}}\n",
       "\\newcommand{\\v}{\\mathbf{v}}\n",
       "\\newcommand{\\offset}{o}\n",
       "\\newcommand{\\o}{o}\n",
       "\\newcommand{\\Emb}{\\mathbf{E}}\n",
       "%\n",
       "%\n",
       "\\newcommand{\\loss}{\\mathcal{L}}\n",
       "\\newcommand{\\cost}{\\mathcal{L}}\n",
       "%\n",
       "%                     \n",
       "\\newcommand{\\pdata}{p_\\text{data}}\n",
       "\\newcommand{\\pmodel}{p_\\text{model}}\n",
       "%\n",
       "% SVM\n",
       "\\newcommand{\\margin}{{\\mathbb{m}}}\n",
       "\\newcommand{\\lmk}{\\boldsymbol{\\ell}}\n",
       "%\n",
       "%\n",
       "% Functions with arguments\n",
       "\\def\\xsy#1#2{#1^#2}\n",
       "\\def\\rand#1{\\tilde{#1}}\n",
       "\\def\\randx{\\rand{\\x}}\n",
       "\\def\\randy{\\rand{\\y}}\n",
       "\\def\\trans#1{\\dot{#1}}\n",
       "\\def\\transx{\\trans{\\x}}\n",
       "\\def\\transy{\\trans{\\y}}\n",
       "%\n",
       "\\def\\argmax#1{\\underset{#1} {\\operatorname{argmax}} }\n",
       "\\def\\argmin#1{\\underset{#1} {\\operatorname{argmin}} }\n",
       "\\def\\max#1{\\underset{#1} {\\operatorname{max}} }\n",
       "\\def\\min#1{\\underset{#1} {\\operatorname{min}} }\n",
       "%\n",
       "\\def\\pr#1{\\mathcal{p}(#1)}\n",
       "\\def\\prc#1#2{\\mathcal{p}(#1 \\; | \\; #2)}\n",
       "\\def\\cnt#1{\\mathcal{count}_{#1}}\n",
       "\\def\\node#1{\\mathbb{#1}}\n",
       "%\n",
       "\\def\\loc#1{{\\text{##} {#1}}}\n",
       "%\n",
       "\\def\\OrderOf#1{\\mathcal{O}\\left( {#1} \\right)}\n",
       "%\n",
       "% Expectation operator\n",
       "\\def\\Exp#1{\\underset{#1} {\\operatorname{\\mathbb{E}}} }\n",
       "%\n",
       "% VAE\n",
       "\\def\\prs#1#2{\\mathcal{p}_{#2}(#1)}\n",
       "\\def\\qr#1{\\mathcal{q}(#1)}\n",
       "\\def\\qrs#1#2{\\mathcal{q}_{#2}(#1)}\n",
       "%\n",
       "% Reinforcement learning\n",
       "\\newcommand{\\Actions}{{\\mathcal{A}}} \n",
       "\\newcommand{\\actseq}{A}\n",
       "\\newcommand{\\act}{a}\n",
       "\\newcommand{\\States}{{\\mathcal{S}}}   \n",
       "\\newcommand{\\stateseq}{S}  \n",
       "\\newcommand{\\state}{s}\n",
       "\\newcommand{\\Rewards}{{\\mathcal{R}}}\n",
       "\\newcommand{\\rewseq}{R}\n",
       "\\newcommand{\\rew}{r}\n",
       "\\newcommand{\\transp}{P}\n",
       "\\newcommand{\\statevalfun}{v}\n",
       "\\newcommand{\\actvalfun}{q}\n",
       "\\newcommand{\\disc}{\\gamma}\n",
       "%\n",
       "%\n",
       "\\newcommand{\\floor}[1]{\\left\\lfloor #1 \\right\\rfloor}\n",
       "\\newcommand{\\ceil}[1]{\\left\\lceil #1 \\right\\rceil}\n",
       "%\n",
       "%\n",
       "$$\n"
      ],
      "text/plain": [
       "<IPython.core.display.Latex object>"
      ]
     },
     "metadata": {},
     "output_type": "display_data"
    }
   ],
   "source": [
    "%run Latex_macros.ipynb\n",
    "%run beautify_plots.py"
   ]
  },
  {
   "cell_type": "markdown",
   "metadata": {
    "slideshow": {
     "slide_type": "notes"
    }
   },
   "source": [
    "$$\n",
    "\\newcommand{\\o}{\\mathbf{o}}\n",
    "$$\n"
   ]
  },
  {
   "cell_type": "code",
   "execution_count": 2,
   "metadata": {
    "slideshow": {
     "slide_type": "notes"
    }
   },
   "outputs": [],
   "source": [
    "# My standard magic !  You will see this in almost all my notebooks.\n",
    "\n",
    "from IPython.core.interactiveshell import InteractiveShell\n",
    "InteractiveShell.ast_node_interactivity = \"all\"\n",
    "\n",
    "# Reload all modules imported with %aimport\n",
    "%load_ext autoreload\n",
    "%autoreload 1\n",
    "%matplotlib inline"
   ]
  },
  {
   "cell_type": "code",
   "execution_count": 3,
   "metadata": {
    "slideshow": {
     "slide_type": "notes"
    }
   },
   "outputs": [],
   "source": [
    "# Standard imports\n",
    "import pandas as pd\n",
    "import numpy as np\n",
    "import matplotlib.pyplot as plt\n",
    "\n",
    "# Common imports\n",
    "import os\n",
    "\n",
    "import mnist_helper\n",
    "%aimport mnist_helper\n",
    "\n",
    "mnh = mnist_helper.MNIST_Helper()\n",
    "\n",
    "import class_helper\n",
    "%aimport class_helper\n",
    "\n",
    "clh= class_helper.Classification_Helper()\n",
    "\n",
    "import training_models_helper as tmh\n",
    "%aimport training_models_helper\n",
    "\n",
    "tm = tmh.TrainingModelsHelper()\n",
    "\n",
    "num_head=5"
   ]
  },
  {
   "cell_type": "code",
   "execution_count": 4,
   "metadata": {
    "slideshow": {
     "slide_type": "notes"
    }
   },
   "outputs": [],
   "source": [
    "from sklearn.model_selection import train_test_split, cross_val_score\n",
    "from sklearn import linear_model, preprocessing, model_selection \n",
    "from sklearn.preprocessing import OneHotEncoder\n",
    "from sklearn.metrics import accuracy_score\n",
    "from sklearn.compose import ColumnTransformer\n",
    "from sklearn.pipeline import Pipeline\n",
    "from sklearn.impute import SimpleImputer \n",
    "from sklearn.base import BaseEstimator, TransformerMixin"
   ]
  },
  {
   "cell_type": "markdown",
   "metadata": {
    "slideshow": {
     "slide_type": "slide"
    }
   },
   "source": [
    "#  Multinomial Classification: from binary to many classes\n",
    "\n",
    "What if our targets come from a class $C$  with more than two discrete values ?\n",
    "\n",
    "$$\n",
    "C = \\{ c_1, \\ldots, c_\\text{#C} \\}\n",
    "$$\n",
    "\n",
    "where $|| C || > 2$\n",
    "\n",
    "\n",
    "This is called *Multinomial Classification*"
   ]
  },
  {
   "cell_type": "markdown",
   "metadata": {
    "slideshow": {
     "slide_type": "subslide"
    }
   },
   "source": [
    "Some models (e.g. Decision Trees) can handle Multinomial classification directly.\n",
    "\n",
    "For those that don't, we adapt the approach used for Binary Classification.\n",
    "\n",
    "Since the target for Classification is Categorical\n",
    "- we turned the Binary Classification task\n",
    "- into the task of *predicting the probability* that the example's target is Positive"
   ]
  },
  {
   "cell_type": "markdown",
   "metadata": {
    "slideshow": {
     "slide_type": "subslide"
    }
   },
   "source": [
    "When the number of classes is greater than $2$\n",
    "- we turn the Multinomial Classification task \n",
    "- into the task of computing a *probability vector* $\\mathbf{p}^\\ip$ of length $\\text{#C}$\n",
    "\n",
    "$$\n",
    "\\mathbf{p}^\\ip_j = \\text{Probability that example } i \\text{ is in class } C_j\n",
    "$$\n"
   ]
  },
  {
   "cell_type": "markdown",
   "metadata": {
    "slideshow": {
     "slide_type": "subslide"
    }
   },
   "source": [
    "**Aside**\n",
    "\n",
    "In Logistic Regression\n",
    "- we used a Linear Model for the *score* (logit)\n",
    "\n",
    "$$\n",
    "s= \\Theta^T \\x\n",
    "$$\n",
    "\n",
    "\n",
    "- and used the sigmoid to convert it into a probability\n",
    "\n",
    "$$\n",
    "\\hat{p} = \\sigma( \\Theta^T \\x)\n",
    "$$\n",
    "\n",
    "Our approach for Multinomial Classification will be similar\n",
    "- predict a *vector* of scores/logits\n",
    "    - $s_j$ is the score for class $c_j$\n",
    "- convert the vector of scores into a *probability vector* $\\hat{\\mathbf{p}}$\n",
    "$$\n",
    "\\sum_{j=1}^\\text{#C} \\hat{\\mathbf{p}}_j = 1\n",
    "$$"
   ]
  },
  {
   "cell_type": "markdown",
   "metadata": {
    "slideshow": {
     "slide_type": "subslide"
    }
   },
   "source": [
    "Note that *true* target/label $\\mathbf{p}^\\ip$\n",
    "- has all the probability mass concentrated at a single class\n",
    "\n",
    "But *predicted* probability vector $\\hat{\\mathbf{p}}^\\ip$\n",
    "- may have non-zero probabilities at more than one class\n",
    "\n",
    "Classification asks us to output a choice in $C$ rather than a probability distribution over $C$"
   ]
  },
  {
   "cell_type": "markdown",
   "metadata": {
    "slideshow": {
     "slide_type": "subslide"
    }
   },
   "source": [
    "So the final step of Multinomial Classification\n",
    "- usually converts the predicted probability vector $\\hat{\\mathbf{p}}$\n",
    "- into a single choice in $C$\n",
    "- choice is often either of\n",
    "    - $c_k$ where $\\hat{\\mathbf{p}}_k$ is largest\n",
    "    $$\\argmax{k} \\hat{\\mathbf{p}}_k$$ \n",
    "    - sample $k$ from distribution $\\hat{\\mathbf{p}}$\n",
    " "
   ]
  },
  {
   "cell_type": "markdown",
   "metadata": {
    "slideshow": {
     "slide_type": "slide"
    }
   },
   "source": [
    "## Multinomial classification using multiple binary classifiers\n",
    "\n",
    "### One versus all\n",
    "\n",
    "The One versus All (OvA) method creates $||C||$ binary classifiers\n",
    "- One for each $c \\in C$\n",
    "- The classifier for class $c$ identifies \n",
    "    - Positive examples as those having target $c$\n",
    "    - Negative examples as those having targets other than $c$"
   ]
  },
  {
   "cell_type": "markdown",
   "metadata": {
    "slideshow": {
     "slide_type": "subslide"
    }
   },
   "source": [
    "For the binary classifier for class $c$, let\n",
    "- $\\hat{p}^{c} (\\x)$  denote the prediction of example $\\x$ being Positive (i.e., class $c$) made by this binary classifier\n",
    "\n",
    "We can combine the individual binary predictions into a single probability vector $\\hat\\y$\n"
   ]
  },
  {
   "cell_type": "markdown",
   "metadata": {
    "slideshow": {
     "slide_type": "subslide"
    }
   },
   "source": [
    "Note that the sum of probabilities across independent binary classifiers may not equal $1$.\n",
    "\n",
    "We need to normalize the individual probabilities to create the OvA prediction vector\n",
    "\n",
    "$$\n",
    "\\hat{\\y}_c (\\x) = \\frac{ \\hat{p}^{c} (\\x) } { \\sum_{c' \\in C} {  \\hat{p}^{c'} (\\x)} }\n",
    "$$\n",
    "\n",
    "That is: it normalizes the probabilities so that they sum to $1$ for each example.\n",
    "\n",
    "**Note**\n",
    "\n",
    "We have abused notation by using class $c$ as a subscript of $\\hat{\\y}, \\hat{p}$ rather than the integer\n",
    "$j$, where $c$ is the $j^{th}$ class in $C$."
   ]
  },
  {
   "cell_type": "markdown",
   "metadata": {
    "slideshow": {
     "slide_type": "subslide"
    }
   },
   "source": [
    "Note that the **binary classifier for each class $c$ has it's own parameters $\\Theta_c$**.\n",
    "\n",
    "- So the number of parameters in the $\\Theta$ for the OvA classifier is $||C||$ times as big\n",
    "as the number of parameters for a single classifier.\n",
    "\n",
    "Let's be clear on the number of coefficients estimated in One versus All:\n",
    "\n",
    "For the digit classification problem where there are $C = 10$ classes\n",
    "the number of of parameters is *10 times* that of a binary classifier.\n",
    "\n",
    "Fortunately, `sklearn` hides all of this from you.\n",
    "\n",
    "What you *should* realize is that $||C||$ models are being fit, each with it's own parameters."
   ]
  },
  {
   "cell_type": "markdown",
   "metadata": {
    "slideshow": {
     "slide_type": "subslide"
    }
   },
   "source": [
    "### One versus one\n",
    "\n",
    "The One versus One (OvO) method creates $\\frac{||C|| * (||C|| -1 )}{2}$ binary classifiers\n",
    "- one for each pair $c, c'$ of distinct values in $C$\n",
    "- the classifier for pair $c, c'$ identifies \n",
    "    - Positive examples as those having target $c$\n",
    "    - Negative examples as those having targets $c'$\n",
    "\n",
    "Essentially, OvO creates a \"competition\" between pairs of classes for a given example $\\x$\n",
    "- the class that \"wins\" most often is chosen as the predicted class for the OvO classifier on example $\\x$\n",
    " "
   ]
  },
  {
   "cell_type": "markdown",
   "metadata": {
    "slideshow": {
     "slide_type": "slide"
    }
   },
   "source": [
    "## Softmax\n",
    "\n",
    "As an alternative to normalizing the individual probabilities of the per-class Binary Classifiers\n",
    "- we can produce a vector of scores/logits\n",
    "- normalize the score vector\n",
    "\n",
    "The Multinomial generalization of Sigmoid is the *Softmax* function\n",
    "\n",
    "$$\n",
    "\\hat\\y_c(\\x) = \\frac{\\exp( s^{c}(\\x) )}  { \\sum_{c \\in C} {\\exp( s^{c}(\\x) )}}\n",
    "$$\n",
    "where $s^{c}(\\x)$ is the score predicted by the Binary classifier for class $c$"
   ]
  },
  {
   "cell_type": "markdown",
   "metadata": {
    "slideshow": {
     "slide_type": "subslide"
    }
   },
   "source": [
    "\n",
    "By exponentiating the score, the softmax magnifies small differences in scores into larger\n",
    "difference in probability.\n",
    "\n",
    "To illustrate: suppose we have two relatively close scores $s^c, s^{c'}$ such that\n",
    "$$\n",
    "\\frac{s^c}{s^{c'}} = M \\approx 1\n",
    "$$\n",
    "\n",
    "- If we normalize scores by dividing a score by the sum (across all scores)\n",
    "    - $\\frac{\\hat{\\y}_c }{\\hat{\\y}_{c'}}= M $\n",
    "- If we normalize by softmax\n",
    "    - $\\frac{\\hat{\\y}_c }{\\hat{\\y}_{c'}} = \\frac{\\exp(M \\hat{s}_{c'})}{\\exp(\\hat{s}^{c'})} = \\exp(\\hat{s}_{c'} (M-1))$"
   ]
  },
  {
   "cell_type": "markdown",
   "metadata": {
    "slideshow": {
     "slide_type": "slide"
    }
   },
   "source": [
    "## Multinomial classification by generalizing the loss function\n",
    "\n",
    "We will deal with the loss functions, both for Binary and Multinomial Classification\n",
    "in a separate module.\n",
    "- For Binary Classification: the loss function is called Binary Cross Entropy\n",
    "- The generalization of the loss function to Multinomial Classification is called *Cross Entropy*"
   ]
  },
  {
   "cell_type": "markdown",
   "metadata": {
    "slideshow": {
     "slide_type": "slide"
    }
   },
   "source": [
    "# Multinomial classification example: MNIST digit classifier\n",
    "\n",
    "Remember the digit classifier using KNN from our introductory lecture ?\n",
    "\n",
    "We criticized the model as being one of excessive template matching: one template per training example.\n",
    "\n",
    "We can now use Logistic Regression to obtain a classifier with *many* fewer parameters.\n",
    "\n",
    "It will also have the benefit of helping us *interpret* **how** the classifier is making its predictions.\n",
    "\n",
    "We won't go into interpretation until a later lecture, but for now: a preview of coming attractions.\n",
    "\n",
    "\n"
   ]
  },
  {
   "cell_type": "markdown",
   "metadata": {
    "slideshow": {
     "slide_type": "subslide"
    }
   },
   "source": [
    "Let's fetch the data and visualize it."
   ]
  },
  {
   "cell_type": "code",
   "execution_count": 5,
   "metadata": {
    "slideshow": {
     "slide_type": "subslide"
    }
   },
   "outputs": [
    {
     "name": "stdout",
     "output_type": "stream",
     "text": [
      "Retrieving MNIST_784 from cache\n"
     ]
    },
    {
     "data": {
      "image/png": "[encoded data removed]",
      "text/plain": [
       "<Figure size 720x720 with 25 Axes>"
      ]
     },
     "execution_count": 5,
     "metadata": {},
     "output_type": "execute_result"
    },
    {
     "data": {
      "image/png": "[encoded data removed]",
      "text/plain": [
       "<Figure size 720x720 with 25 Axes>"
      ]
     },
     "metadata": {
      "needs_background": "light"
     },
     "output_type": "display_data"
    }
   ],
   "source": [
    "mnh.setup()\n",
    "mnh.visualize()"
   ]
  },
  {
   "cell_type": "code",
   "execution_count": 6,
   "metadata": {
    "slideshow": {
     "slide_type": "subslide"
    }
   },
   "outputs": [
    {
     "name": "stdout",
     "output_type": "stream",
     "text": [
      "Training set: X shape=(5000, 784), y shape: (5000,)\n",
      "Training labels: y is of type <class 'str'>\n"
     ]
    }
   ],
   "source": [
    "print(\"Training set: X shape={xs}, y shape: {ys}\".format(xs=mnh.X_train.shape, ys=mnh.y_train.shape) )\n",
    "print(\"Training labels: y is of type {t}\".format(t=type(mnh.y_train[0]) ) )"
   ]
  },
  {
   "cell_type": "markdown",
   "metadata": {
    "slideshow": {
     "slide_type": "subslide"
    }
   },
   "source": [
    "The training set $\\X$ consists of 5000 examples, each having 784 features.\n",
    "\n",
    "The 784 features are pixel intensity values (1=white, 0=black),  visualized as a $(28 \\times 28)$ image.\n",
    "\n",
    "Importantly, the labels (targets) are strings, i.e, string \"0\" rather than integer 0.\n",
    "$$\n",
    "C = \\{ \"0\", \"1\", \\ldots, \"9\" \\}\n",
    "$$\n",
    "\n",
    "Let's fit a Logistic Regression model."
   ]
  },
  {
   "cell_type": "code",
   "execution_count": 7,
   "metadata": {
    "slideshow": {
     "slide_type": "subslide"
    }
   },
   "outputs": [],
   "source": [
    "mnist_lr = mnh.fit()"
   ]
  },
  {
   "cell_type": "markdown",
   "metadata": {
    "slideshow": {
     "slide_type": "subslide"
    }
   },
   "source": [
    "How did we do, i.e., what was the Performance Metric ?"
   ]
  },
  {
   "cell_type": "code",
   "execution_count": 8,
   "metadata": {
    "slideshow": {
     "slide_type": "subslide"
    }
   },
   "outputs": [
    {
     "name": "stdout",
     "output_type": "stream",
     "text": [
      "Test score with l2 penalty:0.87\n",
      "Sparsity with l2 penalty: 16.07.\n"
     ]
    }
   ],
   "source": [
    "clf = mnh.clf\n",
    "score = clf.score(mnh.X_test, mnh.y_test)\n",
    "\n",
    "# How many zero coefficients were forced by the penalty ?\n",
    "sparsity = np.mean(clf.coef_ == 0) * 100\n",
    "\n",
    "print(\"Test score with {p} penalty:{s:.2f}\".format(p=clf.penalty, s=score) )\n",
    "print(\"Sparsity with {p} penalty: {s:.2f}.\".format(p=clf.penalty, s=sparsity) )"
   ]
  },
  {
   "cell_type": "markdown",
   "metadata": {
    "slideshow": {
     "slide_type": "subslide"
    }
   },
   "source": [
    "We achieved an accuracy on the Test set of about 88%.\n",
    "\n",
    "Is this good ?  We'll probe that question in a later lecture.\n",
    "\n",
    "For now: it sounds pretty good, but\n",
    "- In a Test set with equal quantities of each digit\n",
    "- We could get *all* instances of a single digit wrong and still achieve 90% accuracy !\n",
    "- **Lesson**: absolute numbers are misleading"
   ]
  },
  {
   "cell_type": "markdown",
   "metadata": {
    "slideshow": {
     "slide_type": "slide"
    }
   },
   "source": [
    "## Count the parameters ! \n",
    "\n",
    "It is surprisingly easy to wind up with a lot of parameters in Multinomial Classification.\n",
    "\n",
    "**Always count the number of paramters**\n",
    "- to avoid overfitting\n",
    "\n",
    "How many parameters did we fit (i.e., what is the size of $\\Theta$) ?"
   ]
  },
  {
   "cell_type": "code",
   "execution_count": 9,
   "metadata": {
    "slideshow": {
     "slide_type": "subslide"
    }
   },
   "outputs": [
    {
     "name": "stdout",
     "output_type": "stream",
     "text": [
      "The classifier non-intercept parameters shape: (10, 784);  intercept parameters shape: (10,)\n"
     ]
    }
   ],
   "source": [
    "print(\"The classifier non-intercept parameters shape: {nc};  intercept parameters shape: {ni}\".format(\n",
    "    nc=mnh.clf.coef_.shape,\n",
    "    ni=mnh.clf.intercept_.shape\n",
    ")\n",
    "     )\n"
   ]
  },
  {
   "cell_type": "markdown",
   "metadata": {
    "slideshow": {
     "slide_type": "slide"
    }
   },
   "source": [
    "`sklearn` separately stores\n",
    "- the intercept (`clf.intercept_`): the parameter associated with the `const` column in $\\X'$)\n",
    "- all other parameters (`clf.coef_`) \n"
   ]
  },
  {
   "cell_type": "markdown",
   "metadata": {
    "slideshow": {
     "slide_type": "subslide"
    }
   },
   "source": [
    "As you can see from the leading dimension (10) there are essentially $||C||$ binary classifiers\n",
    "- One parameter per element of the feature vector\n",
    "- Plus one intercept/constant parameter\n",
    "\n",
    "In total $\\Theta$ has $10*(784 + 1) = 7850$ parameters."
   ]
  },
  {
   "cell_type": "markdown",
   "metadata": {
    "slideshow": {
     "slide_type": "slide"
    }
   },
   "source": [
    "More precisely\n",
    "- The target vector $\\y$ is of length $||C|| = 10$, i.e., OHE target\n",
    "    - We have previously only seen scalar targets\n",
    "- `LogisticRegression` is performing One versus All (OvA) classification\n",
    "- Because $||\\y^\\ip|| > 1$, it is using a Cross Entropy Loss in the Loss function\n"
   ]
  },
  {
   "cell_type": "markdown",
   "metadata": {
    "slideshow": {
     "slide_type": "subslide"
    }
   },
   "source": [
    "Compare this to the KNN classifier from the first lecture\n",
    "- one template per example, at $(28 \\times 28) = 784$ parameters per example\n",
    "- times $m = 5000$ examples\n",
    "\n",
    "So the Logistic Classifier uses about $m = 5000$ times fewer parameters."
   ]
  },
  {
   "cell_type": "markdown",
   "metadata": {
    "slideshow": {
     "slide_type": "slide"
    }
   },
   "source": [
    "## Regularization\n",
    "\n",
    "Too many parameters in a model makes it susceptible to over-fitting\n",
    "- \"memorizing training examples\"\n",
    "- resulting in poor generalization (out of sample)\n",
    "\n",
    "In an earlier module (perhaps left for Recitation) we discussed\n",
    "- [Regularization](Bias_and_Variance.ipynb#Regularization:-reducing-overfitting)\n",
    "- as a way of forcing parameters towards $0$\n",
    "    - combats over-fitting\n",
    "\n",
    "Notice that our `LogisticRegression` used an L2 penalty (Ridge Regression)\n",
    "- That caused\n",
    "about 16% of the parameters to become $0$."
   ]
  },
  {
   "cell_type": "markdown",
   "metadata": {
    "slideshow": {
     "slide_type": "slide"
    }
   },
   "source": [
    "## Pattern matching: visualizing the parameters\n",
    "\n",
    "What do the 784 non-intercept parameters look like ?\n",
    "\n",
    "That is: what is the \"template\" for each class (digit) ?\n",
    "\n",
    "Since there is one parameter per pixel, ordered in the same way as the input image pixels\n",
    "- We can display the 784 parameters as a $(28 \\times 28)$ image.\n",
    "\n",
    "Remember: there is one parameter vector (template) for each of the $||C|| = 10$ classes."
   ]
  },
  {
   "cell_type": "code",
   "execution_count": 10,
   "metadata": {
    "slideshow": {
     "slide_type": "subslide"
    }
   },
   "outputs": [
    {
     "data": {
      "image/png": "[encoded data removed]",
      "text/plain": [
       "<Figure size 720x576 with 10 Axes>"
      ]
     },
     "metadata": {},
     "output_type": "display_data"
    }
   ],
   "source": [
    "mnist_fig, mnist_ax = mnh.plot_coeff()"
   ]
  },
  {
   "cell_type": "markdown",
   "metadata": {
    "slideshow": {
     "slide_type": "subslide"
    }
   },
   "source": [
    "Our model learned a template, per digit, which hopefully captures the \"essence\" of the digit\n",
    "- Fuzzy, since it needs to match many possible examples of the digit, each written differently\n",
    "\n",
    "We will \"interpret\" these coefficients in a subsequent lecture but, for now:\n",
    "- Dark colored parameters indicate the template for the pixel best matches dark input pixels\n",
    "- Bright colored parameters indicate the template for the pixel best matches bright input pixels\n",
    "\n",
    "So the \"essence\" of an image representing the \"1\" digit is a vertical band of bright pixels."
   ]
  },
  {
   "cell_type": "markdown",
   "metadata": {
    "slideshow": {
     "slide_type": "slide"
    }
   },
   "source": [
    "<div class=\"alert alert-block alert-success\">\n",
    "<b>TIP</b>\n",
    "    \n",
    "The <font face=courier>fetch_mnist_784</font>\n",
    "routine in the module takes a <b>long</b> time to execute.  Caching results makes you more productive.\n",
    "\n",
    "</div>"
   ]
  },
  {
   "cell_type": "code",
   "execution_count": 11,
   "metadata": {
    "slideshow": {
     "slide_type": "slide"
    }
   },
   "outputs": [
    {
     "name": "stdout",
     "output_type": "stream",
     "text": [
      "Done\n"
     ]
    }
   ],
   "source": [
    "print(\"Done\")"
   ]
  }
 ],
 "metadata": {
  "celltoolbar": "Slideshow",
  "kernelspec": {
   "display_name": "Python 3",
   "language": "python",
   "name": "python3"
  },
  "language_info": {
   "codemirror_mode": {
    "name": "ipython",
    "version": 3
   },
   "file_extension": ".py",
   "mimetype": "text/x-python",
   "name": "python",
   "nbconvert_exporter": "python",
   "pygments_lexer": "ipython3",
   "version": "3.7.4"
  },
  "toc": {
   "base_numbering": 1,
   "nav_menu": {},
   "number_sections": true,
   "sideBar": true,
   "skip_h1_title": false,
   "title_cell": "Table of Contents",
   "title_sidebar": "Contents",
   "toc_cell": false,
   "toc_position": {
    "height": "calc(100% - 180px)",
    "left": "10px",
    "top": "150px",
    "width": "368px"
   },
   "toc_section_display": true,
   "toc_window_display": true
  }
 },
 "nbformat": 4,
 "nbformat_minor": 2
}
