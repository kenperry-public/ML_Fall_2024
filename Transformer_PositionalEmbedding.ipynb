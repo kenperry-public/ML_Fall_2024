{
 "cells": [
  {
   "cell_type": "code",
   "execution_count": 1,
   "metadata": {
    "slideshow": {
     "slide_type": "notes"
    }
   },
   "outputs": [
    {
     "data": {
      "text/latex": [
       "$$\n",
       "\\newcommand{\\x}{\\mathbf{x}}\n",
       "\\newcommand{\\tx}{\\tilde{\\x}}\n",
       "\\newcommand{\\y}{\\mathbf{y}}\n",
       "\\newcommand{\\b}{\\mathbf{b}}\n",
       "\\newcommand{\\c}{\\mathbf{c}}\n",
       "\\newcommand{\\e}{\\mathbf{e}}\n",
       "\\newcommand{\\z}{\\mathbf{z}}\n",
       "\\newcommand{\\h}{\\mathbf{h}}\n",
       "\\newcommand{\\u}{\\mathbf{u}}\n",
       "\\newcommand{\\v}{\\mathbf{v}}\n",
       "\\newcommand{\\w}{\\mathbf{w}}\n",
       "\\newcommand{\\V}{\\mathbf{V}}\n",
       "\\newcommand{\\W}{\\mathbf{W}}\n",
       "\\newcommand{\\X}{\\mathbf{X}}\n",
       "\\newcommand{\\KL}{\\mathbf{KL}}\n",
       "\\newcommand{\\E}{{\\mathbb{E}}}\n",
       "\\newcommand{\\ip}{\\mathbf{{(i)}}}\n",
       "%\n",
       "% Test set\n",
       "\\newcommand{\\xt}{\\underline{\\x}}\n",
       "\\newcommand{\\yt}{\\underline{\\y}}\n",
       "\\newcommand{\\Xt}{\\underline{\\X}}\n",
       "\\newcommand{\\perfm}{\\mathcal{P}}\n",
       "%\n",
       "% \\ll indexes a layer; we can change the actual letter\n",
       "\\newcommand{\\ll}{l}\n",
       "\\newcommand{\\llp}{{(\\ll)}}\n",
       "%\n",
       "\\newcommand{Thetam}{\\Theta_{-0}}\n",
       "\n",
       "% CNN\n",
       "\\newcommand{\\kernel}{\\mathbf{k}} \n",
       "\\newcommand{\\dim}{d}\n",
       "\\newcommand{\\idxspatial}{{\\text{idx}}}\n",
       "\\newcommand{\\summaxact}{\\text{max}}\n",
       "%\n",
       "%\n",
       "\n",
       "% RNN\n",
       "% \\tt indexes a time step\n",
       "\\newcommand{\\tt}{t}\n",
       "\\newcommand{\\tp}{{(\\tt)}}\n",
       "%\n",
       "%\n",
       "\n",
       "% LSTM\n",
       "\\newcommand{\\g}{\\mathbf{g}}\n",
       "\\newcommand{\\remember}{\\mathbf{remember}}\n",
       "\\newcommand{\\save}{\\mathbf{save}}\n",
       "\\newcommand{\\focus}{\\mathbf{focus}}\n",
       "%\n",
       "%\n",
       "% NLP\n",
       "\\newcommand{\\Vocab}{\\mathbf{V}}\n",
       "\\newcommand{\\v}{\\mathbf{v}}\n",
       "\\newcommand{\\offset}{o}\n",
       "\\newcommand{\\o}{o}\n",
       "\\newcommand{\\E}{\\mathbf{E}}\n",
       "%\n",
       "%\n",
       "\\newcommand{\\loss}{\\mathcal{L}}\n",
       "\\newcommand{\\cost}{\\mathcal{L}}\n",
       "%\n",
       "%                     \n",
       "\\newcommand{\\pdata}{p_\\text{data}}\n",
       "\\newcommand{\\pmodel}{p_\\text{model}}\n",
       "%\n",
       "% SVM\n",
       "\\newcommand{\\margin}{{\\mathbb{m}}}\n",
       "\\newcommand{\\lmk}{\\boldsymbol{\\ell}}\n",
       "%\n",
       "% Functions with arguments\n",
       "\\def\\xsy#1#2{#1^#2}\n",
       "\\def\\rand#1{\\tilde{#1}}\n",
       "\\def\\randx{\\rand{\\x}}\n",
       "\\def\\randy{\\rand{\\y}}\n",
       "\\def\\trans#1{\\dot{#1}}\n",
       "\\def\\transx{\\trans{\\x}}\n",
       "\\def\\transy{\\trans{\\y}}\n",
       "%\n",
       "\\def\\argmax#1{\\underset{#1} {\\operatorname{argmax}} }\n",
       "\\def\\argmin#1{\\underset{#1} {\\operatorname{argmin}} }\n",
       "\\def\\max#1{\\underset{#1} {\\operatorname{max}} }\n",
       "\\def\\min#1{\\underset{#1} {\\operatorname{min}} }\n",
       "%\n",
       "\\def\\pr#1{\\mathcal{p}(#1)}\n",
       "\\def\\prc#1#2{\\mathcal{p}(#1 \\; | \\; #2)}\n",
       "\\def\\cnt#1{\\mathcal{count}_{#1}}\n",
       "\\def\\node#1{\\mathbb{#1}}\n",
       "%\n",
       "\\newcommand{\\floor}[1]{\\left\\lfloor #1 \\right\\rfloor}\n",
       "\\newcommand{\\ceil}[1]{\\left\\lceil #1 \\right\\rceil}\n",
       "%\n",
       "\\def\\loc#1{{\\text{##} {#1}}}\n",
       "%\n",
       "\\def\\OrderOf#1{\\mathcal{O}\\left( #1 \\right)}\n",
       "%\n",
       "$$\n"
      ],
      "text/plain": [
       "<IPython.core.display.Latex object>"
      ]
     },
     "metadata": {},
     "output_type": "display_data"
    }
   ],
   "source": [
    "%run Latex_macros.ipynb"
   ]
  },
  {
   "cell_type": "markdown",
   "metadata": {
    "slideshow": {
     "slide_type": "slide"
    }
   },
   "source": [
    "# Why do we need to encode the position of an input token ?\n",
    "\n",
    "A transformer operates on sequences (ordered lists) $\\x_{(1 \\ldots \\bar T)}$.\n",
    "\n",
    "But, rather than processing the elements of the sequence in order\n",
    "- the transformer implements a direct function of the entire sequence\n",
    "\n",
    "Since the relative ordering of elements of the sequence can be important\n",
    "- Machine learning is easy not hard\n",
    "- Machine learning is hard not easy\n",
    "\n",
    "How does the transformer discover the relative ordering of input tokens ?"
   ]
  },
  {
   "cell_type": "markdown",
   "metadata": {
    "slideshow": {
     "slide_type": "subslide"
    }
   },
   "source": [
    "To represent the relative position of each element in the sequence,\n",
    "- we can pair the input element  with an Positional Encoding (PE) of its position in the sequence.\n",
    "$$\n",
    "\\langle \\x_\\tp, \\text{PE}(\\tt) \\rangle\n",
    "$$"
   ]
  },
  {
   "cell_type": "markdown",
   "metadata": {
    "slideshow": {
     "slide_type": "subslide"
    }
   },
   "source": [
    "The obvious way to implement the Positional Encoding is as an integer\n",
    "$$\n",
    "\\text{PE}(\\tt) = \\tt\n",
    "$$\n",
    "\n",
    "This encoding is problematic\n",
    "- The magnitude of $\\tt$ may exceed the magnitude of $\\x_\\tp$ particularly for long sequences\n",
    "- We are counting on the \"circuits\" in the Transformer to perform arithmetic comparison ($\\tt' < \\tt$ ?)"
   ]
  },
  {
   "cell_type": "markdown",
   "metadata": {
    "slideshow": {
     "slide_type": "subslide"
    }
   },
   "source": [
    "As an alternative, we could encode the position as a fraction relative to length of the sequence\n",
    "$$\n",
    "\\text{PE}(\\tt) = \\tt/\\bar{T}\n",
    "$$\n",
    "\n",
    "The encoding \n",
    "- is small magnitude: range of $[0,1]$\n",
    "- but the fraction doesn't convey the *number* of preceding tokens\n",
    "    - 50% of a sequence of length $100$ much different than 50% of a sequence of length $1000$"
   ]
  },
  {
   "cell_type": "markdown",
   "metadata": {
    "slideshow": {
     "slide_type": "slide"
    }
   },
   "source": [
    "# Relative Positional Encoding\n",
    "\n",
    "The authors of the original transformer paper implement a [clever encoding](https://arxiv.org/pdf/1706.03762.pdf#page=6) \n",
    "\n",
    "The implementation is clever and a bit subtle.  There is a great [blog](https://kazemnejad.com/blog/transformer_architecture_positional_encoding/) that explains the details.\n",
    "- the [blog's FAQ](https://kazemnejad.com/blog/transformer_architecture_positional_encoding#faq) addresses many interesting questions\n",
    "\n",
    "We will summarize."
   ]
  },
  {
   "cell_type": "markdown",
   "metadata": {
    "slideshow": {
     "slide_type": "subslide"
    }
   },
   "source": [
    "By way of analogy: consider how integers are represented in decimal notation:\n",
    "- an array of cyclic digits\n",
    "- least significant position (position $0$) has a cycle length of $10$\n",
    "- digit at position $i$ has cycle length of $10^i$.\n",
    "\n",
    "But digits are categorical rather than continuous values.\n",
    "\n",
    "The authors use a cyclic representation of \"digits\" that is continuous\n",
    "- `sine`, `cosine`\n"
   ]
  },
  {
   "cell_type": "markdown",
   "metadata": {
    "slideshow": {
     "slide_type": "subslide"
    }
   },
   "source": [
    "The encoding will be an array of length $d_\\text{model}$ of these values.\n",
    "- all layers in the Transformer use length $d_\\text{model}$\n",
    "\n",
    "$\\text{PE}(\\tt)_i$ will denote position $i$ within the array $\\text{PE}(\\tt)$ of the encoding of position $\\tt$.\n",
    "\n",
    "$$\n",
    "\\text{PE}(\\tt)_i =\n",
    "\\begin{cases}\n",
    "\\sin( \\frac{\\tt}{\\omega}) & \\text{ if } i \\mod 2 = 0 \\\\\n",
    "\\cos( \\frac{\\tt}{\\omega}) & \\text{ if } i \\mod 2 = 1 \\\\\n",
    "\\end{cases}\n",
    "$$\n",
    "where\n",
    "$$\n",
    "\\begin{array} \\\\\n",
    "\\omega = 10000^{ \\frac{i'}{d_\\text{model}} } & i' = \\text{int}(i/2)*2 \\\\\n",
    "\\end{array}\n",
    "$$"
   ]
  },
  {
   "cell_type": "markdown",
   "metadata": {
    "slideshow": {
     "slide_type": "slide"
    }
   },
   "source": [
    "## Why alternate between `sine` and `cosine` in \"digits\" of PE ?\n",
    "\n",
    "The authors state one objective for the encoding\n",
    "- can express *relative* position\n",
    "- there is a *fixed linear transformation (as a function of $k$)* for the encoding of any two positions at distance $k$\n",
    "\n",
    "$$\n",
    "\\begin{array} \\\\\n",
    "\\text{PE}(\\tt + k) & = & T_k * \\text{PE}(\\tt) & \\text{for all } \\tt \\\\\n",
    "& & & T_k \\text{ a matrix specific to distance } k \\\\\n",
    "\\end{array}\n",
    "$$\n",
    "\n",
    "The proof is summarized in the [blog](https://kazemnejad.com/blog/transformer_architecture_positional_encoding/#relative-positioning) and detailed [here](https://timodenk.com/blog/linear-relationships-in-the-transformers-positional-encoding/)\n",
    "\n",
    "A further objective motivating sinusoidal wave forms\n",
    "- it may allow the model to extrapolate to sequence lengths longer than the ones encountered during training.\n"
   ]
  },
  {
   "cell_type": "markdown",
   "metadata": {
    "slideshow": {
     "slide_type": "slide"
    }
   },
   "source": [
    "## Representing the combined token and positional encoding\n",
    "\n",
    "If we represented the positionally-encoded token as a pair\n",
    "$$\n",
    "\\langle \\x_\\tp, \\text{PE}(\\tt) \\rangle\n",
    "$$\n",
    "it would be *twice the length* of other data items flowing in the transformer.\n",
    "\n",
    "Instead, the authors represent the positionally-encoded token as a sum of two vectors of length $d_\\text{model}$\n",
    "$$\n",
    "\\x_\\tp + \\text{PE}(\\tt)\n",
    "$$\n"
   ]
  },
  {
   "cell_type": "markdown",
   "metadata": {
    "slideshow": {
     "slide_type": "subslide"
    }
   },
   "source": [
    "This seems strange: mixing the token embedding and positional embedding.\n",
    "- the concepts seem to be orthogonal\n",
    "\n",
    "Here is one [theory](https://www.reddit.com/r/MachineLearning/comments/cttefo/comment/exs7d08/)\n",
    "of why addition does not corrupt the meaning of each element of the pair\n",
    "- Ultimately the encodings affect the query, keys, and values of attention lookup\n",
    "- Each of these values is subject to a linear transformation before attention lookup\n",
    "    - via *learned* matrices $\\W_{Q}, \\W_{K}, \\W_{V}$,\n",
    "- *Perhaps* the learned transformation is such that\n",
    "    - within the $d_\\text{model}$ array, there are disjoint sub-arrays\n",
    "        - for the token embedding\n",
    "        - for the positional embedding\n",
    "        - for large $d_\\text{model}$ this could be possible\n"
   ]
  },
  {
   "cell_type": "markdown",
   "metadata": {
    "slideshow": {
     "slide_type": "slide"
    }
   },
   "source": [
    "## Does the positional encoding \"disappear\" as data flows through multiple layers ?\n",
    "\n",
    "The result of Attention Lookup is an attention-weighted sum of values (positionally encoded tokens, for self-attention).\n",
    "\n",
    "Why doesn't the position embedding lose its meaning as the value flows through multiple layers of Transformer blocks ?\n",
    "\n",
    "The [FAQ](https://kazemnejad.com/blog/transformer_architecture_positional_encoding#faq)\n",
    "reminds us of the *skip connection*\n",
    "- the positionally-encoded token *also flows around* the attention layer !\n",
    "- preserving the information up-stream\n"
   ]
  }
 ],
 "metadata": {
  "celltoolbar": "Slideshow",
  "kernelspec": {
   "display_name": "Python 3",
   "language": "python",
   "name": "python3"
  },
  "language_info": {
   "codemirror_mode": {
    "name": "ipython",
    "version": 3
   },
   "file_extension": ".py",
   "mimetype": "text/x-python",
   "name": "python",
   "nbconvert_exporter": "python",
   "pygments_lexer": "ipython3",
   "version": "3.7.4"
  },
  "toc": {
   "base_numbering": 1,
   "nav_menu": {},
   "number_sections": true,
   "sideBar": true,
   "skip_h1_title": false,
   "title_cell": "Table of Contents",
   "title_sidebar": "Contents",
   "toc_cell": false,
   "toc_position": {},
   "toc_section_display": true,
   "toc_window_display": false
  }
 },
 "nbformat": 4,
 "nbformat_minor": 2
}
