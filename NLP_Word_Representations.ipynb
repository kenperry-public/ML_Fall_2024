{
 "cells": [
  {
   "cell_type": "code",
   "execution_count": 1,
   "metadata": {
    "slideshow": {
     "slide_type": "notes"
    }
   },
   "outputs": [
    {
     "data": {
      "text/latex": [
       "$$\n",
       "\\newcommand{\\x}{\\mathbf{x}}\n",
       "\\newcommand{\\tx}{\\tilde{\\x}}\n",
       "\\newcommand{\\y}{\\mathbf{y}}\n",
       "\\newcommand{\\b}{\\mathbf{b}}\n",
       "\\newcommand{\\c}{\\mathbf{c}}\n",
       "\\newcommand{\\e}{\\mathbf{e}}\n",
       "\\newcommand{\\z}{\\mathbf{z}}\n",
       "\\newcommand{\\h}{\\mathbf{h}}\n",
       "\\newcommand{\\u}{\\mathbf{u}}\n",
       "\\newcommand{\\v}{\\mathbf{v}}\n",
       "\\newcommand{\\w}{\\mathbf{w}}\n",
       "\\newcommand{\\W}{\\mathbf{W}}\n",
       "\\newcommand{\\X}{\\mathbf{X}}\n",
       "\\newcommand{\\KL}{\\mathbf{KL}}\n",
       "\\newcommand{\\E}{{\\mathbb{E}}}\n",
       "\\newcommand{\\ip}{\\mathbf{{(i)}}}\n",
       "%\n",
       "% Test set\n",
       "\\newcommand{\\xt}{\\underline{\\x}}\n",
       "\\newcommand{\\yt}{\\underline{\\y}}\n",
       "\\newcommand{\\Xt}{\\underline{\\X}}\n",
       "\\newcommand{\\perfm}{\\mathcal{P}}\n",
       "%\n",
       "% \\ll indexes a layer; we can change the actual letter\n",
       "\\newcommand{\\ll}{l}\n",
       "\\newcommand{\\llp}{{(\\ll)}}\n",
       "%\n",
       "\\newcommand{Thetam}{\\Theta_{-0}}\n",
       "\n",
       "% CNN\n",
       "\\newcommand{\\kernel}{\\mathbf{k}} \n",
       "\\newcommand{\\dim}{d}\n",
       "\\newcommand{\\idxspatial}{{\\text{idx}}}\n",
       "\\newcommand{\\summaxact}{\\text{max}}\n",
       "%\n",
       "%\n",
       "\n",
       "% RNN\n",
       "% \\tt indexes a time step\n",
       "\\newcommand{\\tt}{t}\n",
       "\\newcommand{\\tp}{{(\\tt)}}\n",
       "%\n",
       "%\n",
       "\n",
       "% LSTM\n",
       "\\newcommand{\\g}{\\mathbf{g}}\n",
       "\\newcommand{\\remember}{\\mathbf{remember}}\n",
       "\\newcommand{\\save}{\\mathbf{save}}\n",
       "\\newcommand{\\focus}{\\mathbf{focus}}\n",
       "%\n",
       "%\n",
       "% NLP\n",
       "\\newcommand{\\Vocab}{\\mathbf{V}}\n",
       "\\newcommand{\\v}{\\mathbf{v}}\n",
       "\\newcommand{\\offset}{o}\n",
       "\\newcommand{\\o}{o}\n",
       "\\newcommand{\\E}{\\mathbf{E}}\n",
       "%\n",
       "%\n",
       "\\newcommand{\\loss}{\\mathcal{L}}\n",
       "\\newcommand{\\cost}{\\mathcal{L}}\n",
       "%\n",
       "%                     \n",
       "\\newcommand{\\pdata}{p_\\text{data}}\n",
       "\\newcommand{\\pmodel}{p_\\text{model}}\n",
       "%\n",
       "% SVM\n",
       "\\newcommand{\\margin}{{\\mathbb{m}}}\n",
       "\\newcommand{\\lmk}{\\boldsymbol{\\ell}}\n",
       "%\n",
       "% Functions with arguments\n",
       "\\def\\xsy#1#2{#1^#2}\n",
       "\\def\\rand#1{\\tilde{#1}}\n",
       "\\def\\randx{\\rand{\\x}}\n",
       "\\def\\randy{\\rand{\\y}}\n",
       "\\def\\trans#1{\\dot{#1}}\n",
       "\\def\\transx{\\trans{\\x}}\n",
       "\\def\\transy{\\trans{\\y}}\n",
       "%\n",
       "\\def\\argmax#1{\\underset{#1} {\\operatorname{argmax}} }\n",
       "\\def\\argmin#1{\\underset{#1} {\\operatorname{argmin}} }\n",
       "\\def\\max#1{\\underset{#1} {\\operatorname{max}} }\n",
       "\\def\\min#1{\\underset{#1} {\\operatorname{min}} }\n",
       "%\n",
       "\\def\\pr#1{\\mathcal{p}(#1)}\n",
       "\\def\\prc#1#2{\\mathcal{p}(#1 \\; | \\; #2)}\n",
       "\\def\\cnt#1{\\mathcal{count}_{#1}}\n",
       "\\def\\node#1{\\mathbb{#1}}\n",
       "%\n",
       "\\newcommand{\\floor}[1]{\\left\\lfloor #1 \\right\\rfloor}\n",
       "\\newcommand{\\ceil}[1]{\\left\\lceil #1 \\right\\rceil}\n",
       "%\n",
       "\\def\\loc#1{{\\text{##} {#1}}}\n",
       "%\n",
       "$$\n"
      ],
      "text/plain": [
       "<IPython.core.display.Latex object>"
      ]
     },
     "metadata": {},
     "output_type": "display_data"
    }
   ],
   "source": [
    "%run Latex_macros.ipynb"
   ]
  },
  {
   "cell_type": "markdown",
   "metadata": {
    "slideshow": {
     "slide_type": "slide"
    }
   },
   "source": [
    "# Word representations\n",
    "\n",
    "We present the evolution of the way words are represented in NLP tasks.\n",
    "\n",
    "In the sequel, let\n",
    "- $\\w$ denote a token\n",
    "- $\\Vocab$ denote the vocabulary"
   ]
  },
  {
   "cell_type": "markdown",
   "metadata": {
    "slideshow": {
     "slide_type": "slide"
    }
   },
   "source": [
    "## One Hot Encoding\n",
    "\n",
    "A token is encoded as a OHE vector over the vocabulary $\\Vocab$\n",
    "$$\n",
    "\\begin{array} \\\\\n",
    "\\text{rep}(\\w) = \\text{OHE}(\\w) * I & \\text{where } I \\text{is the identity matrix } || I || = (||\\Vocab || \\times || \\Vocab ||)\\\\\n",
    "\\end{array}\n",
    "$$\n",
    "\n",
    "- $\\text{rep}(\\w)$ is long ($|| \\Vocab ||$) and sparse\n",
    "- does not capture relationship between tokens"
   ]
  },
  {
   "cell_type": "markdown",
   "metadata": {
    "slideshow": {
     "slide_type": "slide"
    }
   },
   "source": [
    "## Embeddings\n",
    "\n",
    "[Embeddings](NLP_Embeddings.ipynb)\n",
    "\n",
    "\n",
    "A token is encoded as short, dense vector\n",
    "$$\n",
    "\\begin{array} \\\\\n",
    "\\text{rep}(\\w) = \\text{OHE}(\\w) * E & \\text{where } E \\text{ is the embedding matrix } || E || = (||\\Vocab || \\times n_e)\\\\\n",
    "\\end{array}\n",
    "$$\n",
    "\n",
    "- $\\text{rep}(\\w)$ is short ($n_e <<|| \\Vocab ||$) and dense\n",
    "- captures relationship between tokens \n",
    "    - \"meaning\"\n",
    "- *Not* context sensitive\n",
    "    - \"bank\":\n",
    "        - financial institution ?\n",
    "        - edge of a river ?\n",
    "        - tilt (e.g., turning a plane)\n",
    "    "
   ]
  },
  {
   "cell_type": "markdown",
   "metadata": {
    "slideshow": {
     "slide_type": "slide"
    }
   },
   "source": [
    "# Contextualized representations\n",
    "\n",
    "*The representation of each token in a sequence depends on other parts of the sequence*\n",
    "\n",
    "- Unidirectional\n",
    "$$\n",
    "\\begin{array} \\\\\n",
    "\\text{rep}(\\w_\\tp) =  F( \\w_\\tp | \\w_{(0)}, \\ldots, \\w_{(\\tt-1)} ) \\\\\n",
    "\\end{array}\n",
    "$$\n",
    "\n",
    "The latent state $\\h_\\tp$ of an RNN is the natural candidate for $F$\n",
    "- $\\text{rep}$ is short ($|| \\h_\\tp ||$)\n",
    "- captures the left context $\\w_{(0)}, \\ldots, \\w_{(\\tt-1)}$"
   ]
  },
  {
   "cell_type": "markdown",
   "metadata": {
    "slideshow": {
     "slide_type": "subslide"
    }
   },
   "source": [
    "But the token may depend on the *full* context.\n",
    "\n",
    "- Bidirectional\n",
    "$$\n",
    "\\begin{array} \\\\\n",
    "\\text{rep}(\\w_\\tp) =  \\text{concat} \\left( F( \\w_\\tp | \\w_{(0)}, \\ldots, \\w_{(\\tt-1)} ), F( \\w_\\tp | \\w_{(T)}, \\ldots, \\w_{(\\tt + 1)} ) \\right)\\\\\n",
    "\\end{array}\n",
    "$$\n",
    "\n",
    "The latent state $\\h_\\tp$ of a *bi-directional* RNN is the natural candidate for $F$\n",
    "- $\\text{rep}$ is short ($|| \\h_\\tp ||$)\n",
    "- captures the left context $\\w_{(0)}, \\ldots, \\w_{(\\tt-1)}$ via an RNN processing sequence $\\w$ left to right\n",
    "- captures the right context $\\w_{(0)}, \\ldots, \\w_{(\\tt-1)}$ via an RNN processing sequence $\\w$ right to left"
   ]
  },
  {
   "cell_type": "markdown",
   "metadata": {
    "slideshow": {
     "slide_type": "subslide"
    }
   },
   "source": [
    "## ELMo\n",
    "\n",
    "ELMo ([link to paper](https://arxiv.org/abs/1802.05365)) was a first step in creating\n",
    "contextualized representations.\n",
    "\n",
    "It uses two LSTM's\n",
    "$$\n",
    "\\begin{array}[lll]\\\n",
    "\\text{Forward Model} &  \\pr{\\w_\\tp | & \\w_{(0)} \\ldots, \\w_{(\\tt-1)} }  & \\text{predict next word from prefix} \\\\\n",
    "\\text{Backward Model} &  \\pr{\\w_\\tp | & \\w_{(T)}, \\w_{(T-1)}, \\ldots, \\w_{(\\tt+1)}   } & \\text{predict next word from suffix}  &\\\\\n",
    "\\end{array}\n",
    "$$\n",
    "\n",
    "The Forward (resp., Backward) Model uses the *entire prefix* (resp., *suffix*), not just a fixed window\n",
    "- That's why a sequence model (like the LSTM) is needed"
   ]
  },
  {
   "cell_type": "markdown",
   "metadata": {
    "slideshow": {
     "slide_type": "subslide"
    }
   },
   "source": [
    "The unsupervised pre-training objective  maximizes the likelihood of both models\n",
    "$$\n",
    "\\begin{array}[lll] \\\\\n",
    "\\mathcal{L}_1 ( \\mathcal{U} ) =  \n",
    "\\left( \n",
    "\\sum_{\\tt=1}^T { \\log{P( \\w_\\tp | \\w_{(0)} \\ldots, \\w_{(\\tt-1)} )}; \\Theta )}\n",
    "\\right) \n",
    "+ \n",
    "\\left( \\sum_{\\tt=1}^T  { \\log{P( \\w_\\tp | \\w_{(T)}, \\w_{(T-1)}, \\ldots, \\w_{(\\tt+1)} )}; \\Theta )} \n",
    "\\right)  \\\\\n",
    "\\end{array}\n",
    "$$\n"
   ]
  },
  {
   "cell_type": "markdown",
   "metadata": {
    "slideshow": {
     "slide_type": "subslide"
    }
   },
   "source": [
    "Both the Forward/Backward models use *multi-layer* LSTM's\n",
    "- Let $\\h^{[\\ll]}_{F,\\tp}$ denote the hidden state of layer $\\ll$ of the Forward model on input element $t$\n",
    "- Let $\\h^{[\\ll]}_{B,\\tp}$ denote the hidden state of layer $\\ll$ of the Backward model on input element $t$"
   ]
  },
  {
   "cell_type": "markdown",
   "metadata": {
    "slideshow": {
     "slide_type": "subslide"
    }
   },
   "source": [
    "Concatenating these two states gives the layer $\\ll$ \"ELMo\" (Embedding from Language Model) for word $\\w_\\tp$\n",
    "$$\n",
    "E^{[\\ll]}_\\tp = [ \\h^{[\\ll]}_{F,\\tp}, \\h^{[\\ll]}_{B,\\tp}] \n",
    "$$"
   ]
  },
  {
   "cell_type": "markdown",
   "metadata": {
    "slideshow": {
     "slide_type": "subslide"
    }
   },
   "source": [
    "It would seem natural to use the latent state of the *last* layer $L$ as the representation.\n",
    "\n",
    "But ELMo does something a little different\n",
    "- It *combines* the representations at multiple layers"
   ]
  },
  {
   "cell_type": "markdown",
   "metadata": {
    "slideshow": {
     "slide_type": "subslide"
    }
   },
   "source": [
    "Suppose there are $L$ layers of LSTM's.\n",
    "\n",
    "Rather than using the final layer's ELMo $E^{[L]}_\\tp$ as the representation for $\\w_\\tp$\n",
    "- the authors *combine* the ELMo's for $\\w_\\tp$ from multiple layers\n",
    "$$\n",
    "E_\\tp = \\sum_{l=1}^L { s^\\text{task}_\\ll * E^{[\\ll]}_\\tp} \n",
    "$$\n",
    "- the per-layer weights $s^\\text{task}_\\ll$ are parameters that are learned as part of the task-specific model"
   ]
  },
  {
   "cell_type": "markdown",
   "metadata": {
    "slideshow": {
     "slide_type": "subslide"
    }
   },
   "source": [
    "<table>\n",
    "    <tr>\n",
    "        <th><center>ELMo</center></th>\n",
    "    </tr>\n",
    "    <tr>\n",
    "        <td><img src=\"http://jalammar.github.io/images/bert-feature-extraction-contextualized-embeddings.png\" width=80%></td>\n",
    "    </tr>\n",
    "    <tr>\n",
    "        <td><center>Picture from: http://jalammar.github.io/images/bert-feature-extraction-contextualized-embeddings.png</center></td>\n",
    "    </tr>   \n",
    "</table>\n"
   ]
  },
  {
   "cell_type": "markdown",
   "metadata": {
    "slideshow": {
     "slide_type": "subslide"
    }
   },
   "source": [
    "In our module on Transfer Learning, we speculated that\n",
    "- the representations produced by deep layers (closer to the Head) are task-specific\n",
    "- the representations produced by shallow layers (closer to the input) are task-agnostic\n",
    "\n",
    "Rather than arbitrarily guessing where to chop off the Head of the Word Prediction task\n",
    "- ELMo learns which layers are most useful fot the task-specific model"
   ]
  },
  {
   "cell_type": "markdown",
   "metadata": {
    "slideshow": {
     "slide_type": "slide"
    }
   },
   "source": [
    "# Attention based representations\n",
    "\n",
    "While bi-directional representations take into account full context, their \"view\" is limited to a single direction (left-to-right or right-to-left).\n",
    "\n",
    "We had introduced the Attention mechanism as a device that enables a Neural Network to \"attend\" to the most relevant piece of information\n",
    "- e.g., word in sequence\n"
   ]
  },
  {
   "cell_type": "markdown",
   "metadata": {
    "slideshow": {
     "slide_type": "subslide"
    }
   },
   "source": [
    "The Attention mechanism, in theory, allows us to access each element of the input sequence *as needed*\n",
    "rather than in order (as in an RNN or LSTM).\n",
    "\n",
    "*Attention* is usually a very important part of obtaining contextualized representations\n",
    "- Decides what other tokens in the sequence affect the representation of any token\n",
    "\n",
    "\n",
    "- Use self-attention over the *entire* input sequence to derive new representations that are context sensitive"
   ]
  },
  {
   "cell_type": "markdown",
   "metadata": {
    "slideshow": {
     "slide_type": "subslide"
    }
   },
   "source": [
    "<table>\n",
    "    <tr>\n",
    "        <th><center>Attention weights</center></th>\n",
    "    </tr>\n",
    "    <tr>\n",
    "        <td><center>Thickness of the blue lines indicate the strength of attention to other tokens</center></td>\n",
    "    </tr>\n",
    "    <tr>\n",
    "        <td><img src=\"https://1.bp.blogspot.com/-AVGK0ApREtk/WaiAuzddKVI/AAAAAAAAB_A/WPV5ropBU-cxrcMpqJBFHg73K9NX4vywwCLcBGAs/s1600/image2.png\" width=80%></td>\n",
    "    </tr>\n",
    "    <tr>\n",
    "        <td><center>Picture from: https://1.bp.blogspot.com/-AVGK0ApREtk/WaiAuzddKVI/AAAAAAAAB_A/WPV5ropBU-cxrcMpqJBFHg73K9NX4vywwCLcBGAs/s1600/image2.png</center></td>\n",
    "    </tr>   \n",
    "</table>\n"
   ]
  },
  {
   "cell_type": "code",
   "execution_count": 1,
   "metadata": {
    "slideshow": {
     "slide_type": "slide"
    }
   },
   "outputs": [
    {
     "name": "stdout",
     "output_type": "stream",
     "text": [
      "Done\n"
     ]
    }
   ],
   "source": [
    "print(\"Done\")"
   ]
  }
 ],
 "metadata": {
  "celltoolbar": "Slideshow",
  "kernelspec": {
   "display_name": "Python 3",
   "language": "python",
   "name": "python3"
  },
  "language_info": {
   "codemirror_mode": {
    "name": "ipython",
    "version": 3
   },
   "file_extension": ".py",
   "mimetype": "text/x-python",
   "name": "python",
   "nbconvert_exporter": "python",
   "pygments_lexer": "ipython3",
   "version": "3.7.4"
  },
  "toc": {
   "base_numbering": 1,
   "nav_menu": {},
   "number_sections": true,
   "sideBar": true,
   "skip_h1_title": false,
   "title_cell": "Table of Contents",
   "title_sidebar": "Contents",
   "toc_cell": false,
   "toc_position": {},
   "toc_section_display": true,
   "toc_window_display": true
  }
 },
 "nbformat": 4,
 "nbformat_minor": 2
}
