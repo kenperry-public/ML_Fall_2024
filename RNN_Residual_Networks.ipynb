{
 "cells": [
  {
   "cell_type": "code",
   "execution_count": 1,
   "metadata": {
    "slideshow": {
     "slide_type": "notes"
    }
   },
   "outputs": [
    {
     "data": {
      "text/latex": [
       "$$\n",
       "\\newcommand{\\x}{\\mathbf{x}}\n",
       "\\newcommand{\\tx}{\\tilde{\\x}}\n",
       "\\newcommand{\\y}{\\mathbf{y}}\n",
       "\\newcommand{\\b}{\\mathbf{b}}\n",
       "\\newcommand{\\c}{\\mathbf{c}}\n",
       "\\newcommand{\\e}{\\mathbf{e}}\n",
       "\\newcommand{\\z}{\\mathbf{z}}\n",
       "\\newcommand{\\h}{\\mathbf{h}}\n",
       "\\newcommand{\\u}{\\mathbf{u}}\n",
       "\\newcommand{\\v}{\\mathbf{v}}\n",
       "\\newcommand{\\w}{\\mathbf{w}}\n",
       "\\newcommand{\\W}{\\mathbf{W}}\n",
       "\\newcommand{\\X}{\\mathbf{X}}\n",
       "\\newcommand{\\KL}{\\mathbf{KL}}\n",
       "\\newcommand{\\E}{{\\mathbb{E}}}\n",
       "\\newcommand{\\ip}{\\mathbf{{(i)}}}\n",
       "%\n",
       "% Test set\n",
       "\\newcommand{\\xt}{\\underline{\\x}}\n",
       "\\newcommand{\\yt}{\\underline{\\y}}\n",
       "\\newcommand{\\Xt}{\\underline{\\X}}\n",
       "\\newcommand{\\perfm}{\\mathcal{P}}\n",
       "%\n",
       "% \\ll indexes a layer; we can change the actual letter\n",
       "\\newcommand{\\ll}{l}\n",
       "\\newcommand{\\llp}{{(\\ll)}}\n",
       "%\n",
       "\\newcommand{Thetam}{\\Theta_{-0}}\n",
       "\n",
       "% CNN\n",
       "\\newcommand{\\kernel}{\\mathbf{k}} \n",
       "\\newcommand{\\dim}{d}\n",
       "%\n",
       "%\n",
       "% \\tt indexes a time step\n",
       "\\newcommand{\\tt}{t}\n",
       "\\newcommand{\\tp}{{(\\tt)}}\n",
       "%\n",
       "\\newcommand{\\loss}{\\mathcal{L}}\n",
       "\\newcommand{\\cost}{\\mathcal{L}}\n",
       "%\n",
       "%                     \n",
       "\\newcommand{\\pdata}{p_\\text{data}}\n",
       "\\newcommand{\\pmodel}{p_\\text{model}}\n",
       "%\n",
       "% SVM\n",
       "\\newcommand{\\margin}{{\\mathbb{m}}}\n",
       "\\newcommand{\\lmk}{\\boldsymbol{\\ell}}\n",
       "%\n",
       "% Functions with arguments\n",
       "\\def\\xsy#1#2{#1^#2}\n",
       "\\def\\rand#1{\\tilde{#1}}\n",
       "\\def\\randx{\\rand{\\x}}\n",
       "\\def\\randy{\\rand{\\y}}\n",
       "\\def\\trans#1{\\dot{#1}}\n",
       "\\def\\transx{\\trans{\\x}}\n",
       "\\def\\transy{\\trans{\\y}}\n",
       "%\n",
       "\\def\\argmax#1{\\underset{#1} {\\operatorname{argmax}} }\n",
       "\\def\\argmin#1{\\underset{#1} {\\operatorname{argmin}} }\n",
       "\\def\\max#1{\\underset{#1} {\\operatorname{max}} }\n",
       "\\def\\min#1{\\underset{#1} {\\operatorname{min}} }\n",
       "%\n",
       "\\def\\pr#1{\\mathcal{p}(#1)}\n",
       "\\def\\prc#1#2{\\mathcal{p}(#1 \\; | \\; #2)}\n",
       "\\def\\cnt#1{\\mathcal{count}_{#1}}\n",
       "\\def\\node#1{\\mathbb{#1}}\n",
       "%\n",
       "\\newcommand{\\floor}[1]{\\left\\lfloor #1 \\right\\rfloor}\n",
       "\\newcommand{\\ceil}[1]{\\left\\lceil #1 \\right\\rceil}\n",
       "%\n",
       "\\def\\loc#1{{\\text{##} {#1}}}\n",
       "%\n",
       "$$\n"
      ],
      "text/plain": [
       "<IPython.core.display.Latex object>"
      ]
     },
     "metadata": {},
     "output_type": "display_data"
    }
   ],
   "source": [
    "%run Latex_macros.ipynb"
   ]
  },
  {
   "cell_type": "code",
   "execution_count": 2,
   "metadata": {
    "slideshow": {
     "slide_type": "notes"
    }
   },
   "outputs": [],
   "source": [
    "# My standard magic !  You will see this in almost all my notebooks.\n",
    "\n",
    "from IPython.core.interactiveshell import InteractiveShell\n",
    "InteractiveShell.ast_node_interactivity = \"all\"\n",
    "\n",
    "# Reload all modules imported with %aimport\n",
    "%load_ext autoreload\n",
    "%autoreload 1\n",
    "\n",
    "%matplotlib inline"
   ]
  },
  {
   "cell_type": "code",
   "execution_count": 3,
   "metadata": {
    "slideshow": {
     "slide_type": "notes"
    }
   },
   "outputs": [],
   "source": [
    "%run beautify_plots.py\n"
   ]
  },
  {
   "cell_type": "code",
   "execution_count": 4,
   "metadata": {
    "slideshow": {
     "slide_type": "notes"
    }
   },
   "outputs": [],
   "source": [
    "import numpy as np\n",
    "import pandas as pd\n",
    "import matplotlib.pyplot as plt\n",
    "\n",
    "import neural_net_helper\n",
    "%aimport neural_net_helper\n",
    "\n",
    "nnh = neural_net_helper.NN_Helper()"
   ]
  },
  {
   "cell_type": "markdown",
   "metadata": {
    "slideshow": {
     "slide_type": "subslide"
    }
   },
   "source": [
    "# Residual connections: a gradient highway\n",
    "[Deep Residual Learning](https://arxiv.org/abs/1512.03385)\n",
    "\n",
    "There is a clever architectural \"trick\" to combat the problem of vanishing and exploding gradients.\n",
    "\n",
    "Consider two layers of a Neural Network\n",
    "$$\n",
    "\\begin{array}[lll]\\\\\n",
    "\\y_{(\\ll-1)}      & = & a_{(\\ll-1)}      & \\left( f_{(\\ll-1)}( \\y_{(\\ll-2)}, \\W_{(\\ll-1)} ) \\right) \\\\\n",
    "\\y_{\\llp} & = & a_\\llp & \\left( f_\\llp ( \\y_{(\\ll-1)}, \\W_\\llp ) \\right) \\\\\n",
    "\\end{array}\n",
    "$$"
   ]
  },
  {
   "cell_type": "markdown",
   "metadata": {
    "slideshow": {
     "slide_type": "slide"
    }
   },
   "source": [
    "<table>\n",
    "    <tr>\n",
    "        <th><center>\"Plain\" Neural Network</center></th>\n",
    "    </tr>\n",
    "    <tr>\n",
    "        <td><img src=\"images/Residual_Net_1.png\"></td>\n",
    "    </tr>\n",
    "</table>"
   ]
  },
  {
   "cell_type": "markdown",
   "metadata": {
    "slideshow": {
     "slide_type": "subslide"
    }
   },
   "source": [
    "Suppose we make a slight modification\n",
    "- Allowing $\\y_{(\\ll-1)}$, the output of layer $(\\ll-1)$\n",
    "- To both flow into layer $\\ll$\n",
    "- And to \"skip\" over layer $\\ll$\n",
    "- Where it is added, in layer $(\\ll+1)$ to the output of layer $\\ll$"
   ]
  },
  {
   "cell_type": "markdown",
   "metadata": {
    "slideshow": {
     "slide_type": "subslide"
    }
   },
   "source": [
    "<table>\n",
    "    <tr>\n",
    "        <th><center>Residual Network with Skip Connection</center></th>\n",
    "    </tr>\n",
    "    <tr>\n",
    "        <td><img src=\"images/Residual_Net_2.png\"></td>\n",
    "    </tr>\n",
    "</table>"
   ]
  },
  {
   "cell_type": "markdown",
   "metadata": {
    "slideshow": {
     "slide_type": "subslide"
    }
   },
   "source": [
    "Here are the equations defining the original network:\n",
    "\n",
    "$$\n",
    "\\begin{array}[lll]\\\\\n",
    "\\y_{\\llp} & = & a_\\llp & \\left( f_\\llp ( \\y_{(\\ll-1)}, \\W_\\llp ) \\right)  \\\\\n",
    "\\end{array}\n",
    "$$\n",
    "and the modified network:\n",
    "$$\n",
    "\\begin{array}[lll]\\\\\n",
    "\\y_{(\\ll')} & = & a_\\llp \\left( f_{(\\ll')} ( \\y_{(\\ll-1)}, \\W_{(\\ll')} ) \\right)    \\\\\n",
    "\\y_{(\\ll +1)} & = & \\y_{(\\ll')} + \\y_{(\\ll-1)}\n",
    "\\end{array}\n",
    "$$"
   ]
  },
  {
   "cell_type": "markdown",
   "metadata": {
    "slideshow": {
     "slide_type": "subslide"
    }
   },
   "source": [
    "Now suppose we wanted the two networks to compute the same mapping from input $\\y_{(\\ll-1)} $ to output\n",
    "$$\\y_{(\\ll +1)} = \\y_\\llp$$"
   ]
  },
  {
   "cell_type": "markdown",
   "metadata": {
    "slideshow": {
     "slide_type": "subslide"
    }
   },
   "source": [
    "Then\n",
    "$$\n",
    "\\begin{array}[lll]\\\\\n",
    "\\y_{(\\ll +1)} & = & \\y_{(\\ll')} + \\y_{(\\ll-1)} & \\text{definition of } \\y_{(\\ll+1)}\\\\\n",
    "\\y_\\llp & = & \\y_{(\\ll')} + \\y_{(\\ll-1)} & \\text{requiring } \\y_{(\\ll +1)} = \\y_\\llp\\\\\n",
    "\\y_{(\\ll')} & = & \\y_\\llp - \\y_{(\\ll-1)} & \\text{re-arranging terms} \\\\\n",
    "\\\n",
    "\\end{array}\n",
    "$$"
   ]
  },
  {
   "cell_type": "markdown",
   "metadata": {
    "slideshow": {
     "slide_type": "subslide"
    }
   },
   "source": [
    "That is: layer $\\ll'$ computes the *residual* of $\\y_\\llp$ with respect to $\\y_{(\\ll-1)}$.\n",
    "\n",
    "This type of architecture is called a *Residual Network* or *Residual Layer*.\n",
    "\n",
    "The connection of $\\y_{(\\ll-1)}$ to the input of layer $(\\ll+1)$ is called a *Skip connection*"
   ]
  },
  {
   "cell_type": "markdown",
   "metadata": {
    "slideshow": {
     "slide_type": "subslide"
    }
   },
   "source": [
    "This seems strange (and perhaps pointless) until you consider the Back Propagation process.\n",
    "\n",
    "Recall how the Loss Gradient\n",
    "$$\\loss'_\\llp = \\frac{\\partial \\loss}{\\partial \\y_\\llp}$$\n",
    "\n",
    "propagates backwards inductively\n",
    "$$\n",
    "\\begin{array}[lll] \\\\\n",
    "\\loss'_{(\\ll-1)} \n",
    "         & = & \\loss'_\\llp \\frac{\\partial \\y_\\llp}{\\partial \\y_{(\\ll-1)}}\n",
    "\\end{array}\n",
    "$$\n",
    "\n",
    "It is modulated by Local Gradient $\\frac{\\partial \\y_\\llp}{\\partial \\y_{(\\ll-1)}}$\n",
    "   "
   ]
  },
  {
   "cell_type": "markdown",
   "metadata": {
    "slideshow": {
     "slide_type": "subslide"
    }
   },
   "source": [
    "In the original Neural Network, the Local Gradient relating the output and input $\\y_{(\\ll-1)}$ is\n",
    "$$\n",
    "\\begin{array}[lll]\\\\\n",
    "\\frac{\\partial \\y_\\llp}{\\partial \\y_{(\\ll-1)}} & = & \\frac{\\partial a_\\llp( f_\\llp( \\y_{(\\ll-1)}, \\W_\\llp)}{\\partial \\y_{(\\ll-1)} } & \\text{since } \\y_\\llp = a_\\llp( f_\\llp( \\y_{(\\ll-1)}, \\W_\\llp) \\\\\n",
    " & = & a'_\\llp   * f'_\\llp &\n",
    "\\text{where } a'_\\llp = \\frac{\\partial a_\\llp(\\ldots)}{\\partial f_\\llp(\\ldots)}; f'_\\llp = \\frac{\\partial f_\\llp(\\ldots)}{\\partial \\y_{(\\ll-1)}} \\\\\n",
    "\\end{array}\n",
    "$$"
   ]
  },
  {
   "cell_type": "markdown",
   "metadata": {
    "slideshow": {
     "slide_type": "subslide"
    }
   },
   "source": [
    "Whereas, in the modified neural network, the Local Gradient relating the output (now $\\y_{(\\ll+1)})$ to input $\\y_{(\\ll-1)}$\n",
    "$$\n",
    "\\begin{array}[lll]\\\\\n",
    "\\frac{\\partial \\y_{(\\ll+1)}}{\\partial \\y_{(\\ll-1)}} & = & \\frac{\\partial \\y'_\\llp}{\\partial \\y_{(\\ll-1)}} + \\frac{\\partial \\y_{(\\ll-1)}}{\\partial \\y_{(\\ll-1)} } & \\text{since } \\y_{(\\ll+1)} = \\y'_\\llp \n",
    "+ \\y_{(\\ll-1)}\\\\\n",
    "& = & \\frac{\\partial a_{(\\ll')} ( f_{(\\ll')}(\\y_{(\\ll-1)}, \\W_{(\\ll')}) }{\\partial \\y_{(\\ll-1)} } + 1 &  \\text{since } y'_\\llp \n",
    "= a_{(\\ll')}( f_{(\\ll')}( \\y_{(\\ll-1)}, \\W_{(\\ll')}) \\\\\n",
    "& = & a'_{(\\ll')}  * f'_{(\\ll')}  + 1 & \\text{where } a'_{(\\ll')} = \\frac{\\partial a_{(\\ll')}(\\ldots)}{\\partial f_{(\\ll')}(\\ldots)}; f'_{(\\ll')} = \\frac{\\partial f_{(\\ll')}(\\ldots)}{\\partial \\y_{(\\ll-1)}}\n",
    "\\end{array}\n",
    "$$"
   ]
  },
  {
   "cell_type": "markdown",
   "metadata": {
    "slideshow": {
     "slide_type": "subslide"
    }
   },
   "source": [
    "The main difference between the Local Gradients of the two networks\n",
    "- is the \"+1\" term"
   ]
  },
  {
   "cell_type": "markdown",
   "metadata": {
    "slideshow": {
     "slide_type": "subslide"
    }
   },
   "source": [
    "Since the derivative $a'$ of most activation functions is *less than one*\n",
    "- The Local Gradient of the original network *diminishes* the Loss Gradient\n",
    "- The Local Gradient of the modified network *does not* diminish the Loss Gradient"
   ]
  },
  {
   "cell_type": "code",
   "execution_count": 5,
   "metadata": {
    "slideshow": {
     "slide_type": "subslide"
    }
   },
   "outputs": [
    {
     "data": {
      "image/png": "[encoded data removed]",
      "text/plain": [
       "<Figure size 1152x576 with 6 Axes>"
      ]
     },
     "metadata": {
      "needs_background": "light"
     },
     "output_type": "display_data"
    }
   ],
   "source": [
    "fig, _ = nnh.plot_activations( np.arange(-5,5, 0.1) )"
   ]
  },
  {
   "cell_type": "markdown",
   "metadata": {
    "slideshow": {
     "slide_type": "subslide"
    }
   },
   "source": [
    "The \"+ 1\" term in the Local Gradient of the Residual Network allows the Loss Gradient to flow backwards un-diminished\n",
    "- It is like an \"express lane\" on the backward pass highway !"
   ]
  },
  {
   "cell_type": "markdown",
   "metadata": {
    "slideshow": {
     "slide_type": "subslide"
    }
   },
   "source": [
    "This simple trick vanquishes the vanishing gradient !\n",
    "\n",
    "It is one of the major reasons that we are able to train extremely deep Neural Networks."
   ]
  },
  {
   "cell_type": "markdown",
   "metadata": {
    "slideshow": {
     "slide_type": "subslide"
    }
   },
   "source": [
    "Another important fact\n",
    "- Adding an additional *residual* layer to a Neural Network *cannot* increase the Loss !\n",
    "\n",
    "Because there exists a set of weights $\\W'_{(\\ll')}$ for which \n",
    "$$\n",
    "a_{(\\ll')} \\left( f_{(\\ll')} ( \\y_{(\\ll-1)}, \\W'_{(\\ll')} ) \\right) = 0\n",
    "$$\n",
    "\n",
    "The residual layer would choose these weights rather than suffering an increased loss !"
   ]
  },
  {
   "cell_type": "markdown",
   "metadata": {
    "slideshow": {
     "slide_type": "subslide"
    }
   },
   "source": [
    "By choosing these weight $\\W'_{(\\ll')}$ the residual layer computes the identity functon\n",
    "$$\n",
    "\\y_{(\\ll+1)} = \\y_{(\\ll-1)}\n",
    "$$\n",
    "\n",
    "Thus, adding more residual layers cannot hurt performance.\n",
    "\n",
    "Without the skip connection, it has been observed empirically\n",
    "- That it is difficult for a Neural Network to learn the identity function\n",
    "- So the skip connection is quite useful"
   ]
  },
  {
   "cell_type": "markdown",
   "metadata": {
    "slideshow": {
     "slide_type": "slide"
    }
   },
   "source": [
    "## Technical aside \n",
    "There is an unresolved debate where to place the \"head\" of the skip connection\n",
    "- insider the activation function\n",
    "- outside the activation function\n",
    "\n",
    "We choose the latter to simplify the derivative expression for the loss gradient."
   ]
  },
  {
   "cell_type": "markdown",
   "metadata": {
    "slideshow": {
     "slide_type": "slide"
    }
   },
   "source": [
    "# Conclusion and Preview: Skip connections in LSTM's, GRU's\n",
    "\n",
    "The gradient highway also turns out to be useful in RNN's.\n",
    "\n",
    "There are more powerful variants of the RNN called LSTM and GRU which avoid vanishing gradients, partially \n",
    "through the use of skip connections.\n",
    "\n",
    "These variants enhance the power of skip connections by allowing selective skipping via the use\n",
    "of \"gates\".\n",
    "\n",
    "We will see this shortly."
   ]
  },
  {
   "cell_type": "code",
   "execution_count": 6,
   "metadata": {
    "slideshow": {
     "slide_type": "slide"
    }
   },
   "outputs": [
    {
     "name": "stdout",
     "output_type": "stream",
     "text": [
      "Done\n"
     ]
    }
   ],
   "source": [
    "print(\"Done\")"
   ]
  }
 ],
 "metadata": {
  "celltoolbar": "Slideshow",
  "kernelspec": {
   "display_name": "Python 3",
   "language": "python",
   "name": "python3"
  },
  "language_info": {
   "codemirror_mode": {
    "name": "ipython",
    "version": 3
   },
   "file_extension": ".py",
   "mimetype": "text/x-python",
   "name": "python",
   "nbconvert_exporter": "python",
   "pygments_lexer": "ipython3",
   "version": "3.7.4"
  },
  "toc": {
   "base_numbering": 1,
   "nav_menu": {},
   "number_sections": true,
   "sideBar": true,
   "skip_h1_title": false,
   "title_cell": "Table of Contents",
   "title_sidebar": "Contents",
   "toc_cell": false,
   "toc_position": {
    "height": "calc(100% - 180px)",
    "left": "10px",
    "top": "150px",
    "width": "370.594px"
   },
   "toc_section_display": true,
   "toc_window_display": false
  }
 },
 "nbformat": 4,
 "nbformat_minor": 2
}
