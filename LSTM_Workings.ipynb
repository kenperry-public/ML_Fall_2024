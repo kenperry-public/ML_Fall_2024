{
 "cells": [
  {
   "cell_type": "code",
   "execution_count": 1,
   "metadata": {
    "slideshow": {
     "slide_type": "notes"
    }
   },
   "outputs": [
    {
     "data": {
      "text/latex": [
       "$$\n",
       "\\newcommand{\\x}{\\mathbf{x}}\n",
       "\\newcommand{\\tx}{\\tilde{\\x}}\n",
       "\\newcommand{\\y}{\\mathbf{y}}\n",
       "\\newcommand{\\b}{\\mathbf{b}}\n",
       "\\newcommand{\\c}{\\mathbf{c}}\n",
       "\\newcommand{\\e}{\\mathbf{e}}\n",
       "\\newcommand{\\z}{\\mathbf{z}}\n",
       "\\newcommand{\\h}{\\mathbf{h}}\n",
       "\\newcommand{\\u}{\\mathbf{u}}\n",
       "\\newcommand{\\v}{\\mathbf{v}}\n",
       "\\newcommand{\\w}{\\mathbf{w}}\n",
       "\\newcommand{\\W}{\\mathbf{W}}\n",
       "\\newcommand{\\X}{\\mathbf{X}}\n",
       "\\newcommand{\\KL}{\\mathbf{KL}}\n",
       "\\newcommand{\\E}{{\\mathbb{E}}}\n",
       "\\newcommand{\\ip}{\\mathbf{{(i)}}}\n",
       "%\n",
       "% Test set\n",
       "\\newcommand{\\xt}{\\underline{\\x}}\n",
       "\\newcommand{\\yt}{\\underline{\\y}}\n",
       "\\newcommand{\\Xt}{\\underline{\\X}}\n",
       "\\newcommand{\\perfm}{\\mathcal{P}}\n",
       "%\n",
       "% \\ll indexes a layer; we can change the actual letter\n",
       "\\newcommand{\\ll}{l}\n",
       "\\newcommand{\\llp}{{(\\ll)}}\n",
       "%\n",
       "\\newcommand{Thetam}{\\Theta_{-0}}\n",
       "\n",
       "% CNN\n",
       "\\newcommand{\\kernel}{\\mathbf{k}} \n",
       "\\newcommand{\\dim}{d}\n",
       "%\n",
       "%\n",
       "\n",
       "% RNN\n",
       "% \\tt indexes a time step\n",
       "\\newcommand{\\tt}{t}\n",
       "\\newcommand{\\tp}{{(\\tt)}}\n",
       "%\n",
       "%\n",
       "\n",
       "% LSTM\n",
       "\\newcommand{\\g}{\\mathbf{g}}\n",
       "\\newcommand{\\remember}{\\mathbf{remember}}\n",
       "\\newcommand{\\save}{\\mathbf{save}}\n",
       "\\newcommand{\\focus}{\\mathbf{focus}}\n",
       "%\n",
       "%\n",
       "\n",
       "\\newcommand{\\loss}{\\mathcal{L}}\n",
       "\\newcommand{\\cost}{\\mathcal{L}}\n",
       "%\n",
       "%                     \n",
       "\\newcommand{\\pdata}{p_\\text{data}}\n",
       "\\newcommand{\\pmodel}{p_\\text{model}}\n",
       "%\n",
       "% SVM\n",
       "\\newcommand{\\margin}{{\\mathbb{m}}}\n",
       "\\newcommand{\\lmk}{\\boldsymbol{\\ell}}\n",
       "%\n",
       "% Functions with arguments\n",
       "\\def\\xsy#1#2{#1^#2}\n",
       "\\def\\rand#1{\\tilde{#1}}\n",
       "\\def\\randx{\\rand{\\x}}\n",
       "\\def\\randy{\\rand{\\y}}\n",
       "\\def\\trans#1{\\dot{#1}}\n",
       "\\def\\transx{\\trans{\\x}}\n",
       "\\def\\transy{\\trans{\\y}}\n",
       "%\n",
       "\\def\\argmax#1{\\underset{#1} {\\operatorname{argmax}} }\n",
       "\\def\\argmin#1{\\underset{#1} {\\operatorname{argmin}} }\n",
       "\\def\\max#1{\\underset{#1} {\\operatorname{max}} }\n",
       "\\def\\min#1{\\underset{#1} {\\operatorname{min}} }\n",
       "%\n",
       "\\def\\pr#1{\\mathcal{p}(#1)}\n",
       "\\def\\prc#1#2{\\mathcal{p}(#1 \\; | \\; #2)}\n",
       "\\def\\cnt#1{\\mathcal{count}_{#1}}\n",
       "\\def\\node#1{\\mathbb{#1}}\n",
       "%\n",
       "\\newcommand{\\floor}[1]{\\left\\lfloor #1 \\right\\rfloor}\n",
       "\\newcommand{\\ceil}[1]{\\left\\lceil #1 \\right\\rceil}\n",
       "%\n",
       "\\def\\loc#1{{\\text{##} {#1}}}\n",
       "%\n",
       "$$\n"
      ],
      "text/plain": [
       "<IPython.core.display.Latex object>"
      ]
     },
     "metadata": {},
     "output_type": "display_data"
    }
   ],
   "source": [
    "%run Latex_macros.ipynb"
   ]
  },
  {
   "cell_type": "markdown",
   "metadata": {
    "slideshow": {
     "slide_type": "slide"
    }
   },
   "source": [
    "# Inside the LSTM: update equations\n",
    "\n",
    "An LSTM layer, at time step $\\tt$\n",
    "- Takes input element $\\x_\\tp$\n",
    "- Updates long term memory $\\c_\\tp$\n",
    "- Updates control state $\\h_\\tp$\n",
    "- Optionally outputs $\\y_\\tp$\n",
    "\n",
    "according to the equations"
   ]
  },
  {
   "cell_type": "markdown",
   "metadata": {
    "slideshow": {
     "slide_type": "subslide"
    }
   },
   "source": [
    "\n",
    "$$\n",
    "\\begin{array}[lll]\\\\\n",
    "\\c_\\tp & = & \\remember_\\tp \\otimes \\c_{(\\tt-1)} + \\save_\\tp \\otimes \\c'_\\tp & \\text{Long term memory} \\\\\n",
    "\\h_\\tp & = & \\focus_\\tp \\otimes \\tanh(\\c_\\tp) & \\text{Short term memory/control}\\\\\n",
    "\\y_\\tp &  = & \\h_\\tp & \\text{Output}\n",
    "\\end{array}\n",
    "$$\n",
    "\n",
    "where\n",
    "$$\n",
    "\\begin{array}[lll]\\\\\n",
    "\\remember & \\text{is a gate that allows elements of } \\c \\text{ to be remembered/forgotten} \\\\\n",
    "\\focus & \\text{is a mask that controls movement from long-term to short-term memory}\\\\\n",
    "\\save & \\text{is a gate that controls selective updating of elements of } \\c \n",
    "\\end{array}\n",
    "$$"
   ]
  },
  {
   "cell_type": "markdown",
   "metadata": {
    "slideshow": {
     "slide_type": "subslide"
    }
   },
   "source": [
    "A lot of moving parts !\n",
    "\n",
    "The important thing to remember is that the layer\n",
    "- Has a matrix $\\W$ of weights\n",
    "- That controls the update of each part"
   ]
  },
  {
   "cell_type": "markdown",
   "metadata": {
    "slideshow": {
     "slide_type": "subslide"
    }
   },
   "source": [
    "Training, as usual, seeks to discover the optimal (i.e., loss function minimizing) values for $\\W$\n",
    "\n",
    "Let's try to understand the whole by examining each piece."
   ]
  },
  {
   "cell_type": "markdown",
   "metadata": {
    "slideshow": {
     "slide_type": "slide"
    }
   },
   "source": [
    "# Memory/States\n",
    "\n",
    "$\\c_\\tp$ is the long-term memory.\n",
    "\n",
    "It is a vector of features that need to be retained throughout the computation\n",
    "- As each element $\\x_\\tp$ of input sequence $\\x$ is processed\n",
    "- It records the \"concepts\" that are important to solve the task\n",
    "- Might have many elements"
   ]
  },
  {
   "cell_type": "markdown",
   "metadata": {
    "slideshow": {
     "slide_type": "subslide"
    }
   },
   "source": [
    "$\\h_\\tp$ is the short-term or control memory.\n",
    "\n",
    "Very much like a vanilla RNN, it's job is to guide the transition from state $\\h_\\tp$ to state $\\h_{(\\tt+1)}$.\n",
    "\n",
    "It is a vector of features that need to be retained *for the immediate future*\n",
    "- It might have many elements\n",
    "- Same length as $\\c_\\tp$"
   ]
  },
  {
   "cell_type": "markdown",
   "metadata": {
    "slideshow": {
     "slide_type": "subslide"
    }
   },
   "source": [
    "An analogy might help.\n",
    "\n",
    "Suppose you are driving a car in an unfamiliar city\n",
    "- Short term memory is a map of the surrounding blocks\n",
    "- Long term memory is a map of the city plus rules of the road"
   ]
  },
  {
   "cell_type": "markdown",
   "metadata": {
    "slideshow": {
     "slide_type": "slide"
    }
   },
   "source": [
    "# Gates/Masks\n",
    "\n",
    "$\\remember, \\save, \\focus$ are vectors that interact with long term memory $\\c_\\tp$\n",
    "- Element-wise\n",
    "- So have same length as $\\c_\\tp$"
   ]
  },
  {
   "cell_type": "markdown",
   "metadata": {
    "slideshow": {
     "slide_type": "subslide"
    }
   },
   "source": [
    "They will be used\n",
    "- To selectively modify individual elements of $\\c_\\tp$\n",
    "- Forget/Reset the value of an element that is no longer relevant\n",
    "- Decide which individual elements to update"
   ]
  },
  {
   "cell_type": "markdown",
   "metadata": {
    "slideshow": {
     "slide_type": "subslide"
    }
   },
   "source": [
    "The [classic paper that introduced the LSTM](https://www.bioinf.jku.at/publications/older/2604.pdf) gives these gates different names\n",
    "- $\\remember_\\tp \\mapsto \\mathbf{f}_\\tp$\n",
    "    - $\\mathbf{f}$ denotes \"Forget\" (although it really means \"don't forget\", i.e,  remember !)\n",
    "- $\\save_\\tp \\mapsto \\mathbf{i}_\\tp$\n",
    "    - $\\mathbf{i}$ denotes \"Input\"\n",
    "- $\\focus_\\tp \\mapsto \\mathbf{o}_\\tp$\n",
    "    - $\\mathbf{o}$ denotes \"Output\"\n",
    "\n",
    "Hopefully the names in our presentation add clarity."
   ]
  },
  {
   "cell_type": "markdown",
   "metadata": {
    "slideshow": {
     "slide_type": "subslide"
    }
   },
   "source": [
    "# Output \n",
    "\n",
    "$\\y_\\tp$ is the value (if any) output at step $\\tt$, for\n",
    "- A one to many function\n",
    "- Or a many to many function"
   ]
  },
  {
   "cell_type": "markdown",
   "metadata": {
    "slideshow": {
     "slide_type": "subslide"
    }
   },
   "source": [
    "As written\n",
    "$$\n",
    "\\y_\\tp = \\h_\\tp\n",
    "$$\n",
    "so it has the same length as a memory element $\\h_\\tp, \\c_\\tp$.\n",
    "\n",
    "This assumption is purely for simplicity\n",
    "- You can map $\\h_\\tp$ through another layer\n",
    "- That transforms $\\h_\\tp$ into the appropriate type/shape for output $\\y_\\tp$"
   ]
  },
  {
   "cell_type": "markdown",
   "metadata": {
    "slideshow": {
     "slide_type": "subslide"
    }
   },
   "source": [
    "In fact, our equation for the vanilla RNN included this final transformation of $\\h$ to $\\y$:\n",
    "$$\\y_\\tp  =   \\W_{hy} \\h_\\tp  + \\b_y$$"
   ]
  },
  {
   "cell_type": "markdown",
   "metadata": {
    "slideshow": {
     "slide_type": "slide"
    }
   },
   "source": [
    "# The update process\n",
    "\n",
    "Let's examine the update equation for each of the parts."
   ]
  },
  {
   "cell_type": "markdown",
   "metadata": {
    "slideshow": {
     "slide_type": "slide"
    }
   },
   "source": [
    "## Update long-term memory\n",
    "\n",
    "Long-term memory is updated in a two step process\n",
    "- Produce a \"candidate\" updated value for each element of the state\n",
    "- Decide which of the candidate updated values get applied to the long term memory\n",
    "    - Successful candidates become part of long term memory\n",
    "    - Unsuccessful candidates are dropped"
   ]
  },
  {
   "cell_type": "markdown",
   "metadata": {
    "slideshow": {
     "slide_type": "subslide"
    }
   },
   "source": [
    "The candidate update value vector $\\c'_\\tp$ is a function of\n",
    "- The prior short term state $\\h_{(t-1)}$\n",
    "-  And the current input $\\x_\\tp$\n",
    "- Controlled by parts of the weight matrix $\\W$\n",
    "\n",
    "$$\\c'_\\tp  = \\tanh(\\W_{x,c} \\x_\\tp + \\W_{h,c}\\h_{(t-1)} + \\b_c)$$\n",
    "\n",
    "This is very much like the RNN state update equation\n",
    "- Although the RNN equation has $\\h$ on both sides of the equation, so is directly recursive in form\n"
   ]
  },
  {
   "cell_type": "markdown",
   "metadata": {
    "slideshow": {
     "slide_type": "subslide"
    }
   },
   "source": [
    "We now need to decide which elements of $\\c_\\tp$ to change.\n",
    "\n",
    "The $\\remember$ mask controls forgetting the current value $\\c_{(\\tt-1)}$\n",
    "- When $\\remember_{\\tp,j} = 0$\n",
    "    - $\\c_{(\\tt-1),j}$, the $j^{th}$ element of $\\c_{(\\tt-1)}$\n",
    "    - Will be reset to $0$ (\"forgotten\")\n",
    "- When $\\remember_{\\tp,j} = 1$\n",
    "    - $\\c_{(\\tt-1),j}$, the $j^{th}$ element of $c_{(\\tt-1)}$ \n",
    "    - Will contribute to the new value $\\c_{\\tp,j}$\n"
   ]
  },
  {
   "cell_type": "markdown",
   "metadata": {
    "slideshow": {
     "slide_type": "subslide"
    }
   },
   "source": [
    "The $\\save$ mask controls whether the candidate value $\\c'_\\tp$ contributes to the new value $\\c_\\tp$:\n",
    "- When $\\save_{\\tp,j} = 1$\n",
    "    - Candidate value $\\c'_{\\tp,j}$ will contribute to the new value $\\c_{\\tp,j}$\n",
    "- When $\\save_{\\tp,j} = 0$\n",
    "    - Candidate value $\\c'_{\\tp,j}$ will **not** contribute to the new value $\\c_{\\tp,j}$"
   ]
  },
  {
   "cell_type": "markdown",
   "metadata": {
    "slideshow": {
     "slide_type": "subslide"
    }
   },
   "source": [
    "Here is the update equation for $\\c_\\tp$.\n",
    "- It combines the remember/forget decision for each element\n",
    "- With the decision on passing through the candidate value for the element\n",
    "\n",
    "$$\\c_\\tp = \\remember_\\tp \\otimes \\c_{(t-1)} + \\save_\\tp \\otimes \\c'_\\tp$$\n",
    "\n",
    "Cases:\n",
    "- when $\\remember_{\\tp,j} = 0$ and $\\save_{\\tp,j} = 0$\n",
    "    - $\\c_{\\tp,j}$ is reset to $0$\n",
    "- when $\\remember_{\\tp,j} = 0$ and $\\save_{\\tp,j} = 1$\n",
    "    - $\\c'_{\\tp,j}$ replaces $\\c_{\\tp,j}$ \n",
    "- when $\\remember_{\\tp,j} = 1$ and $\\save_{\\tp,j} = 0$\n",
    "    - $\\c_{\\tp,j}$ is carried over from $\\c_{(\\tt-1),j}$\n",
    "- when $\\remember_{\\tp,j} = 1$ and $\\save_{\\tp,j} = 1$\n",
    "    - $\\c_{\\tp,j}$ is incremented by $\\c'_{\\tp,j}$\n",
    "    "
   ]
  },
  {
   "cell_type": "markdown",
   "metadata": {
    "slideshow": {
     "slide_type": "subslide"
    }
   },
   "source": [
    "### The role of $\\tanh$ in the candidate value equation\n",
    "\n",
    "Why modify the candidate value $\\c'_\\tp$ by passing it through $\\tanh$ ?\n",
    "\n",
    "The $\\tanh$ has the important property\n",
    "- That its range is $[-1, +1]$"
   ]
  },
  {
   "cell_type": "markdown",
   "metadata": {
    "slideshow": {
     "slide_type": "subslide"
    }
   },
   "source": [
    "So updates to $\\c_\\tp$ have the flavor of either\n",
    "- Incrementing existing value $\\c_{(\\tt-1),j}$ by $1$\n",
    "- Or decrementing existing value $\\c_{(\\tt-1),j}$ by $1$\n",
    "\n",
    "This makes $\\c_\\tp$ act like a *counter*.\n",
    "\n",
    "Recall that when we tried to give intuition as to what each element of the latent state vector of an RNN did:\n",
    "- we postulated that it acted as a counter"
   ]
  },
  {
   "cell_type": "markdown",
   "metadata": {
    "slideshow": {
     "slide_type": "slide"
    }
   },
   "source": [
    "## Update short-term memory (control state)\n",
    "\n",
    "The short-term memory update\n",
    "- Selectively copies parts of the newly updated long-term memory $\\c_\\tp$\n",
    "- To short-term memory\n",
    "\n",
    "$$\n",
    "\\begin{array}\\\\\n",
    "\\h_\\tp & = & \\focus_\\tp \\otimes \\tanh(\\c_\\tp) & \\text{Short term memory/control}\n",
    "\\end{array}\n",
    "$$\n",
    "\n",
    "The $\\focus$ mask selects which elements of long-term memory are immediately relevant for control"
   ]
  },
  {
   "cell_type": "markdown",
   "metadata": {
    "slideshow": {
     "slide_type": "subslide"
    }
   },
   "source": [
    "The $\\tanh$ activation function applied to long-term memory $\\c_\\tp$\n",
    "- Squashes the range"
   ]
  },
  {
   "cell_type": "markdown",
   "metadata": {
    "slideshow": {
     "slide_type": "slide"
    }
   },
   "source": [
    "## The gate/mask update equations\n",
    "\n",
    "All of the gates are updated via similar equations, taking\n",
    "- The prior short term state $\\h_{(t-1)}$\n",
    "- And the current input $\\x_\\tp$\n",
    "- Controlled by parts of the weight matrix $\\W$"
   ]
  },
  {
   "cell_type": "markdown",
   "metadata": {
    "slideshow": {
     "slide_type": "subslide"
    }
   },
   "source": [
    "$$\n",
    "\\begin{array}[lll] \\\\\n",
    "\\remember_\\tp  & = & f_\\tp &  = & \\sigma(\\W_{x,f} \\x_{(t)} + \\W_{h,f}\\h_{(t-1)} + \\b_f) \\\\\n",
    "\\save_\\tp      & = & i_\\tp &  = & \\sigma(\\W_{x,i} \\x_{(t)} + \\W_{h,i}\\h_{(t-1)} + \\b_i) \\\\\n",
    "\\focus_\\tp     & = & o_\\tp &  = & \\sigma(\\W_{x,o} \\x_{(t)} + \\W_{h,o}\\h_{(t-1)} + \\b_o) \\\\\n",
    "\\end{array}\n",
    "$$"
   ]
  },
  {
   "cell_type": "markdown",
   "metadata": {
    "slideshow": {
     "slide_type": "subslide"
    }
   },
   "source": [
    "Notice the use of the sigmoid activation for each gate/mask:\n",
    "- This restricts the range of each element to $[0,1]$\n",
    "- As needed by a gate/mask\n",
    "- The gate values are \"soft\" decisions (rather than exclusively either True of False)"
   ]
  },
  {
   "cell_type": "markdown",
   "metadata": {
    "slideshow": {
     "slide_type": "slide"
    }
   },
   "source": [
    "# Conclusion\n",
    "\n",
    "That was quite a workout.\n",
    "\n",
    "There were lots of moving parts, but hopefully you can now understand each.\n",
    "\n",
    "To conclude, here is the full set of update equations"
   ]
  },
  {
   "cell_type": "markdown",
   "metadata": {
    "slideshow": {
     "slide_type": "subslide"
    }
   },
   "source": [
    "$$\n",
    "\\begin{array}[lll]\\\\\n",
    "\\c'_\\tp  & = & \\tanh(\\W_{x,c} \\x_\\tp + \\W_{h,c}\\h_{(t-1)} + \\b_c) & \\text{Candidate update value} \\\\\n",
    "\\c_\\tp & = & \\remember_\\tp \\otimes \\c_{(\\tt-1)} + \\save_\\tp \\otimes \\c'_\\tp & \\text{Long term memory} \\\\\n",
    "\\h_\\tp & = & \\focus_\\tp \\otimes \\tanh(\\c_\\tp) & \\text{Short term memory/control}\\\\\n",
    "\\y_\\tp &  = & \\h_\\tp & \\text{Output} \\\\\n",
    "\\text{where} \\\\\n",
    "\\remember_\\tp  & = &  \\sigma(\\W_{x,f} \\x_{(t)} + \\W_{h,f}\\h_{(t-1)} + \\b_f) \\\\\n",
    "\\save_\\tp      & = &  \\sigma(\\W_{x,i} \\x_{(t)} + \\W_{h,i}\\h_{(t-1)} + \\b_i) \\\\\n",
    "\\focus_\\tp     & = &  \\sigma(\\W_{x,o} \\x_{(t)} + \\W_{h,o}\\h_{(t-1)} + \\b_o) \\\\\n",
    "\\end{array}\n",
    "$$\n",
    "\n"
   ]
  },
  {
   "cell_type": "markdown",
   "metadata": {
    "slideshow": {
     "slide_type": "subslide"
    }
   },
   "source": [
    "$$\n",
    "\\begin{array}[lll] \\\\\n",
    "\\remember_\\tp  & = & f_\\tp &  = & \\sigma(\\W_{x,f} \\x_{(t)} + \\W_{h,f}\\h_{(t-1)} + \\b_f) \\\\\n",
    "\\save_\\tp      & = & i_\\tp &  = & \\sigma(\\W_{x,i} \\x_{(t)} + \\W_{h,i}\\h_{(t-1)} + \\b_i) \\\\\n",
    "\\focus_\\tp     & = & o_\\tp &  = & \\sigma(\\W_{x,o} \\x_{(t)} + \\W_{h,o}\\h_{(t-1)} + \\b_o) \\\\\n",
    "\\end{array}\n",
    "$$"
   ]
  },
  {
   "cell_type": "code",
   "execution_count": 2,
   "metadata": {
    "slideshow": {
     "slide_type": "slide"
    }
   },
   "outputs": [
    {
     "name": "stdout",
     "output_type": "stream",
     "text": [
      "Done\n"
     ]
    }
   ],
   "source": [
    "print(\"Done\")"
   ]
  }
 ],
 "metadata": {
  "celltoolbar": "Slideshow",
  "kernelspec": {
   "display_name": "Python 3",
   "language": "python",
   "name": "python3"
  },
  "language_info": {
   "codemirror_mode": {
    "name": "ipython",
    "version": 3
   },
   "file_extension": ".py",
   "mimetype": "text/x-python",
   "name": "python",
   "nbconvert_exporter": "python",
   "pygments_lexer": "ipython3",
   "version": "3.7.4"
  },
  "toc": {
   "base_numbering": 1,
   "nav_menu": {},
   "number_sections": true,
   "sideBar": true,
   "skip_h1_title": false,
   "title_cell": "Table of Contents",
   "title_sidebar": "Contents",
   "toc_cell": false,
   "toc_position": {
    "height": "calc(100% - 180px)",
    "left": "10px",
    "top": "150px",
    "width": "370.594px"
   },
   "toc_section_display": true,
   "toc_window_display": false
  }
 },
 "nbformat": 4,
 "nbformat_minor": 2
}
