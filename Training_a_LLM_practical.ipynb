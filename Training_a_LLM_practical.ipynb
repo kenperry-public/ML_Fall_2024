{
 "cells": [
  {
   "cell_type": "code",
   "execution_count": 1,
   "metadata": {
    "slideshow": {
     "slide_type": "notes"
    }
   },
   "outputs": [
    {
     "data": {
      "text/latex": [
       "$$\n",
       "\\newcommand{\\x}{\\mathbf{x}}\n",
       "\\newcommand{\\tx}{\\tilde{\\x}}\n",
       "\\newcommand{\\y}{\\mathbf{y}}\n",
       "\\newcommand{\\b}{\\mathbf{b}}\n",
       "\\newcommand{\\c}{\\mathbf{c}}\n",
       "\\newcommand{\\e}{\\mathbf{e}}\n",
       "\\newcommand{\\z}{\\mathbf{z}}\n",
       "\\newcommand{\\h}{\\mathbf{h}}\n",
       "\\newcommand{\\u}{\\mathbf{u}}\n",
       "\\newcommand{\\v}{\\mathbf{v}}\n",
       "\\newcommand{\\w}{\\mathbf{w}}\n",
       "\\newcommand{\\V}{\\mathbf{V}}\n",
       "\\newcommand{\\W}{\\mathbf{W}}\n",
       "\\newcommand{\\X}{\\mathbf{X}}\n",
       "\\newcommand{\\KL}{\\mathbf{KL}}\n",
       "\\newcommand{\\E}{{\\mathbb{E}}}\n",
       "\\newcommand{\\Reals}{{\\mathbb{R}}}\n",
       "\\newcommand{\\ip}{\\mathbf{{(i)}}}\n",
       "%\n",
       "% Test set\n",
       "\\newcommand{\\xt}{\\underline{\\x}}\n",
       "\\newcommand{\\yt}{\\underline{\\y}}\n",
       "\\newcommand{\\Xt}{\\underline{\\X}}\n",
       "\\newcommand{\\perfm}{\\mathcal{P}}\n",
       "%\n",
       "% \\ll indexes a layer; we can change the actual letter\n",
       "\\newcommand{\\ll}{l}\n",
       "\\newcommand{\\llp}{{(\\ll)}}\n",
       "%\n",
       "\\newcommand{Thetam}{\\Theta_{-0}}\n",
       "\n",
       "% CNN\n",
       "\\newcommand{\\kernel}{\\mathbf{k}} \n",
       "\\newcommand{\\dim}{d}\n",
       "\\newcommand{\\idxspatial}{{\\text{idx}}}\n",
       "\\newcommand{\\summaxact}{\\text{max}}\n",
       "%\n",
       "%\n",
       "\n",
       "% RNN\n",
       "% \\tt indexes a time step\n",
       "\\newcommand{\\tt}{t}\n",
       "\\newcommand{\\tp}{{(\\tt)}}\n",
       "%\n",
       "%\n",
       "\n",
       "% LSTM\n",
       "\\newcommand{\\g}{\\mathbf{g}}\n",
       "\\newcommand{\\remember}{\\mathbf{remember}}\n",
       "\\newcommand{\\save}{\\mathbf{save}}\n",
       "\\newcommand{\\focus}{\\mathbf{focus}}\n",
       "%\n",
       "%\n",
       "% NLP\n",
       "\\newcommand{\\Vocab}{\\mathbf{V}}\n",
       "\\newcommand{\\v}{\\mathbf{v}}\n",
       "\\newcommand{\\offset}{o}\n",
       "\\newcommand{\\o}{o}\n",
       "\\newcommand{\\Emb}{\\mathbf{E}}\n",
       "%\n",
       "%\n",
       "\\newcommand{\\loss}{\\mathcal{L}}\n",
       "\\newcommand{\\cost}{\\mathcal{L}}\n",
       "%\n",
       "%                     \n",
       "\\newcommand{\\pdata}{p_\\text{data}}\n",
       "\\newcommand{\\pmodel}{p_\\text{model}}\n",
       "%\n",
       "% SVM\n",
       "\\newcommand{\\margin}{{\\mathbb{m}}}\n",
       "\\newcommand{\\lmk}{\\boldsymbol{\\ell}}\n",
       "%\n",
       "%\n",
       "% Functions with arguments\n",
       "\\def\\xsy#1#2{#1^#2}\n",
       "\\def\\rand#1{\\tilde{#1}}\n",
       "\\def\\randx{\\rand{\\x}}\n",
       "\\def\\randy{\\rand{\\y}}\n",
       "\\def\\trans#1{\\dot{#1}}\n",
       "\\def\\transx{\\trans{\\x}}\n",
       "\\def\\transy{\\trans{\\y}}\n",
       "%\n",
       "\\def\\argmax#1{\\underset{#1} {\\operatorname{argmax}} }\n",
       "\\def\\argmin#1{\\underset{#1} {\\operatorname{argmin}} }\n",
       "\\def\\max#1{\\underset{#1} {\\operatorname{max}} }\n",
       "\\def\\min#1{\\underset{#1} {\\operatorname{min}} }\n",
       "%\n",
       "\\def\\pr#1{\\mathcal{p}(#1)}\n",
       "\\def\\prc#1#2{\\mathcal{p}(#1 \\; | \\; #2)}\n",
       "\\def\\cnt#1{\\mathcal{count}_{#1}}\n",
       "\\def\\node#1{\\mathbb{#1}}\n",
       "%\n",
       "\\def\\loc#1{{\\text{##} {#1}}}\n",
       "%\n",
       "\\def\\OrderOf#1{\\mathcal{O}\\left( #1 \\right)}\n",
       "%\n",
       "% Expectation operator\n",
       "\\def\\Exp#1{\\underset{#1} {\\operatorname{\\mathbb{E}}} }\n",
       "%\n",
       "% VAE\n",
       "\\def\\prs#1#2{\\mathcal{p}_{#2}(#1)}\n",
       "\\def\\qr#1{\\mathcal{q}(#1)}\n",
       "\\def\\qrs#1#2{\\mathcal{q}_{#2}(#1)}\n",
       "%\n",
       "% Reinforcement learning\n",
       "\\newcommand{\\Actions}{{\\mathcal{A}}} \n",
       "\\newcommand{\\actseq}{A}\n",
       "\\newcommand{\\act}{a}\n",
       "\\newcommand{\\States}{{\\mathcal{S}}}   \n",
       "\\newcommand{\\stateseq}{S}  \n",
       "\\newcommand{\\state}{s}\n",
       "\\newcommand{\\Rewards}{{\\mathcal{R}}}\n",
       "\\newcommand{\\rewseq}{R}\n",
       "\\newcommand{\\rew}{r}\n",
       "\\newcommand{\\transp}{P}\n",
       "\\newcommand{\\statevalfun}{v}\n",
       "\\newcommand{\\actvalfun}{q}\n",
       "\\newcommand{\\disc}{\\gamma}\n",
       "%\n",
       "%\n",
       "\\newcommand{\\floor}[1]{\\left\\lfloor #1 \\right\\rfloor}\n",
       "\\newcommand{\\ceil}[1]{\\left\\lceil #1 \\right\\rceil}\n",
       "%\n",
       "%\n",
       "$$\n"
      ],
      "text/plain": [
       "<IPython.core.display.Latex object>"
      ]
     },
     "metadata": {},
     "output_type": "display_data"
    }
   ],
   "source": [
    "%run Latex_macros.ipynb"
   ]
  },
  {
   "cell_type": "markdown",
   "metadata": {
    "slideshow": {
     "slide_type": "slide"
    }
   },
   "source": [
    "# What does it take to train a Large Language Model ?\n",
    "\n",
    "Suppose you wanted to replicate a Large Language Model such as GPT-3\n",
    "\n",
    "In theory, you know to train a Large Language Model\n",
    "- Gather a lot of text.  Tokenize it.\n",
    "$$\n",
    "\\langle \\text{token}_1 \\rangle \\langle \\text{token}_2 \\rangle \\ldots \n",
    "$$\n",
    "- Format the text into a training set for the \"predict the next token\" task\n",
    "\\begin{array} \\\\\n",
    "\\x^\\ip & = &\\langle \\text{token}_1 \\rangle \\langle \\text{token}_2 \\rangle \\ldots \\langle \\text{token}_{i-1}\\rangle  & \\text{example } i \\text{ features} \\\\\n",
    "\\y^\\ip & = & \\langle \\text{token}_{i}\\rangle & \\text{example } i \\text{ target} \\\\\n",
    "\\end{array}\n",
    "\n",
    "    Then just invoke the `fit` method of your model."
   ]
  },
  {
   "cell_type": "markdown",
   "metadata": {
    "slideshow": {
     "slide_type": "subslide"
    }
   },
   "source": [
    "You will face some practical impediments\n",
    "- The training set for most published papers is not public\n",
    "- Training is going to be\n",
    "    - very time and compute intensive\n",
    "    - expensive\n",
    "    - fraught with unexpected errors"
   ]
  },
  {
   "cell_type": "markdown",
   "metadata": {
    "slideshow": {
     "slide_type": "subslide"
    }
   },
   "source": [
    "The [Open Pre-Trained Transformer LLM (OPT)](https://arxiv.org/pdf/2205.01068.pdf)\n",
    "is an effort to \"democratize\" access to LLM's\n",
    "- Public training data\n",
    "- Document the training process in detail\n",
    "- Releases code used for training\n",
    "\n",
    "It creates a LLM with 175 billion parameters (like GPT-3)\n",
    "- with the objective that others should be able to replicate the work"
   ]
  },
  {
   "cell_type": "markdown",
   "metadata": {
    "slideshow": {
     "slide_type": "subslide"
    }
   },
   "source": [
    "It is easy to under-estimate the difficulty of the training process.\n",
    "\n",
    "This paper demystifies the process.\n",
    "\n",
    "There are a lot of details (as you would expect for a paper encouraging replication) !\n",
    "\n",
    "We will highlight some lessons that we find interesting for those planning on training large models."
   ]
  },
  {
   "cell_type": "markdown",
   "metadata": {
    "slideshow": {
     "slide_type": "slide"
    }
   },
   "source": [
    "# Compute environment\n",
    "\n",
    "OPT is trained on a multiple instances of the most advanced GPU available at the time\n",
    "- [NVIDIA A100](https://www.nvidia.com/content/dam/en-zz/Solutions/Data-Center/a100/pdf/a100-80gb-datasheet-update-nvidia-us-1521051-r2-web.pdf), with 80GB of GPU memory\n",
    "\n",
    "These are meant for data centers rather than personal computers (although a PC version is available)\n",
    "- 400 Watts max power\n",
    "- requires external cooling (Lots of it !)\n",
    "- $15K cost: [Amazon](https://www.amazon.com/Nvidia-Memory-Graphics-Ampere-Architecture/dp/B0BS56B54P/ref=sr_1_1?crid=3LOUTWUKFJPCX&keywords=nvidia+a100+80gb&qid=1677615169&s=electronics&sprefix=nvida+a100+80gb%2Celectronics%2C71&sr=1-1) for PC version (at time this was written)\n"
   ]
  },
  {
   "cell_type": "markdown",
   "metadata": {
    "slideshow": {
     "slide_type": "subslide"
    }
   },
   "source": [
    "The authors used almost 1000 (992 to be precise) GPU's.\n",
    "\n",
    "\n",
    "That's almost $15MM of GPU cost alone !"
   ]
  },
  {
   "cell_type": "markdown",
   "metadata": {
    "slideshow": {
     "slide_type": "subslide"
    }
   },
   "source": [
    "# Training lessons\n",
    "\n",
    "## Expect hardware failures\n",
    "\n",
    "When you are training for hours on 1000 machines\n",
    "- you should expect hardware failure in the middle of training\n",
    "    - 35 manual restarts over 2 months\n",
    "    \n",
    "Fortunately: the common Deep Learning API's (e.g, Keras, PyTorch) provide *check-pointing*\n",
    "- can restart training for a checkpoint\n",
    "- rather than beginning from scratch"
   ]
  },
  {
   "cell_type": "markdown",
   "metadata": {
    "slideshow": {
     "slide_type": "slide"
    }
   },
   "source": [
    "## Expect training loss to diverge\n",
    "\n",
    "In an ideal world: training loss decreases as the number of epochs of training increases.\n",
    "\n",
    "In practice: this probably won't happen consistently over a long training run."
   ]
  },
  {
   "cell_type": "markdown",
   "metadata": {
    "slideshow": {
     "slide_type": "subslide"
    }
   },
   "source": [
    "The authors were able to observe a relationship between Loss Divergence and\n",
    "- magnitude of activations at the final layer\n",
    "- the Loss Scalar (explained below) going to 0\n",
    "    - Loss Scalar: a factor used to scale the true loss\n",
    "        - to prevent overflow/underflow when using half-precision arithmetic\n",
    "        - half-precision arithmetic: most throughput on your GPU\n",
    "        "
   ]
  },
  {
   "cell_type": "markdown",
   "metadata": {
    "slideshow": {
     "slide_type": "subslide"
    }
   },
   "source": [
    "This enabled the authors to\n",
    "- re-start the training\n",
    "- from a prior checkpoint\n",
    "- where the values of these two factors were \"healthy\""
   ]
  },
  {
   "cell_type": "markdown",
   "metadata": {
    "slideshow": {
     "slide_type": "subslide"
    }
   },
   "source": [
    "But of course: re-starting in an *identical* training configuration could lead to a repetition of the problem.\n",
    "\n",
    "The solution was to lower the learning rate\n",
    "- an example of a *mid-flight correction*\n",
    "\n",
    "<img src=\"images/OPT_empirical_learning_rate.png\">"
   ]
  },
  {
   "cell_type": "markdown",
   "metadata": {
    "slideshow": {
     "slide_type": "subslide"
    }
   },
   "source": [
    "**Note**\n",
    "\n",
    "The original plan for the Learning Rate schedule\n",
    "- Warm-up: 0 to maximum over 2000 steps\n",
    "    - that's the big initial jump\n",
    "- Linear decay to 10% of maximum after 300B tokens\n",
    "- \"Mid-flight corrections\" are big jumps down"
   ]
  },
  {
   "cell_type": "markdown",
   "metadata": {
    "slideshow": {
     "slide_type": "slide"
    }
   },
   "source": [
    "### Aside: the Loss Scalar\n",
    "\n",
    "- In \"Full Precision\" arithmetic: 32 bits are used to encode a number.\n",
    "- \"Half Precison\" uses only 16 bits.  Smaller number of bits means\n",
    "    - can fit more examples per batch\n",
    "    - less data transfered from memory\n",
    "- GPU can execute more operations per second in half-precision\n",
    "    - faster training\n",
    "    - but at a cost of reduced range of numbers that can be represented\n",
    "        - the smallest 16 bit fraction is much larger than the smallest 32 bit fraction\n",
    "        - so gradients that are small but *not mathematically* zero become zero in the half-precision representation\n",
    "    - to avoid small gradients from becoming effectively zero:\n",
    "        - Scale the gradient by a multiplicative factor: the Loss Scalar\n",
    "\n",
    "See [NVIDIA Mixed Training Docuumentation](https://docs.nvidia.com/deeplearning/performance/mixed-precision-training/index.html#lossscaling) if you are interested in the why and how of half-precision."
   ]
  },
  {
   "cell_type": "code",
   "execution_count": 2,
   "metadata": {
    "slideshow": {
     "slide_type": "slide"
    }
   },
   "outputs": [
    {
     "name": "stdout",
     "output_type": "stream",
     "text": [
      "Done\n"
     ]
    }
   ],
   "source": [
    "print(\"Done\")"
   ]
  }
 ],
 "metadata": {
  "celltoolbar": "Slideshow",
  "kernelspec": {
   "display_name": "Python 3",
   "language": "python",
   "name": "python3"
  },
  "language_info": {
   "codemirror_mode": {
    "name": "ipython",
    "version": 3
   },
   "file_extension": ".py",
   "mimetype": "text/x-python",
   "name": "python",
   "nbconvert_exporter": "python",
   "pygments_lexer": "ipython3",
   "version": "3.7.4"
  },
  "toc": {
   "base_numbering": 1,
   "nav_menu": {},
   "number_sections": true,
   "sideBar": true,
   "skip_h1_title": false,
   "title_cell": "Table of Contents",
   "title_sidebar": "Contents",
   "toc_cell": false,
   "toc_position": {},
   "toc_section_display": true,
   "toc_window_display": true
  }
 },
 "nbformat": 4,
 "nbformat_minor": 2
}
