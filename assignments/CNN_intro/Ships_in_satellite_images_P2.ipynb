{
 "cells": [
  {
   "cell_type": "markdown",
   "metadata": {},
   "source": [
    "Before you turn this problem in, make sure everything runs as expected. First, **restart the kernel** (in the menubar, select Kernel$\\rightarrow$Restart) and then **run all cells** (in the menubar, select Cell$\\rightarrow$Run All).\n",
    "\n",
    "Make sure you fill in any place that says `YOUR CODE HERE` or \"YOUR ANSWER HERE\", as well as your name and collaborators below:"
   ]
  },
  {
   "cell_type": "code",
   "execution_count": 1,
   "metadata": {},
   "outputs": [],
   "source": [
    "NAME = \"\"\n",
    "COLLABORATORS = \"\""
   ]
  },
  {
   "cell_type": "markdown",
   "metadata": {},
   "source": [
    "---"
   ]
  },
  {
   "cell_type": "markdown",
   "metadata": {
    "deletable": false,
    "editable": false,
    "nbgrader": {
     "cell_type": "markdown",
     "checksum": "f4715a98f75e4450e56bbe8a01b78c21",
     "grade": false,
     "grade_id": "cell-aab334f02d422094",
     "locked": true,
     "schema_version": 3,
     "solution": false,
     "task": false
    }
   },
   "source": [
    "# Problem description\n",
    "\n",
    "In the last assignment, we created fully connected neural networks to\n",
    "solve the task of classifying whether a ship is present in a satellite photo.\n",
    "\n",
    "This assignment will address the same task, but using Convolutional Neural Network layers.\n"
   ]
  },
  {
   "cell_type": "markdown",
   "metadata": {
    "deletable": false,
    "editable": false,
    "nbgrader": {
     "cell_type": "markdown",
     "checksum": "8d32f3b93341f8633e13c19859b8f909",
     "grade": false,
     "grade_id": "cell-166bb4a11ef5ad8f",
     "locked": true,
     "schema_version": 3,
     "solution": false,
     "task": false
    }
   },
   "source": [
    "## Goal:\n",
    "\n",
    "In this notebook, you will need to create a model in `TensorFlow/Keras` *using Convolutional layers*  to classify satellite photos. \n",
    "\n",
    "- The features are images: 3 dimensional collection of pixels\n",
    "  - 2 spatial dimensions\n",
    "  - 1 dimension with 3 features for different parts of the color spectrum: Red, Green, Blue\n",
    "- The labels are either 1 (ship is present) or 0 (ship is not present)\n",
    "\n",
    "Unlike the model we created in the previous assignment (using Dense/Fully Connected layers)\n",
    "we will retain *all three color channels* of the data rather than converting it to one channel gray scale.\n",
    "\n",
    "There are two notebook files in this assignment:\n",
    "- The one you are viewing now: First and only notebook you need to work on. \n",
    "    - Train your models here\n",
    "    - There are cells that will save your models to a file\n",
    "- **`Model_test.ipynb`**:\n",
    "    - PLEASE IGNORE    \n"
   ]
  },
  {
   "cell_type": "markdown",
   "metadata": {
    "deletable": false,
    "editable": false,
    "nbgrader": {
     "cell_type": "markdown",
     "checksum": "f12bdc783b749eeff66eb997f92aebc8",
     "grade": false,
     "grade_id": "cell-ed321418e8c05fbd",
     "locked": true,
     "schema_version": 3,
     "solution": false,
     "task": false
    }
   },
   "source": [
    "## Learning objectives\n",
    "- Learn how to construct Neural Networks in a Keras Sequential model that uses Convolutional layer types.\n",
    "- Appreciate how layer choices impact number of weights"
   ]
  },
  {
   "cell_type": "markdown",
   "metadata": {
    "deletable": false,
    "editable": false,
    "nbgrader": {
     "cell_type": "markdown",
     "checksum": "775eec38908c719f14e416664854c121",
     "grade": false,
     "grade_id": "cell-bebac13768dd5459",
     "locked": true,
     "schema_version": 3,
     "solution": false
    }
   },
   "source": [
    "# Import modules"
   ]
  },
  {
   "cell_type": "code",
   "execution_count": 2,
   "metadata": {
    "deletable": false,
    "editable": false,
    "nbgrader": {
     "cell_type": "code",
     "checksum": "4dea57a0fd9055e6ed1b4e4df909e164",
     "grade": false,
     "grade_id": "cell-fd8d8a7d42bfb2ef",
     "locked": true,
     "schema_version": 3,
     "solution": false,
     "task": false
    }
   },
   "outputs": [
    {
     "name": "stdout",
     "output_type": "stream",
     "text": [
      "Running TensorFlow version  2.4.1\n",
      "Version 2, minor 4\n"
     ]
    }
   ],
   "source": [
    "## Standard imports\n",
    "import numpy as np\n",
    "import pandas as pd\n",
    "import matplotlib.pyplot as plt\n",
    "\n",
    "import sklearn\n",
    "\n",
    "import os\n",
    "import math\n",
    "\n",
    "%matplotlib inline\n",
    "\n",
    "## Import tensorflow\n",
    "import tensorflow as tf\n",
    "from tensorflow.keras.utils import plot_model\n",
    "\n",
    "print(\"Running TensorFlow version \",tf.__version__)\n",
    "\n",
    "# Parse tensorflow version\n",
    "import re\n",
    "\n",
    "version_match = re.match(\"([0-9]+)\\.([0-9]+)\", tf.__version__)\n",
    "tf_major, tf_minor = int(version_match.group(1)) , int(version_match.group(2))\n",
    "print(\"Version {v:d}, minor {m:d}\".format(v=tf_major, m=tf_minor) )"
   ]
  },
  {
   "cell_type": "markdown",
   "metadata": {},
   "source": [
    "# API for students\n",
    "\n",
    "We have defined some utility routines in a file `helper.py`. There is a class named `Helper` in it.  \n",
    "\n",
    "This will simplify problem solving\n",
    "\n",
    "More importantly: it adds structure to your submission so that it may be easily graded\n",
    "\n",
    "`helper = helper.Helper()`\n",
    "\n",
    "- getData: Get a collection of labeled images, used as follows\n",
    "\n",
    "  >`data, labels = helper.getData()`\n",
    "- showData: Visualize labelled images, used as follows\n",
    "\n",
    "  >`helper.showData(data, labels)`\n",
    "- plot training results: Visualize training accuracy, loss and validation accuracy, loss\n",
    "\n",
    "  >`helper.plotTrain(history, modelName)`, where history is the result of model training\n",
    "- save model: save a model in `./models` directory\n",
    "\n",
    "  >`helper.saveModel(model, modelName)`\n",
    "- save history: save a model history in `./models` directory\n",
    "  >`helper.saveHistory(history, modelName)`\n",
    " \n"
   ]
  },
  {
   "cell_type": "code",
   "execution_count": 3,
   "metadata": {},
   "outputs": [],
   "source": [
    "# Load the helper module\n",
    "from IPython.core.interactiveshell import InteractiveShell\n",
    "InteractiveShell.ast_node_interactivity = \"all\"\n",
    "\n",
    "# Reload all modules imported with %aimport\n",
    "%reload_ext autoreload\n",
    "%autoreload 1\n",
    "\n",
    "# Import nn_helper module\n",
    "import helper\n",
    "%aimport helper"
   ]
  },
  {
   "cell_type": "markdown",
   "metadata": {},
   "source": [
    "## You may pass an optional `data_dir` argument to the constructor `helper.Helper`\n",
    "- if you have your data directory located somewhere other than the default location\n",
    "- no need to provide an argument otherwise\n",
    "\n",
    "For example:\n",
    "\n",
    "        helper = helper.Helper(data_dir=\"./MyDataDir\")"
   ]
  },
  {
   "cell_type": "code",
   "execution_count": 4,
   "metadata": {},
   "outputs": [],
   "source": [
    "helper = helper.Helper()"
   ]
  },
  {
   "cell_type": "markdown",
   "metadata": {
    "deletable": false,
    "editable": false,
    "nbgrader": {
     "cell_type": "markdown",
     "checksum": "34bd0c1c77ac8143a1aedcf35a7d2ba2",
     "grade": false,
     "grade_id": "cell-2803a94c4394768a",
     "locked": true,
     "schema_version": 3,
     "solution": false,
     "task": false
    }
   },
   "source": [
    "# Get the data\n",
    "\n",
    "The first step in our Recipe is Get the Data.\n",
    "\n",
    "We have provided a utility method `getData` to simplify this for you"
   ]
  },
  {
   "cell_type": "code",
   "execution_count": null,
   "metadata": {
    "deletable": false,
    "editable": false,
    "nbgrader": {
     "cell_type": "code",
     "checksum": "a59a40fd68fdb01a7fc1d10293c6cc4c",
     "grade": false,
     "grade_id": "cell-fb06c24e914c4f81",
     "locked": true,
     "schema_version": 3,
     "solution": false,
     "task": false
    }
   },
   "outputs": [],
   "source": [
    "# Get the data\n",
    "data, labels = helper.getData()\n",
    "n_samples, width, height, channel = data.shape\n",
    "\n",
    "print(\"Data shape: \", data.shape)\n",
    "print(\"Labels shape: \", labels.shape)\n",
    "print(\"Label values: \", np.unique(labels))\n",
    "\n"
   ]
  },
  {
   "cell_type": "markdown",
   "metadata": {},
   "source": [
    "We will shuffle the examples before doing anything else.\n",
    "\n",
    "This is usually a good idea\n",
    "- Many datasets are naturally arranged in a *non-random* order, e.g., examples with the sample label grouped together\n",
    "- You want to make sure that, when you split the examples into training and test examples, each split has a similar distribution of examples"
   ]
  },
  {
   "cell_type": "code",
   "execution_count": null,
   "metadata": {
    "deletable": false,
    "editable": false,
    "nbgrader": {
     "cell_type": "code",
     "checksum": "a6539d1895d8bc6be15612f4c480f867",
     "grade": false,
     "grade_id": "cell-f9c777cfd609bd58",
     "locked": true,
     "schema_version": 3,
     "solution": false,
     "task": false
    }
   },
   "outputs": [],
   "source": [
    "# Shuffle the data\n",
    "data, labels = sklearn.utils.shuffle(data, labels, random_state=42)"
   ]
  },
  {
   "cell_type": "markdown",
   "metadata": {},
   "source": [
    "## Have a look at the data\n",
    "\n",
    "We will not go through all steps in the Recipe, nor in depth.\n",
    "\n",
    "But here's a peek\n"
   ]
  },
  {
   "cell_type": "code",
   "execution_count": null,
   "metadata": {
    "deletable": false,
    "editable": false,
    "nbgrader": {
     "cell_type": "code",
     "checksum": "68b4477808d0ff1dd47421439aa2efb2",
     "grade": false,
     "grade_id": "cell-a9c0eb2dd06d3edf",
     "locked": true,
     "schema_version": 3,
     "solution": false,
     "task": false
    }
   },
   "outputs": [],
   "source": [
    "# Visualize the data samples\n",
    "helper.showData(data[:25], labels[:25])\n"
   ]
  },
  {
   "cell_type": "markdown",
   "metadata": {},
   "source": [
    "## Have  look at the data: Examine the image/label pairs\n",
    "\n",
    "Rather than viewing the examples in random order, let's group them by label.\n",
    "\n",
    "Perhaps we will learn something about the characteristics of images that contain ships.\n",
    "\n",
    "We have loaded and shuffled our dataset, now we will take a look at image/label pairs. \n",
    "\n",
    "Feel free to explore the data using your own ideas and techniques.\n"
   ]
  },
  {
   "cell_type": "code",
   "execution_count": null,
   "metadata": {},
   "outputs": [],
   "source": [
    "# Inspect some data (images)\n",
    "num_each_label = 10\n",
    "\n",
    "for lab in np.unique(labels):\n",
    "    # Fetch images with different labels\n",
    "    X_lab, y_lab = data[ labels == lab ], labels[ labels == lab]\n",
    "    # Display images\n",
    "    fig = helper.showData( X_lab[:num_each_label], [ str(label) for label in y_lab[:num_each_label] ], cmap=\"gray\")\n",
    "    _ = fig.suptitle(\"Label: \"+  str(lab), fontsize=14)\n",
    "    print(\"\\n\\n\")\n"
   ]
  },
  {
   "cell_type": "markdown",
   "metadata": {},
   "source": [
    "# Make sure the features are in the range [0,1]  \n",
    "\n",
    "**Warm up exercise:** When we want to train on image data, the first thing we usually need to do is scaling. \n",
    "\n",
    "Since the feature values in our image data are between 0 and 255, to make them between 0 and 1, we need to divide them by 255.  \n",
    "\n",
    "We also need to consider how to represent our target values\n",
    "- If there are more than 2 possible target values, One Hot Encoding may be appropriate\n",
    "    - **Hint**: Lookup `tf.keras.utils.to_categorical`\n",
    "- If there are only 2 possible targets with values 0 and 1 we can use these targets without further encoding\n",
    "\n",
    "**Question**\n",
    "- Set variable `X` to be our **color** (3 channels) examples (`data`), but with values in the range [0,1]\n",
    "- Set variable `y` to be the representation of our target values\n",
    "\n"
   ]
  },
  {
   "cell_type": "code",
   "execution_count": null,
   "metadata": {
    "deletable": false,
    "nbgrader": {
     "cell_type": "code",
     "checksum": "a6d9e4b93a2f2c74eb059819631d00af",
     "grade": false,
     "grade_id": "Scale_the_data",
     "locked": false,
     "schema_version": 3,
     "solution": true,
     "task": false
    }
   },
   "outputs": [],
   "source": [
    "# Scale the data\n",
    "# Assign values for X, y\n",
    "#  X: the array of features\n",
    "#  y: the array of labels\n",
    "# The length of X and y should be identical and equal to the length of data.\n",
    "from tensorflow.keras.utils import to_categorical\n",
    "X, y = np.array([]), np.array([])\n",
    "\n",
    "# YOUR CODE HERE\n",
    "raise NotImplementedError()"
   ]
  },
  {
   "cell_type": "code",
   "execution_count": null,
   "metadata": {
    "deletable": false,
    "editable": false,
    "nbgrader": {
     "cell_type": "code",
     "checksum": "897ffc4cfdc48d8383d381f373fd09d3",
     "grade": false,
     "grade_id": "cell-e4e9841d645b9c2a",
     "locked": true,
     "schema_version": 3,
     "solution": false,
     "task": false
    }
   },
   "outputs": [],
   "source": [
    "# Check if your solution is right \n",
    "\n",
    "assert X.shape == (4000, 80, 80, 3)\n",
    "assert ( (y.shape == (4000,)) or (y.shape == (4000,1)) )\n"
   ]
  },
  {
   "cell_type": "markdown",
   "metadata": {
    "deletable": false,
    "editable": false,
    "nbgrader": {
     "cell_type": "markdown",
     "checksum": "2c25a93887075ee59d0ddc5da37279c8",
     "grade": false,
     "grade_id": "cell-283607cfb26dba87",
     "locked": true,
     "schema_version": 3,
     "solution": false,
     "task": false
    }
   },
   "source": [
    "# Split data into training data and testing data\n",
    "To train and evaluate a model, we need to split the original dataset into\n",
    "a training subset (in-sample) and a test subset (out of sample).\n",
    "\n",
    "We will do this for you in the cell below.\n",
    "\n",
    "**DO NOT** shuffle the data until after we have performed the split into train/test sets\n",
    "- We want everyone to have the **identical** test set for grading\n",
    "- Do not change this cell\n",
    "\n"
   ]
  },
  {
   "cell_type": "code",
   "execution_count": null,
   "metadata": {
    "deletable": false,
    "editable": false,
    "nbgrader": {
     "cell_type": "code",
     "checksum": "5dd590589e266fd4d843f284d0bfa45a",
     "grade": false,
     "grade_id": "cell-62107cab9cafed97",
     "locked": true,
     "schema_version": 3,
     "solution": false
    }
   },
   "outputs": [],
   "source": [
    "# Split data into train and test\n",
    "from sklearn.model_selection import train_test_split\n",
    "X_train, X_test, y_train, y_test = train_test_split(X, y, test_size=0.10, random_state=42)\n",
    "\n",
    "# Save X_train, X_test, y_train, y_test for final testing\n",
    "if not os.path.exists('./data'):\n",
    "    os.mkdir('./data')\n",
    "np.savez_compressed('./data/train_test_data.npz', X_train=X_train, X_test=X_test, y_train=y_train, y_test=y_test)\n"
   ]
  },
  {
   "cell_type": "markdown",
   "metadata": {
    "deletable": false,
    "editable": false,
    "nbgrader": {
     "cell_type": "markdown",
     "checksum": "8982415ec8387f9ae480f2a9024b5eea",
     "grade": false,
     "grade_id": "cell-0ecd0b822dfacc9a",
     "locked": true,
     "schema_version": 3,
     "solution": false
    }
   },
   "source": [
    "# Create a simple CNN model \n",
    "\n",
    "**Question:** Create a Keras Sequential model:\n",
    "- With a single Convolutional Layer providing the number of features given in variable `num_conv_features1` indicated below.\n",
    "    - You may choose your own kernel size\n",
    "    - Use same padding\n",
    "- Feeding a head layer implementing Classification  \n",
    "\n",
    "Please name your Convolutional layer \"CNN_1\" and your Dense layer (head layer) \"dense_head\"\n",
    "\n",
    "Set variable `model0` to be a Keras `Sequential` model object that implements your model.\n",
    "\n",
    "**Hints:**\n",
    "1. The `input shape` argument of the first layer should be the shape of a single example, which should be 3-dimensional. We don't need to flatten the data before feeding the Convolutional layer.\n",
    "2. What is the shape of the output of the Convolutional Layer ? What should be the shape of the input to the Classification head ?\n",
    "    - You may want to flatten the output of the Convolutional layer before feeding the Classification head.\n",
    "3. The number of units in your head layer \n",
    "    - Depends on how you represented the target\n",
    "    - It should be equal to the final dimension of  `y`\n",
    "\n",
    "4. Activation function for the head layer: Since this is a classification problem\n",
    "    - Use  `sigmoid` if your target's final dimension equals 1\n",
    "    - Use  `softmax` if your target's final dimension is greater than 1\n",
    "\n",
    "Think about the number of parameters in this model and whether\n",
    "it is likely to be prone to overfitting. \n",
    "If you feel the need:\n",
    "\n",
    "- A Dropout layer maybe helpful to prevent overfitting and accelerate your training process. \n",
    "    - If you want to use a Dropout layer, you can use `Dropout()`, which is in  `tensorflow.keras.layers`. \n",
    "\n"
   ]
  },
  {
   "cell_type": "code",
   "execution_count": null,
   "metadata": {
    "deletable": false,
    "nbgrader": {
     "cell_type": "code",
     "checksum": "f36913b17a752daa5dcbb9b92e176ae5",
     "grade": false,
     "grade_id": "build_CNN",
     "locked": false,
     "schema_version": 3,
     "solution": true,
     "task": false
    }
   },
   "outputs": [],
   "source": [
    "# Set model0 equal to a Keras Sequential model\n",
    "model0 = None\n",
    "\n",
    "num_conv_features1 = 32\n",
    "\n",
    "# YOUR CODE HERE\n",
    "raise NotImplementedError()\n",
    "\n",
    "model0.summary()"
   ]
  },
  {
   "cell_type": "code",
   "execution_count": null,
   "metadata": {
    "deletable": false,
    "editable": false,
    "nbgrader": {
     "cell_type": "code",
     "checksum": "5c9f81eddf5fc1399291d368a05382d6",
     "grade": false,
     "grade_id": "cell-54fe70474448b2ab",
     "locked": true,
     "schema_version": 3,
     "solution": false
    }
   },
   "outputs": [],
   "source": [
    "# Plot your model\n",
    "plot_model(model0)"
   ]
  },
  {
   "cell_type": "markdown",
   "metadata": {
    "deletable": false,
    "editable": false,
    "nbgrader": {
     "cell_type": "markdown",
     "checksum": "eceed91d8a6a52cb3f1daabaa1885e9a",
     "grade": false,
     "grade_id": "cell-dce35e7d469b23c4",
     "locked": true,
     "schema_version": 3,
     "solution": false
    }
   },
   "source": [
    "## Train model\n",
    "\n",
    "\n",
    "**Question:**\n",
    "\n",
    "Now that you have built your first model, you will compile and train it. The requirements are as follows:\n",
    "\n",
    "- Split the **training** examples `X_train, y_train` again !\n",
    "    - 80% will be used for training the model\n",
    "    - 20% will be used as validation (out of sample) examples\n",
    "    - Use `train_test_split()` from `sklearn` to perform this split\n",
    "        -  Set the `random_state` parameter of `train_test_split()` to be 42\n",
    "\n",
    "- Loss function: \n",
    "    - `binary_crossentropy` if your target is one-dimensional\n",
    "    - `categorical_crossentropy`if your target is One Hot Encoded\n",
    "- Metric: \"accuracy\"\n",
    "- Use the value in variable `max_epochs` as the number of epochs for training\n",
    "\n",
    "- Plot your training results using the`plotTrain` method described in the Student API above.\n"
   ]
  },
  {
   "cell_type": "code",
   "execution_count": null,
   "metadata": {
    "deletable": false,
    "nbgrader": {
     "cell_type": "code",
     "checksum": "7f784b856b22a3c81326fdf40ca61d4a",
     "grade": false,
     "grade_id": "train_model_0",
     "locked": false,
     "schema_version": 3,
     "solution": true,
     "task": false
    }
   },
   "outputs": [],
   "source": [
    "model_name0 = \"CNN + Head\"\n",
    "max_epochs = 10\n",
    "\n",
    "# YOUR CODE HERE\n",
    "raise NotImplementedError()"
   ]
  },
  {
   "cell_type": "markdown",
   "metadata": {
    "deletable": false,
    "editable": false,
    "nbgrader": {
     "cell_type": "markdown",
     "checksum": "df51395c697462a80ff0af16e4c754db",
     "grade": false,
     "grade_id": "cell-98674d593fed1157",
     "locked": true,
     "schema_version": 3,
     "solution": false
    }
   },
   "source": [
    "## How many weights in the model ?\n",
    "\n",
    "**Question:** \n",
    "\n",
    "Calculate the number of parameters in your model.  \n",
    "\n",
    "Set variable `num_parameters0` to be equal to the number of parameters in your model.\n",
    "\n",
    "**Hint:** The model object may have a method to help you ! Remember that Jupyter can help you find the methods that an object implements.\n",
    "\n"
   ]
  },
  {
   "cell_type": "code",
   "execution_count": null,
   "metadata": {
    "deletable": false,
    "nbgrader": {
     "cell_type": "code",
     "checksum": "2092cde852168b40175b2f11fc8b525b",
     "grade": false,
     "grade_id": "num_parameters_0",
     "locked": false,
     "schema_version": 3,
     "solution": true,
     "task": false
    }
   },
   "outputs": [],
   "source": [
    "# Set num_parameters2 equal to the number of weights in the model\n",
    "num_parameters0 = None\n",
    "\n",
    "# YOUR CODE HERE\n",
    "raise NotImplementedError()\n",
    "\n",
    "print(\"Parameters number in model0: \", num_parameters0)"
   ]
  },
  {
   "cell_type": "markdown",
   "metadata": {
    "deletable": false,
    "editable": false,
    "nbgrader": {
     "cell_type": "markdown",
     "checksum": "9915d52965e13514bebdae8a678bfff8",
     "grade": false,
     "grade_id": "cell-77ec59a6b2d705a5",
     "locked": true,
     "schema_version": 3,
     "solution": false
    }
   },
   "source": [
    "## Evaluate the model\n",
    "\n",
    "**Question:**\n",
    "\n",
    "We have trained our model. We now need to  evaluate the model using the test dataset created in an earlier cell.\n",
    "\n",
    "Please store the model score in a variable named `score0`.   \n",
    "\n",
    "**Hint:** The model object has a method  `evaluate`.  Use that to compute the score.\n",
    "\n",
    "\n"
   ]
  },
  {
   "cell_type": "code",
   "execution_count": null,
   "metadata": {
    "deletable": false,
    "nbgrader": {
     "cell_type": "code",
     "checksum": "e6847a8e80afdc60194a2750aafdb9a7",
     "grade": false,
     "grade_id": "score_0",
     "locked": false,
     "schema_version": 3,
     "solution": true,
     "task": false
    }
   },
   "outputs": [],
   "source": [
    "score0 = []\n",
    "\n",
    "# YOUR CODE HERE\n",
    "raise NotImplementedError()\n",
    "\n",
    "print(\"{n:s}: Test loss: {l:3.2f} / Test accuracy: {a:3.2f}\".format(n=model_name0, l=score0[0], a=score0[1]))"
   ]
  },
  {
   "cell_type": "markdown",
   "metadata": {
    "deletable": false,
    "editable": false,
    "nbgrader": {
     "cell_type": "markdown",
     "checksum": "55675ce4e1a57bd64f76d64b69ddd58c",
     "grade": false,
     "grade_id": "cell-c0378f5188326c7f",
     "locked": true,
     "schema_version": 3,
     "solution": false
    }
   },
   "source": [
    "Your test accuracy should be around 0.9"
   ]
  },
  {
   "cell_type": "markdown",
   "metadata": {
    "deletable": false,
    "editable": false,
    "nbgrader": {
     "cell_type": "markdown",
     "checksum": "a85e61f68863c7d3127126437d7326d5",
     "grade": false,
     "grade_id": "cell-192004702d2fc5db",
     "locked": true,
     "schema_version": 3,
     "solution": false
    }
   },
   "source": [
    "## Save the trained model0 and history for submission\n",
    "\n",
    "Your fitted model can be saved for later use\n",
    "- In general: so you can resume training at a later time\n",
    "- In particular: to allow us to grade it !\n",
    "\n",
    "Execute the following cell to save your model, which you will submit to us for grading."
   ]
  },
  {
   "cell_type": "code",
   "execution_count": null,
   "metadata": {
    "deletable": false,
    "editable": false,
    "nbgrader": {
     "cell_type": "code",
     "checksum": "27ec4288075a47ebf5eb2d3b76e9a0b7",
     "grade": false,
     "grade_id": "cell-6f1a03c62806d4b8",
     "locked": true,
     "schema_version": 3,
     "solution": false
    }
   },
   "outputs": [],
   "source": [
    "helper.saveModel(model0, model_name0)\n",
    "helper.saveHistory(history0, model_name0)"
   ]
  },
  {
   "cell_type": "code",
   "execution_count": null,
   "metadata": {
    "deletable": false,
    "editable": false,
    "nbgrader": {
     "cell_type": "code",
     "checksum": "7886580480632180a6f1393bef5ec623",
     "grade": false,
     "grade_id": "cell-523fe0434190ea76",
     "locked": true,
     "schema_version": 3,
     "solution": false
    }
   },
   "outputs": [],
   "source": [
    "## Restore the model (make sure that it works)\n",
    "model_loaded = helper.loadModel(model_name0)\n",
    "score_loaded = model_loaded.evaluate(X_test, y_test, verbose=0)\n",
    "\n",
    "assert score_loaded[0] == score0[0] and score_loaded[1] == score0[1]"
   ]
  },
  {
   "cell_type": "markdown",
   "metadata": {
    "deletable": false,
    "editable": false,
    "nbgrader": {
     "cell_type": "markdown",
     "checksum": "a0395d6bd20389df4bf83d34a65508a5",
     "grade": false,
     "grade_id": "cell-885fb36c1f4c3ee9",
     "locked": true,
     "schema_version": 3,
     "solution": false
    }
   },
   "source": [
    "# Create a model with 4 Convolutional layers\n",
    "\n",
    "**Question:** \n",
    "\n",
    "We will now create a model with more Convolutional layers.\n",
    "- Use **4** Convolutional layers.\n",
    "    - You may choose your own kernel size\n",
    "    - Use full padding\n",
    "    - ReLU activation functions for the Convolutional layers\n",
    "\n",
    "    - Each of the first two Convolutional layers should have the number of features given in variable `num_conv_features1` indicated below\n",
    "        - Please name thee layers \"CNN_1\" and \"CNN_2\"\n",
    "    - Each of the last two Convolutional layers should have the number of features given in variable `num_conv_features2` indicated below\n",
    "        - Please name thee layers \"CNN_3\" and \"CNN_4\"\n",
    "- Insert a `MaxPooling` layer after every two Convolutional layers (e.g., after CNN_2 and CNN_4)\n",
    "    - to reduce each spatial dimension by a factor of 2  \n",
    "\n",
    "- Please name your head layer \"dense_head\". \n",
    "\n",
    "Set variable `model1` to be a Keras `Sequential` model object that implements your model.\n",
    "\n",
    "**Hints:**\n",
    "- Don't forget to flatten the output of the layer feeding the Classification head \n",
    "- A Dropout layer maybe helpful to prevent overfitting and accelerate your training process. \n"
   ]
  },
  {
   "cell_type": "code",
   "execution_count": null,
   "metadata": {
    "deletable": false,
    "nbgrader": {
     "cell_type": "code",
     "checksum": "be148e31b659fd504743b61bddd21a30",
     "grade": false,
     "grade_id": "build_model_1",
     "locked": false,
     "schema_version": 3,
     "solution": true,
     "task": false
    }
   },
   "outputs": [],
   "source": [
    "# Set model1 equal to a Keras Sequential model\n",
    "model1 = None\n",
    "num_conv_features1 = 32\n",
    "num_conv_features2 = 64\n",
    "\n",
    "# YOUR CODE HERE\n",
    "raise NotImplementedError()\n",
    "\n",
    "model1.summary()"
   ]
  },
  {
   "cell_type": "code",
   "execution_count": null,
   "metadata": {
    "deletable": false,
    "editable": false,
    "nbgrader": {
     "cell_type": "code",
     "checksum": "cfe123c4851a0fb1f394d93abf64702b",
     "grade": false,
     "grade_id": "cell-dcdd427b3ea74992",
     "locked": true,
     "schema_version": 3,
     "solution": false
    }
   },
   "outputs": [],
   "source": [
    "# Plot your model\n",
    "plot_model(model1)"
   ]
  },
  {
   "cell_type": "markdown",
   "metadata": {
    "deletable": false,
    "editable": false,
    "nbgrader": {
     "cell_type": "markdown",
     "checksum": "1ed9b9efdeab17bd69a68b5dd82c8c74",
     "grade": false,
     "grade_id": "cell-8e46d9953695d6e5",
     "locked": true,
     "schema_version": 3,
     "solution": false
    }
   },
   "source": [
    "## Train model\n",
    "\n",
    "**Question:**\n",
    "\n",
    "Train your new model following the same instructions as given for training the first model.\n",
    "- Use the same datasets for training and validation as in your first model\n",
    "- Use the same Loss function and metrics as in your first model\n",
    "- **Except**: Save your training results in a variable named `history1`\n",
    "\n"
   ]
  },
  {
   "cell_type": "code",
   "execution_count": null,
   "metadata": {
    "deletable": false,
    "nbgrader": {
     "cell_type": "code",
     "checksum": "6505ddd928141a05ee554c5a11d562e6",
     "grade": false,
     "grade_id": "train_model_1",
     "locked": false,
     "schema_version": 3,
     "solution": true,
     "task": false
    }
   },
   "outputs": [],
   "source": [
    "# Train the model using the API\n",
    "model_name1 = \"4CNNs + Head\"\n",
    "\n",
    "# YOUR CODE HERE\n",
    "raise NotImplementedError()"
   ]
  },
  {
   "cell_type": "markdown",
   "metadata": {
    "deletable": false,
    "editable": false,
    "nbgrader": {
     "cell_type": "markdown",
     "checksum": "12c388ad4e1fc4da491d90e7141b2759",
     "grade": false,
     "grade_id": "cell-717674853369a3ee",
     "locked": true,
     "schema_version": 3,
     "solution": false
    }
   },
   "source": [
    "## How many weights in this model ?\n",
    "\n",
    "**Question:** Calculate the number of parameters in your new model.  \n",
    "\n",
    "Set variable `num_parameters1` to be equal to the number of parameters in your model.\n",
    "\n"
   ]
  },
  {
   "cell_type": "code",
   "execution_count": null,
   "metadata": {
    "deletable": false,
    "nbgrader": {
     "cell_type": "code",
     "checksum": "ef820b953e2c6fc061bccd57ad6839b1",
     "grade": false,
     "grade_id": "num_parameters_1",
     "locked": false,
     "schema_version": 3,
     "solution": true,
     "task": false
    }
   },
   "outputs": [],
   "source": [
    "# Set num_parameters3 equal to the number of weights in the model\n",
    "num_parameters1 = None\n",
    "\n",
    "# YOUR CODE HERE\n",
    "raise NotImplementedError()\n",
    "\n",
    "print('Parameters number in model1:', num_parameters1)"
   ]
  },
  {
   "cell_type": "markdown",
   "metadata": {
    "deletable": false,
    "editable": false,
    "nbgrader": {
     "cell_type": "markdown",
     "checksum": "086ed976333738b28adebe706691037c",
     "grade": false,
     "grade_id": "cell-f429bc7bd348a070",
     "locked": true,
     "schema_version": 3,
     "solution": false
    }
   },
   "source": [
    "## Evaluate the model\n",
    "\n",
    "Evaluate your new model following the same instructions as given for evaluating the first model.\n",
    "- **Except**: store the model score in a variable named `score1`.  \n",
    "\n"
   ]
  },
  {
   "cell_type": "code",
   "execution_count": null,
   "metadata": {
    "deletable": false,
    "nbgrader": {
     "cell_type": "code",
     "checksum": "6d5e72712305f5c8a29d1638f8c8c608",
     "grade": false,
     "grade_id": "score_1",
     "locked": false,
     "schema_version": 3,
     "solution": true,
     "task": false
    }
   },
   "outputs": [],
   "source": [
    "score1 = []\n",
    "\n",
    "# YOUR CODE HERE\n",
    "raise NotImplementedError()\n",
    "\n",
    "print(\"{n:s}: Test loss: {l:3.2f} / Test accuracy: {a:3.2f}\".format(n=model_name1, l=score1[0], a=score1[1]))"
   ]
  },
  {
   "cell_type": "markdown",
   "metadata": {
    "deletable": false,
    "editable": false,
    "nbgrader": {
     "cell_type": "markdown",
     "checksum": "0c6fd0ab9b5c68d62d759c20acedd1c1",
     "grade": false,
     "grade_id": "cell-26608e147eb7f5a4",
     "locked": true,
     "schema_version": 3,
     "solution": false
    }
   },
   "source": [
    "Is your test accuracy higher than before ?"
   ]
  },
  {
   "cell_type": "markdown",
   "metadata": {
    "deletable": false,
    "editable": false,
    "nbgrader": {
     "cell_type": "markdown",
     "checksum": "2776f9d6608e9a82306066e70b0875f1",
     "grade": false,
     "grade_id": "cell-c181815caa08e570",
     "locked": true,
     "schema_version": 3,
     "solution": false
    }
   },
   "source": [
    "# Save your trained model1 and history1"
   ]
  },
  {
   "cell_type": "code",
   "execution_count": null,
   "metadata": {
    "deletable": false,
    "editable": false,
    "nbgrader": {
     "cell_type": "code",
     "checksum": "da43a629678d438b2e8a0183468d87f6",
     "grade": false,
     "grade_id": "cell-d5e52d3b2cef5a8d",
     "locked": true,
     "schema_version": 3,
     "solution": false
    }
   },
   "outputs": [],
   "source": [
    "helper.saveModel(model1, model_name1)\n",
    "helper.saveHistory(history1, model_name1)"
   ]
  },
  {
   "cell_type": "markdown",
   "metadata": {
    "deletable": false,
    "editable": false,
    "nbgrader": {
     "cell_type": "markdown",
     "checksum": "7f70d9abd5195eaa7335938c9e3eb921",
     "grade": false,
     "grade_id": "cell-f9a30644ede90e86",
     "locked": true,
     "schema_version": 3,
     "solution": false
    }
   },
   "source": [
    "## Discussion\n",
    "\n",
    "\n",
    "You can learn a lot by experimenting.  Some ideas to try:\n",
    "- Change the kernel size in Convolutional layers\n",
    "- Change the number of features of Convolutional layers\n",
    "- Experiment with different pooling layers: `MaxPooling2D` and `AveragePooling2D`\n",
    "- Change the activation function\n",
    "\n",
    "Observe the effect of each change on the Loss and Accuracy.\n",
    "\n",
    "Questions to consider:\n",
    "- How did the number of parameters change between the two models ?\n",
    "- How did the choice of layer types affect the number of parameters ?\n"
   ]
  },
  {
   "cell_type": "code",
   "execution_count": null,
   "metadata": {},
   "outputs": [],
   "source": []
  }
 ],
 "metadata": {
  "kernelspec": {
   "display_name": "tf",
   "language": "python",
   "name": "tf"
  },
  "language_info": {
   "codemirror_mode": {
    "name": "ipython",
    "version": 3
   },
   "file_extension": ".py",
   "mimetype": "text/x-python",
   "name": "python",
   "nbconvert_exporter": "python",
   "pygments_lexer": "ipython3",
   "version": "3.9.12"
  },
  "toc": {
   "base_numbering": 1,
   "nav_menu": {},
   "number_sections": true,
   "sideBar": true,
   "skip_h1_title": false,
   "title_cell": "Table of Contents",
   "title_sidebar": "Contents",
   "toc_cell": false,
   "toc_position": {},
   "toc_section_display": true,
   "toc_window_display": false
  }
 },
 "nbformat": 4,
 "nbformat_minor": 4
}
