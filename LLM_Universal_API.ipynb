{
 "cells": [
  {
   "cell_type": "code",
   "execution_count": 1,
   "metadata": {
    "slideshow": {
     "slide_type": "notes"
    }
   },
   "outputs": [
    {
     "data": {
      "text/latex": [
       "$$\n",
       "\\newcommand{\\x}{\\mathbf{x}}\n",
       "\\newcommand{\\tx}{\\tilde{\\x}}\n",
       "\\newcommand{\\y}{\\mathbf{y}}\n",
       "\\newcommand{\\b}{\\mathbf{b}}\n",
       "\\newcommand{\\c}{\\mathbf{c}}\n",
       "\\newcommand{\\e}{\\mathbf{e}}\n",
       "\\newcommand{\\z}{\\mathbf{z}}\n",
       "\\newcommand{\\h}{\\mathbf{h}}\n",
       "\\newcommand{\\u}{\\mathbf{u}}\n",
       "\\newcommand{\\v}{\\mathbf{v}}\n",
       "\\newcommand{\\w}{\\mathbf{w}}\n",
       "\\newcommand{\\V}{\\mathbf{V}}\n",
       "\\newcommand{\\W}{\\mathbf{W}}\n",
       "\\newcommand{\\X}{\\mathbf{X}}\n",
       "\\newcommand{\\KL}{\\mathbf{KL}}\n",
       "\\newcommand{\\E}{{\\mathbb{E}}}\n",
       "\\newcommand{\\Reals}{{\\mathbb{R}}}\n",
       "\\newcommand{\\ip}{\\mathbf{{(i)}}}\n",
       "%\n",
       "% Test set\n",
       "\\newcommand{\\xt}{\\underline{\\x}}\n",
       "\\newcommand{\\yt}{\\underline{\\y}}\n",
       "\\newcommand{\\Xt}{\\underline{\\X}}\n",
       "\\newcommand{\\perfm}{\\mathcal{P}}\n",
       "%\n",
       "% \\ll indexes a layer; we can change the actual letter\n",
       "\\newcommand{\\ll}{l}\n",
       "\\newcommand{\\llp}{{(\\ll)}}\n",
       "%\n",
       "\\newcommand{Thetam}{\\Theta_{-0}}\n",
       "\n",
       "% CNN\n",
       "\\newcommand{\\kernel}{\\mathbf{k}} \n",
       "\\newcommand{\\dim}{d}\n",
       "\\newcommand{\\idxspatial}{{\\text{idx}}}\n",
       "\\newcommand{\\summaxact}{\\text{max}}\n",
       "\\newcommand{idxb}{\\mathbf{i}}\n",
       "%\n",
       "%\n",
       "\n",
       "% RNN\n",
       "% \\tt indexes a time step\n",
       "\\newcommand{\\tt}{t}\n",
       "\\newcommand{\\tp}{{(\\tt)}}\n",
       "%\n",
       "%\n",
       "\n",
       "% LSTM\n",
       "\\newcommand{\\g}{\\mathbf{g}}\n",
       "\\newcommand{\\remember}{\\mathbf{remember}}\n",
       "\\newcommand{\\save}{\\mathbf{save}}\n",
       "\\newcommand{\\focus}{\\mathbf{focus}}\n",
       "%\n",
       "%\n",
       "% NLP\n",
       "\\newcommand{\\Vocab}{\\mathbf{V}}\n",
       "\\newcommand{\\v}{\\mathbf{v}}\n",
       "\\newcommand{\\offset}{o}\n",
       "\\newcommand{\\o}{o}\n",
       "\\newcommand{\\Emb}{\\mathbf{E}}\n",
       "%\n",
       "%\n",
       "\\newcommand{\\loss}{\\mathcal{L}}\n",
       "\\newcommand{\\cost}{\\mathcal{L}}\n",
       "%\n",
       "%                     \n",
       "\\newcommand{\\pdata}{p_\\text{data}}\n",
       "\\newcommand{\\pmodel}{p_\\text{model}}\n",
       "%\n",
       "% SVM\n",
       "\\newcommand{\\margin}{{\\mathbb{m}}}\n",
       "\\newcommand{\\lmk}{\\boldsymbol{\\ell}}\n",
       "%\n",
       "%\n",
       "% Functions with arguments\n",
       "\\def\\xsy#1#2{#1^#2}\n",
       "\\def\\rand#1{\\tilde{#1}}\n",
       "\\def\\randx{\\rand{\\x}}\n",
       "\\def\\randy{\\rand{\\y}}\n",
       "\\def\\trans#1{\\dot{#1}}\n",
       "\\def\\transx{\\trans{\\x}}\n",
       "\\def\\transy{\\trans{\\y}}\n",
       "%\n",
       "\\def\\argmax#1{\\underset{#1} {\\operatorname{argmax}} }\n",
       "\\def\\argmin#1{\\underset{#1} {\\operatorname{argmin}} }\n",
       "\\def\\max#1{\\underset{#1} {\\operatorname{max}} }\n",
       "\\def\\min#1{\\underset{#1} {\\operatorname{min}} }\n",
       "%\n",
       "\\def\\pr#1{\\mathcal{p}(#1)}\n",
       "\\def\\prc#1#2{\\mathcal{p}(#1 \\; | \\; #2)}\n",
       "\\def\\cnt#1{\\mathcal{count}_{#1}}\n",
       "\\def\\node#1{\\mathbb{#1}}\n",
       "%\n",
       "\\def\\loc#1{{\\text{##} {#1}}}\n",
       "%\n",
       "\\def\\OrderOf#1{\\mathcal{O}\\left( {#1} \\right)}\n",
       "%\n",
       "% Expectation operator\n",
       "\\def\\Exp#1{\\underset{#1} {\\operatorname{\\mathbb{E}}} }\n",
       "%\n",
       "% VAE\n",
       "\\def\\prs#1#2{\\mathcal{p}_{#2}(#1)}\n",
       "\\def\\qr#1{\\mathcal{q}(#1)}\n",
       "\\def\\qrs#1#2{\\mathcal{q}_{#2}(#1)}\n",
       "%\n",
       "% Reinforcement learning\n",
       "\\newcommand{\\Actions}{{\\mathcal{A}}} \n",
       "\\newcommand{\\actseq}{A}\n",
       "\\newcommand{\\act}{a}\n",
       "\\newcommand{\\States}{{\\mathcal{S}}}   \n",
       "\\newcommand{\\stateseq}{S}  \n",
       "\\newcommand{\\state}{s}\n",
       "\\newcommand{\\Rewards}{{\\mathcal{R}}}\n",
       "\\newcommand{\\rewseq}{R}\n",
       "\\newcommand{\\rew}{r}\n",
       "\\newcommand{\\transp}{P}\n",
       "\\newcommand{\\statevalfun}{v}\n",
       "\\newcommand{\\actvalfun}{q}\n",
       "\\newcommand{\\disc}{\\gamma}\n",
       "%\n",
       "%\n",
       "\\newcommand{\\floor}[1]{\\left\\lfloor #1 \\right\\rfloor}\n",
       "\\newcommand{\\ceil}[1]{\\left\\lceil #1 \\right\\rceil}\n",
       "%\n",
       "%\n",
       "$$\n"
      ],
      "text/plain": [
       "<IPython.core.display.Latex object>"
      ]
     },
     "metadata": {},
     "output_type": "display_data"
    }
   ],
   "source": [
    "%run Latex_macros.ipynb"
   ]
  },
  {
   "cell_type": "markdown",
   "metadata": {
    "slideshow": {
     "slide_type": "slide"
    }
   },
   "source": [
    "# A  Universal API:  Language Modeling to solve many tasks\n",
    "\n",
    "The Language Modeling objective seems simple, but appearances are deceiving.\n",
    "\n",
    "We have shown that a Language Model can be adapted for new Target tasks\n",
    "- via the Unsupervised Pre-Training + Supervised Fine-Tuning paradigm.\n",
    "  \n",
    "There is, perhaps, an alternative way to adapt to a new Target task\n",
    "- turn each task *directly* into an instance of the Language Modeling objective.\n"
   ]
  },
  {
   "cell_type": "markdown",
   "metadata": {
    "slideshow": {
     "slide_type": "subslide"
    }
   },
   "source": [
    "Consider a new Target task: Entailment\n",
    "- Input is a *pair* of text sequences $[ \\text{Premise}, \\text{Hypothesis} ]$\n",
    "- Binary classification: Does the Hypothesis Logically follow from the Premise ?\n",
    "\n",
    "          Premise: The students are attending a lecture on Machine Learning\n",
    "          Hypothesis: The students are sitting in a class room\n",
    "          Label: Entails"
   ]
  },
  {
   "cell_type": "markdown",
   "metadata": {
    "slideshow": {
     "slide_type": "subslide"
    }
   },
   "source": [
    "Suppose we construct a sequence for the Language Model to extend\n",
    "- consisting of the Premise, Hypothesis, and the string \"Label:\"\n",
    "\n",
    "We call this sequence the *prompt* or the *context*\n",
    "\n",
    "      Premise: The students are attending a lecture on Machine Learning\n",
    "      Hypothesis: The students are sitting in a class room\n",
    "      Label: \n",
    "\n",
    "We would hope that the Language Model extends the prompt by creating tokens that are the correct response\n",
    "for the Target task\n",
    "\n",
    "    Entail\n",
    "since the Hypothesis logically follows from the Premise (other possible response: `Not Entail`)\n",
    "\n",
    "We have turned Entailment into an instance of Language Modeling.\n"
   ]
  },
  {
   "cell_type": "markdown",
   "metadata": {
    "slideshow": {
     "slide_type": "subslide"
    }
   },
   "source": [
    "As another example: consider the  Target task: Multiple Choice Question answering\n",
    "- Input is\n",
    "    - Context: a sentence or paragraph stating facts\n",
    "    - Question\n",
    "    - Answers: a set of possible answer sentences\n",
    "    \n",
    "We construct a prompt of the form\n",
    "    \n",
    "    \n",
    "    Context: It is December of 2022.  Prof. Perry is teaching the second half of the Machine Learning Course.\n",
    "    Question: Where are the students ?\n",
    "    Answer 1: The beach\n",
    "    Answer 2: In a classroom in Brooklyn\n",
    "    Answer 3: Dreaming of being elsewhere.\n",
    "    \n",
    "    Label: \n",
    "    \n",
    "and hope that the Language Model extends the prompt string with one of\n",
    "\n",
    "    { Answer 1, Answer 2, Answer 3 }\n",
    "\n",
    "- hopefully with probability near 100% for Answer 2 !"
   ]
  },
  {
   "cell_type": "markdown",
   "metadata": {
    "slideshow": {
     "slide_type": "subslide"
    }
   },
   "source": [
    "Here is what a Language Translation task would look like in text-completion form:\n",
    "\n",
    "<center>Task: English to French</center>\n",
    "\n",
    "|  |  |  |\n",
    "| :- | :- | --- |\n",
    "| Context: | English: Please unscramble the letters in the word and write that word | |\n",
    "|          | French: | |\n",
    "| Target completion: | Veuillez déchiffrer les lettres du mot et écrire ce mot |\n",
    "\n",
    "- Translation task encoded as \"predict the next\" words following the \"French:\" prompt."
   ]
  },
  {
   "cell_type": "markdown",
   "metadata": {
    "slideshow": {
     "slide_type": "slide"
    }
   },
   "source": [
    "# Power of text as the Universal API\n",
    "\n",
    "The Universal API turns each task into an instance of the  Language Modeling task.\n",
    "\n",
    "What this means is that\n",
    "- we might not need *task-specific* models\n",
    "- just transform every task into instance of the \"predict the next\" word task\n",
    "\n"
   ]
  },
  {
   "cell_type": "markdown",
   "metadata": {
    "slideshow": {
     "slide_type": "subslide"
    }
   },
   "source": [
    "After converting our Source task into a LLM task\n",
    "- we would ordinarily use Supervised Fine-Tuning\n",
    "- on a dataset of (transformed) examples from the Target Task\n",
    "- to Fine-Tune the LLM for the Target task"
   ]
  },
  {
   "cell_type": "markdown",
   "metadata": {
    "slideshow": {
     "slide_type": "subslide"
    }
   },
   "source": [
    "The transformed Target task training dataset would consist of examples like\n",
    "\n",
    "$$\\langle \\x^\\ip, \\y^\\ip \\rangle = \\langle \\text{prompt}, \\text{response} \\rangle$$\n",
    "\n",
    "That is\n",
    "- the \"features\" turned into text (\"prompt\")\n",
    "- the label (\"response\") is the continuation of the text"
   ]
  },
  {
   "cell_type": "markdown",
   "metadata": {
    "slideshow": {
     "slide_type": "slide"
    }
   },
   "source": [
    "# Transforming tasks into Text Completion form\n",
    "\n",
    "[Appendix D of the T5 paper](https://arxiv.org/pdf/1910.10683.pdf#page=47) gives examples of\n",
    "how the input text for a given task is transformed into a sequence of words.\n",
    "\n",
    "**Summary**\n",
    "- Structured input is flattened\n",
    "    - Inputs consisting of multiple sentences (each with a different role)\n",
    "    - are flattened into a single sequence\n",
    "    - separated by tags indicating the role of following sentence\n",
    "- A \"task description\" is prepended to the input\n",
    "    - indicating the task to which the example belongs\n",
    "    - remember: this is multi-task training"
   ]
  },
  {
   "cell_type": "markdown",
   "metadata": {
    "slideshow": {
     "slide_type": "slide"
    }
   },
   "source": [
    "# Using an LLM as a Universal Model without Text Completion\n",
    "\n",
    "There are alternatives to turning every task into Text Completion\n",
    "- Pre-processing the example\n",
    "- Using an LLM\n",
    "- Post-processing the output\n",
    "\n",
    "This is certainly not as convenient, but we present it in the spirit of completeness."
   ]
  },
  {
   "cell_type": "markdown",
   "metadata": {
    "slideshow": {
     "slide_type": "slide"
    }
   },
   "source": [
    "Here is a diagram (from the GPT paper) explaining how the authors \n",
    "\n",
    "- translate the input for the Source task\n",
    "- into Text input for the multi-task model\n",
    "\n",
    "<table>\n",
    "    <tr>\n",
    "        <th><center>Task encoding (from GPT paper)</center></th>\n",
    "    </tr>\n",
    "    <tr>\n",
    "        <td><img src=\"images/LM_GPT_task_encoding.png\" width=80%></td>\n",
    "    </tr>\n",
    "    <tr>\n",
    "        <td><center>Picture from: https://cdn.openai.com/research-covers/language-unsupervised/language_understanding_paper.pdf</center></td>\n",
    "    </tr>   \n",
    "</table>"
   ]
  },
  {
   "cell_type": "code",
   "execution_count": 2,
   "metadata": {
    "slideshow": {
     "slide_type": "slide"
    }
   },
   "outputs": [
    {
     "name": "stdout",
     "output_type": "stream",
     "text": [
      "Done\n"
     ]
    }
   ],
   "source": [
    "print(\"Done\")"
   ]
  }
 ],
 "metadata": {
  "celltoolbar": "Slideshow",
  "kernelspec": {
   "display_name": "Python 3",
   "language": "python",
   "name": "python3"
  },
  "language_info": {
   "codemirror_mode": {
    "name": "ipython",
    "version": 3
   },
   "file_extension": ".py",
   "mimetype": "text/x-python",
   "name": "python",
   "nbconvert_exporter": "python",
   "pygments_lexer": "ipython3",
   "version": "3.7.4"
  },
  "toc": {
   "base_numbering": 1,
   "nav_menu": {},
   "number_sections": true,
   "sideBar": true,
   "skip_h1_title": false,
   "title_cell": "Table of Contents",
   "title_sidebar": "Contents",
   "toc_cell": false,
   "toc_position": {},
   "toc_section_display": true,
   "toc_window_display": false
  }
 },
 "nbformat": 4,
 "nbformat_minor": 2
}
