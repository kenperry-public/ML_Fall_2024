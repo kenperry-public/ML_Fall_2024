{
 "cells": [
  {
   "cell_type": "code",
   "execution_count": 1,
   "metadata": {
    "slideshow": {
     "slide_type": "notes"
    }
   },
   "outputs": [
    {
     "data": {
      "text/latex": [
       "$$\n",
       "\\newcommand{\\x}{\\mathbf{x}}\n",
       "\\newcommand{\\tx}{\\tilde{\\x}}\n",
       "\\newcommand{\\y}{\\mathbf{y}}\n",
       "\\newcommand{\\b}{\\mathbf{b}}\n",
       "\\newcommand{\\c}{\\mathbf{c}}\n",
       "\\newcommand{\\e}{\\mathbf{e}}\n",
       "\\newcommand{\\z}{\\mathbf{z}}\n",
       "\\newcommand{\\h}{\\mathbf{h}}\n",
       "\\newcommand{\\u}{\\mathbf{u}}\n",
       "\\newcommand{\\v}{\\mathbf{v}}\n",
       "\\newcommand{\\w}{\\mathbf{w}}\n",
       "\\newcommand{\\V}{\\mathbf{V}}\n",
       "\\newcommand{\\W}{\\mathbf{W}}\n",
       "\\newcommand{\\X}{\\mathbf{X}}\n",
       "\\newcommand{\\KL}{\\mathbf{KL}}\n",
       "\\newcommand{\\E}{{\\mathbb{E}}}\n",
       "\\newcommand{\\Reals}{{\\mathbb{R}}}\n",
       "\\newcommand{\\ip}{\\mathbf{{(i)}}}\n",
       "%\n",
       "% Test set\n",
       "\\newcommand{\\xt}{\\underline{\\x}}\n",
       "\\newcommand{\\yt}{\\underline{\\y}}\n",
       "\\newcommand{\\Xt}{\\underline{\\X}}\n",
       "\\newcommand{\\perfm}{\\mathcal{P}}\n",
       "%\n",
       "% \\ll indexes a layer; we can change the actual letter\n",
       "\\newcommand{\\ll}{l}\n",
       "\\newcommand{\\llp}{{(\\ll)}}\n",
       "%\n",
       "\\newcommand{Thetam}{\\Theta_{-0}}\n",
       "\n",
       "% CNN\n",
       "\\newcommand{\\kernel}{\\mathbf{k}} \n",
       "\\newcommand{\\dim}{d}\n",
       "\\newcommand{\\idxspatial}{{\\text{idx}}}\n",
       "\\newcommand{\\summaxact}{\\text{max}}\n",
       "\\newcommand{idxb}{\\mathbf{i}}\n",
       "%\n",
       "%\n",
       "\n",
       "% RNN\n",
       "% \\tt indexes a time step\n",
       "\\newcommand{\\tt}{t}\n",
       "\\newcommand{\\tp}{{(\\tt)}}\n",
       "%\n",
       "%\n",
       "\n",
       "% LSTM\n",
       "\\newcommand{\\g}{\\mathbf{g}}\n",
       "\\newcommand{\\remember}{\\mathbf{remember}}\n",
       "\\newcommand{\\save}{\\mathbf{save}}\n",
       "\\newcommand{\\focus}{\\mathbf{focus}}\n",
       "%\n",
       "%\n",
       "% NLP\n",
       "\\newcommand{\\Vocab}{\\mathbf{V}}\n",
       "\\newcommand{\\v}{\\mathbf{v}}\n",
       "\\newcommand{\\offset}{o}\n",
       "\\newcommand{\\o}{o}\n",
       "\\newcommand{\\Emb}{\\mathbf{E}}\n",
       "%\n",
       "%\n",
       "\\newcommand{\\loss}{\\mathcal{L}}\n",
       "\\newcommand{\\cost}{\\mathcal{L}}\n",
       "%\n",
       "%                     \n",
       "\\newcommand{\\pdata}{p_\\text{data}}\n",
       "\\newcommand{\\pmodel}{p_\\text{model}}\n",
       "%\n",
       "% SVM\n",
       "\\newcommand{\\margin}{{\\mathbb{m}}}\n",
       "\\newcommand{\\lmk}{\\boldsymbol{\\ell}}\n",
       "%\n",
       "%\n",
       "% Functions with arguments\n",
       "\\def\\xsy#1#2{#1^#2}\n",
       "\\def\\rand#1{\\tilde{#1}}\n",
       "\\def\\randx{\\rand{\\x}}\n",
       "\\def\\randy{\\rand{\\y}}\n",
       "\\def\\trans#1{\\dot{#1}}\n",
       "\\def\\transx{\\trans{\\x}}\n",
       "\\def\\transy{\\trans{\\y}}\n",
       "%\n",
       "\\def\\argmax#1{\\underset{#1} {\\operatorname{argmax}} }\n",
       "\\def\\argmin#1{\\underset{#1} {\\operatorname{argmin}} }\n",
       "\\def\\max#1{\\underset{#1} {\\operatorname{max}} }\n",
       "\\def\\min#1{\\underset{#1} {\\operatorname{min}} }\n",
       "%\n",
       "\\def\\pr#1{\\mathcal{p}(#1)}\n",
       "\\def\\prc#1#2{\\mathcal{p}(#1 \\; | \\; #2)}\n",
       "\\def\\cnt#1{\\mathcal{count}_{#1}}\n",
       "\\def\\node#1{\\mathbb{#1}}\n",
       "%\n",
       "\\def\\loc#1{{\\text{##} {#1}}}\n",
       "%\n",
       "\\def\\OrderOf#1{\\mathcal{O}\\left( {#1} \\right)}\n",
       "%\n",
       "% Expectation operator\n",
       "\\def\\Exp#1{\\underset{#1} {\\operatorname{\\mathbb{E}}} }\n",
       "%\n",
       "% VAE\n",
       "\\def\\prs#1#2{\\mathcal{p}_{#2}(#1)}\n",
       "\\def\\qr#1{\\mathcal{q}(#1)}\n",
       "\\def\\qrs#1#2{\\mathcal{q}_{#2}(#1)}\n",
       "%\n",
       "% Reinforcement learning\n",
       "\\newcommand{\\Actions}{{\\mathcal{A}}} \n",
       "\\newcommand{\\actseq}{A}\n",
       "\\newcommand{\\act}{a}\n",
       "\\newcommand{\\States}{{\\mathcal{S}}}   \n",
       "\\newcommand{\\stateseq}{S}  \n",
       "\\newcommand{\\state}{s}\n",
       "\\newcommand{\\Rewards}{{\\mathcal{R}}}\n",
       "\\newcommand{\\rewseq}{R}\n",
       "\\newcommand{\\rew}{r}\n",
       "\\newcommand{\\transp}{P}\n",
       "\\newcommand{\\statevalfun}{v}\n",
       "\\newcommand{\\actvalfun}{q}\n",
       "\\newcommand{\\disc}{\\gamma}\n",
       "%\n",
       "%\n",
       "\\newcommand{\\floor}[1]{\\left\\lfloor #1 \\right\\rfloor}\n",
       "\\newcommand{\\ceil}[1]{\\left\\lceil #1 \\right\\rceil}\n",
       "%\n",
       "%\n",
       "$$\n"
      ],
      "text/plain": [
       "<IPython.core.display.Latex object>"
      ]
     },
     "metadata": {},
     "output_type": "display_data"
    }
   ],
   "source": [
    "%run Latex_macros.ipynb\n",
    "%run beautify_plots.py"
   ]
  },
  {
   "cell_type": "code",
   "execution_count": 2,
   "metadata": {
    "slideshow": {
     "slide_type": "notes"
    }
   },
   "outputs": [],
   "source": [
    "# My standard magic !  You will see this in almost all my notebooks.\n",
    "\n",
    "from IPython.core.interactiveshell import InteractiveShell\n",
    "InteractiveShell.ast_node_interactivity = \"all\"\n",
    "\n",
    "# Reload all modules imported with %aimport\n",
    "%load_ext autoreload\n",
    "%autoreload 1\n",
    "\n",
    "%matplotlib inline"
   ]
  },
  {
   "cell_type": "code",
   "execution_count": 3,
   "metadata": {
    "slideshow": {
     "slide_type": "notes"
    }
   },
   "outputs": [],
   "source": [
    "import numpy as np\n",
    "import pandas as pd\n",
    "import matplotlib.pyplot as plt\n",
    "\n",
    "import os\n",
    "MOVIE_DIR=\"./images\"\n",
    "\n",
    "CREATE_MOVIE = False # True if you have ffmpeg installed\n",
    "\n",
    "import training_models_helper\n",
    "%aimport training_models_helper\n",
    "\n",
    "tmh = training_models_helper.TrainingModelsHelper()\n",
    "\n",
    "import mnist_helper\n",
    "%aimport mnist_helper\n",
    "\n",
    "mnh = mnist_helper.MNIST_Helper()\n",
    "\n",
    "import class_helper\n",
    "%aimport class_helper\n",
    "\n",
    "clh= class_helper.Classification_Helper(random_seed=42)\n",
    "\n",
    "import recipe_helper\n",
    "%aimport recipe_helper\n",
    "rh = recipe_helper.Recipe_Helper()"
   ]
  },
  {
   "cell_type": "code",
   "execution_count": 4,
   "metadata": {
    "slideshow": {
     "slide_type": "notes"
    }
   },
   "outputs": [],
   "source": [
    "from sklearn.model_selection import cross_val_score\n",
    "from sklearn.datasets import make_classification\n",
    "from sklearn.neighbors import KNeighborsClassifier\n",
    "from sklearn.linear_model import LogisticRegression"
   ]
  },
  {
   "cell_type": "markdown",
   "metadata": {
    "slideshow": {
     "slide_type": "slide"
    }
   },
   "source": [
    "# Becoming a successful Data Scientist: Error Analysis\n",
    "\n",
    "As of now, you should know\n",
    "- how to construct models (the \"recipe\")\n",
    "- how to use them for prediction\n",
    "- some simple metrics on how they perform"
   ]
  },
  {
   "cell_type": "markdown",
   "metadata": {
    "slideshow": {
     "slide_type": "subslide"
    }
   },
   "source": [
    "In this module, the topics to be covered provide answers:\n",
    "- model diagnostics \n",
    "\n",
    "In other words: the importance of Error Analysis in diagnosing and improving models."
   ]
  },
  {
   "cell_type": "markdown",
   "metadata": {
    "slideshow": {
     "slide_type": "slide"
    }
   },
   "source": [
    "# Classification: Beyond accuracy\n",
    "\n",
    "Let's re-run the MNIST problem and examine measures of error more detailed than accuracy\n"
   ]
  },
  {
   "cell_type": "code",
   "execution_count": 5,
   "metadata": {
    "slideshow": {
     "slide_type": "subslide"
    }
   },
   "outputs": [
    {
     "name": "stdout",
     "output_type": "stream",
     "text": [
      "Retrieving MNIST_784 from cache\n"
     ]
    }
   ],
   "source": [
    "mnh = mnist_helper.MNIST_Helper(random_seed=42)\n",
    "mnh.setup()\n",
    "_= mnh.fit()"
   ]
  },
  {
   "cell_type": "markdown",
   "metadata": {
    "slideshow": {
     "slide_type": "subslide"
    }
   },
   "source": [
    "Examine the score (n.b., ran with L2 penalty)"
   ]
  },
  {
   "cell_type": "code",
   "execution_count": 6,
   "metadata": {
    "slideshow": {
     "slide_type": "subslide"
    }
   },
   "outputs": [
    {
     "name": "stdout",
     "output_type": "stream",
     "text": [
      "Avg cross val score=0.87\n",
      "\n",
      "Sparsity with l2 penalty: 16.07.\n"
     ]
    }
   ],
   "source": [
    "clf = mnh.clf\n",
    "\n",
    " # Cross validation\n",
    "scores = cross_val_score(clf, mnh.X_train, mnh.y_train, cv=10)\n",
    "print(\"Avg cross val score={s:3.2f}\\n\".format( s=scores.mean()) )\n",
    "\n",
    "# How many zero coefficients were forced by the penalty ?\n",
    "sparsity = np.mean(clf.coef_ == 0) * 100\n",
    "\n",
    "print(\"Sparsity with {p} penalty: {s:.2f}.\".format(p=clf.penalty, s=sparsity) )"
   ]
  },
  {
   "cell_type": "markdown",
   "metadata": {
    "slideshow": {
     "slide_type": "subslide"
    }
   },
   "source": [
    "We achieved an out of sample accuracy of about 87%\n",
    "\n",
    "That sounds good, but is it really ?\n",
    "\n",
    "If each of the 10 labels occurs with equal frequency among the training examples\n",
    "- We could mis-predict *every* occurrence of a single digit (i.e., 10% of the training examples)\n",
    "- And still achieve an Accuracy of 90% if we perfectly predict all other digits\n",
    "\n",
    "Would that be satisfactory ?"
   ]
  },
  {
   "cell_type": "markdown",
   "metadata": {
    "slideshow": {
     "slide_type": "subslide"
    }
   },
   "source": [
    "This motivates the need to measure *Conditional Performance* or *Conditional Loss*\n",
    "- Performance/Loss conditioned on meaningful subsets of training examples\n",
    "\n",
    "We will examine some conditional metrics for the Classification task."
   ]
  },
  {
   "cell_type": "markdown",
   "metadata": {
    "slideshow": {
     "slide_type": "slide"
    }
   },
   "source": [
    "# Binary classification: Conditional accuracy\n",
    "\n",
    "An ideal model would have perfect Accuracy.\n",
    "\n",
    "In the absence of perfection\n",
    "- we want to measure accuracy *conditional* on subsets of examples."
   ]
  },
  {
   "cell_type": "markdown",
   "metadata": {
    "slideshow": {
     "slide_type": "subslide"
    }
   },
   "source": [
    "\n",
    "\n",
    "For a Binary Classification task, we can partition the examples into a two dimensions\n",
    "- Row labels: the *predicted* class\n",
    "- Column labels: the *true* class\n",
    "\n",
    "$$\n",
    "\\begin{array}{lll}\n",
    "\\\\\n",
    "           & \\textbf{P} &  \\textbf{N} \\\\\n",
    "\\textbf{P} & \\text{TP}        & \\text{FP} \\\\\n",
    "\\textbf{N} & \\text{FN}        & \\text{TN} \\\\\n",
    "\\end{array}\n",
    "$$"
   ]
  },
  {
   "cell_type": "markdown",
   "metadata": {
    "slideshow": {
     "slide_type": "subslide"
    }
   },
   "source": [
    "The correct predictions\n",
    "- True Positives (TP) are   examples predicted as Positive that were in fact Positive\n",
    "- True Positives (TN) are   examples predicted as Negative that were in fact Negative\n",
    "\n",
    "The incorrect predictions\n",
    "- False Positives (FP) are  examples predicted as Positive that were in fact Negative\n",
    "- False Positives (FN) are  examples predicted as Negative that were in fact Positive\n"
   ]
  },
  {
   "cell_type": "markdown",
   "metadata": {
    "slideshow": {
     "slide_type": "subslide"
    }
   },
   "source": [
    "Unconditional Accuracy can thus be written as\n",
    "\n",
    "$$\\textrm{Accuracy} =  { \\text{TP} + \\text{TN} \\over  \\text{TP} + \\text{FP} + \\text{TN} + \\text{FN} } $$\n",
    "\n",
    "We can also define some conditional Accuracy measures"
   ]
  },
  {
   "cell_type": "markdown",
   "metadata": {
    "slideshow": {
     "slide_type": "slide"
    }
   },
   "source": [
    "## Imbalanced data: the case for conditional accuracy\n",
    "\n",
    "Conditional Accuracy becomes particularly important\n",
    "- when the number of \n",
    " Positive and Negative examples in a dataset are quite different\n",
    "    - Titanic example: many fewer examples with `Survived` than `Not Survived`\n",
    "\n",
    "This is called *imbalanced* data."
   ]
  },
  {
   "cell_type": "markdown",
   "metadata": {
    "slideshow": {
     "slide_type": "subslide"
    }
   },
   "source": [
    "When this occurs, unconditional measures are highly influenced by success on the dominant category\n",
    "- Titanic example: The Negative examples are almost twice as numerous as the Positive\n",
    "$$\\text{TP} + \\text{FN} << \\text{TN} + \\text{FP}$$\n",
    "\n",
    "Conditional metrics are one way of placing focus on success in the non-dominant category."
   ]
  },
  {
   "cell_type": "markdown",
   "metadata": {
    "slideshow": {
     "slide_type": "subslide"
    }
   },
   "source": [
    "##  Recall (Sensitivity, True Positive Rate: TPR)\n",
    "\n",
    "Regardless of whether the Positive class is dominant, we may be interested in how well our\n",
    "model identifies Positive examples.\n",
    "\n",
    "*Recall* is a metric Conditioned on Positive examples.\n",
    "\n",
    "$$\n",
    "\\textrm{Recall} = { { \\textrm{TP} } \\over { \\textrm{TP} +  \\textrm{FN} }  }\n",
    "$$\n",
    "- The fraction of Positive examples (denominator) that were correctly classified\n",
    "- Also goes by the names: True Positive Rate (TPR), Sensitivity\n",
    "\n",
    "**FN** (mis-classified Positive examples) detract from Recall"
   ]
  },
  {
   "cell_type": "markdown",
   "metadata": {
    "slideshow": {
     "slide_type": "subslide"
    }
   },
   "source": [
    "Why is Recall important ?\n",
    "\n",
    "Consider a diagnostic test for Covid\n",
    "- we want to correctly identify Covid positive patients\n",
    "- even though they are a small fraction of the population"
   ]
  },
  {
   "cell_type": "markdown",
   "metadata": {
    "slideshow": {
     "slide_type": "subslide"
    }
   },
   "source": [
    "But be careful ! It is easy to achieve 100% Recall.\n",
    "\n",
    "Degenerate case:\n",
    "- Always predicting Positive, ignoring all features of the example\n",
    "    - lots of FP\n",
    "- Unconditional Accuracy will suffer.\n",
    "- And FP (Negative patients incorrectly classified as infected) may bear a cost"
   ]
  },
  {
   "cell_type": "markdown",
   "metadata": {
    "slideshow": {
     "slide_type": "subslide"
    }
   },
   "source": [
    "## Specificity\n",
    "\n",
    "Similarly: we may be interested in knowing how well our model identifies (or mis-identifies) Negative examples.\n",
    "\n",
    "For example\n",
    "- we *don't want to mis-label* as Positive, a patient who is truly Covid Negative.\n",
    "\n",
    "*Specificity* is a metric conditioned on Negative examples\n",
    "\n",
    "$$\n",
    "\\textrm{Specificity} = { { \\textrm{TN} } \\over { \\textrm{TN} +  \\textrm{FP} }  }\n",
    "$$\n",
    "\n",
    "- The fraction of Negative examples that were correctly classified\n",
    "- Also goes by the name: True Negative Rate (TNR)\n",
    "\n",
    "**FP** (mis-classified Negative examples) detract from Specificity"
   ]
  },
  {
   "cell_type": "markdown",
   "metadata": {
    "slideshow": {
     "slide_type": "subslide"
    }
   },
   "source": [
    "A good model (e.g., Covid test) has\n",
    "- high Recall\n",
    "    - correctly identifies a large fraction of Positive patients\n",
    "- high Specificity\n",
    "    - does not have too many FP (mis-diagnosed Negative patients)\n",
    "        - who may bear a cost of being mis-diagnosed\n"
   ]
  },
  {
   "cell_type": "markdown",
   "metadata": {
    "slideshow": {
     "slide_type": "subslide"
    }
   },
   "source": [
    "## False Positive Rate (FPR)\n",
    "\n",
    "The fraction of Negative examples misclassified as Positive.\n",
    "\n",
    "$$\n",
    "\\begin{array}{lll}\n",
    "\\textrm{FPR} & = & { { \\textrm{FP} } \\over { \\textrm{FP} + \\textrm{TN} } } \\\\\n",
    "             & = & 1 - \\textrm{Specificity}\n",
    "\\end{array}\n",
    "$$"
   ]
  },
  {
   "cell_type": "markdown",
   "metadata": {
    "slideshow": {
     "slide_type": "subslide"
    }
   },
   "source": [
    "## Precision\n",
    "\n",
    "Recall seeks to correctly label Positive examples\n",
    "- degenerate case: label all examples as Positive; achieve 100% Recall\n",
    "\n",
    "But we would also like to have confidence that our Positive predictions are accurate.\n",
    "\n",
    "*Precision* is a metric\n",
    "to tell you the fraction of your Positive predictions that were correct.\n",
    "\n",
    "$$\n",
    "\\textrm{Precision} = { { \\textrm{TP} } \\over { \\textrm{TP} +  \\textrm{FP} }  }\n",
    "$$\n",
    "\n",
    "**FP** (mis-classified Negative examples) detract from Precision."
   ]
  },
  {
   "cell_type": "markdown",
   "metadata": {
    "slideshow": {
     "slide_type": "subslide"
    }
   },
   "source": [
    "Just like with Recall, it is easy to achieve 100% Precision.\n",
    "\n",
    "Degenerate case:\n",
    "- Predict Positive for only a *single example* that is actually Positive \n",
    "    - Lots of FN\n",
    "    - Recall will suffer\n"
   ]
  },
  {
   "cell_type": "markdown",
   "metadata": {
    "slideshow": {
     "slide_type": "slide"
    }
   },
   "source": [
    "## Precison/Recall Tradeoff\n",
    "\n",
    "We showed (via degenerate cases) that it was easy to have\n",
    "**either**\n",
    "- Perfect Recall\n",
    "- **OR** Perfect Precision\n",
    "\n",
    "But it may not be possible to have both.\n",
    "\n",
    "\n",
    "We will \n",
    "- Show how to trade off one measure for the other\n",
    "- Discuss when to favor one type of error over another"
   ]
  },
  {
   "cell_type": "markdown",
   "metadata": {
    "slideshow": {
     "slide_type": "subslide"
    }
   },
   "source": [
    "Some Classification models (e.g., Logistic Regression)\n",
    "- Use hyper-parameters (e.g., threshold)\n",
    "- To convert a numerical \"score\" to a Categorical predicted value\n",
    "\n",
    "By varying the threshold, we can change predictions to favor a particular Conditional Performance metric.\n",
    "\n",
    "We will show how this happens and demonstrate ways to evaluate the trade-off between metrics."
   ]
  },
  {
   "cell_type": "markdown",
   "metadata": {
    "slideshow": {
     "slide_type": "subslide"
    }
   },
   "source": [
    "Recall our methodology for Classification via Logistic Regression:\n",
    "- Compute a numerical \"score\" for our example based on its features\n",
    "$$\\hat{s}^\\ip = \\Theta \\cdot \\x^\\ip$$\n",
    "\n",
    "- Construct a probability distribution (over the target classes) from the scores\n",
    "$$\\hat{\\mathbf{p}}^\\ip = \\sigma(\\hat{s}^\\ip)  $$\n",
    "\n",
    "- Predict by comparing the probability to a threshold\n",
    "\n",
    "\n",
    "$$\n",
    "\\hat{\\y}^\\ip = \n",
    "\\left\\{\n",
    "    {\n",
    "    \\begin{array}{lll}\n",
    "    0 & \\textrm{if } \\hat{\\mathbf{p}}^\\ip < 0.5   & \\text{Negative} \\\\\n",
    "    1 & \\textrm{if } \\hat{\\mathbf{p}}^\\ip \\ge 0.5  & \\text{Positive} \\\\\n",
    "    \\end{array}\n",
    "    }\n",
    "\\right.\n",
    "$$"
   ]
  },
  {
   "cell_type": "markdown",
   "metadata": {
    "slideshow": {
     "slide_type": "subslide"
    }
   },
   "source": [
    "We can visualize the step of converting probabilities to predicted class\n",
    "by  plotting lines (hyper-planes) of constant score/probability\n",
    "\n",
    "For a given constant value of score or probability:\n",
    "- Examples above the line are classified as Positive\n",
    "- Examples below the line are classified as Negative\n",
    "\n",
    "We can choose **any score/probability** as our decision boundary for prediction.\n",
    "\n",
    "Let's see what happens as we vary the boundary."
   ]
  },
  {
   "cell_type": "markdown",
   "metadata": {
    "slideshow": {
     "slide_type": "subslide"
    }
   },
   "source": [
    "<table>\n",
    "    <tr>\n",
    "        <center><strong>Separation bounday as function of probability threshold</strong></center>\n",
    "    </tr>\n",
    "<img src=\"images/class_overview_prob_lines.jpg\" width=1000>\n",
    "</table>\n"
   ]
  },
  {
   "cell_type": "markdown",
   "metadata": {
    "slideshow": {
     "slide_type": "subslide"
    }
   },
   "source": [
    "- By choosing the boundary $$\\Theta^T \\x = -1 \\,\\,\\, (\\text{resp., prob} = 0.27)$$\n",
    "- Rather than the boundary $$\\Theta^T \\x =  0 \\,\\,\\, (\\text{resp., prob} = 0.50)$$\n",
    "\n",
    "we potentially **increase** the number of examples classified as Positive\n",
    "- Increasing the number of TP $\\leadsto$ Increasing Recall\n",
    "- But also potentially increasing the number of FP $\\leadsto$ Decreasing Precision\n",
    "\n",
    "Thus, by varying threshold, we can choose the **trade-off between Recall and Precision**.\n"
   ]
  },
  {
   "cell_type": "markdown",
   "metadata": {
    "slideshow": {
     "slide_type": "subslide"
    }
   },
   "source": [
    "For models that rely on a Threshold\n",
    "- the threshold is a **hyper-parameter**\n",
    "- that **you can choose**\n",
    "- in order to achieve some externally-specified objective\n",
    "    - e.g., high Recall"
   ]
  },
  {
   "cell_type": "markdown",
   "metadata": {
    "slideshow": {
     "slide_type": "slide"
    }
   },
   "source": [
    "**Precision vs Recall: which one to favor ?**\n",
    "\n",
    "What factors might lead us to favor one metric over the other ?\n",
    "\n",
    "Consider a diagnostic test whose goal is to classify highly infectious patients as Positive\n",
    "- High Recall: catch most infected patients\n",
    "- Low Precision: frighten patients that are misclassified as Positive"
   ]
  },
  {
   "cell_type": "markdown",
   "metadata": {
    "slideshow": {
     "slide_type": "subslide"
    }
   },
   "source": [
    "You might favor Recall\n",
    "- When a False Negative has very bad consequences (e.g., lead to an increase in infections in population)\n",
    "\n",
    "You might favor Precision\n",
    "- When a False Positive has very bad consequences (e.g., cause a non-infected patient to isolate)"
   ]
  },
  {
   "cell_type": "markdown",
   "metadata": {
    "slideshow": {
     "slide_type": "subslide"
    }
   },
   "source": [
    "Moving the boundary to increase Positives will naturally decrease Negative predictions.\n",
    "\n",
    "So we also affect metrics conditioned on Negative (FN, TN), with similar trade-offs.\n"
   ]
  },
  {
   "cell_type": "markdown",
   "metadata": {
    "slideshow": {
     "slide_type": "slide"
    }
   },
   "source": [
    "### Precision/Recall trade-off: plot\n",
    "\n",
    "To be concrete: let's examine the trade-off between Recall and Precision\n",
    "in the context of a binary classifier\n",
    "- Using MNIST examples: classify an example as being a **single** chosen digit versus the 9 other digits\n",
    "\n",
    "- Create a binary classifier for a single MNIST digit"
   ]
  },
  {
   "cell_type": "code",
   "execution_count": 7,
   "metadata": {
    "slideshow": {
     "slide_type": "subslide"
    }
   },
   "outputs": [
    {
     "name": "stdout",
     "output_type": "stream",
     "text": [
      "Retrieving MNIST_784 from cache\n"
     ]
    },
    {
     "data": {
      "text/plain": [
       "LogisticRegression(C=0.01, class_weight=None, dual=False, fit_intercept=True,\n",
       "                   intercept_scaling=1, l1_ratio=None, max_iter=100,\n",
       "                   multi_class='multinomial', n_jobs=None, penalty='l2',\n",
       "                   random_state=None, solver='saga', tol=0.1, verbose=0,\n",
       "                   warm_start=False)"
      ]
     },
     "execution_count": 7,
     "metadata": {},
     "output_type": "execute_result"
    }
   ],
   "source": [
    "# Fetch the MNIST data into object\n",
    "\n",
    "mnh_d = mnist_helper.MNIST_Helper(random_seed=42)\n",
    "mnh_d.setup()\n",
    "\n",
    "# Turn the 10 class training set into a binary training set\n",
    "# - Same examples, different targets\n",
    "# - targets are now \"is 'digit'\" or \"is not 'digit'\" for a single digit\n",
    "digit = '5'\n",
    "y_train_d, y_test_d = mnh_d.make_binary(digit)\n",
    "\n",
    "# Fit a binary model: Is digit/Is not digit\n",
    "mnh_d.fit(y_train=y_train_d)\n",
    "scores = cross_val_score(mnh_d.clf, mnh_d.X_train, y_train_d, cv=3, scoring=\"accuracy\")\n",
    "\n",
    "from sklearn.model_selection import cross_val_predict\n",
    "\n",
    "y_train_pred = cross_val_predict(mnh_d.clf, mnh_d.X_train, y_train_d, cv=5, method=\"decision_function\")\n"
   ]
  },
  {
   "cell_type": "markdown",
   "metadata": {
    "slideshow": {
     "slide_type": "subslide"
    }
   },
   "source": [
    "Let's plot the trade-off"
   ]
  },
  {
   "cell_type": "code",
   "execution_count": 8,
   "metadata": {
    "slideshow": {
     "slide_type": "subslide"
    }
   },
   "outputs": [],
   "source": [
    "from sklearn.metrics import precision_recall_curve\n",
    "\n",
    "precisions, recalls, thresholds = precision_recall_curve(y_train_d, y_train_pred)\n",
    "\n",
    "# Convert thresholds (log odds) to probability\n",
    "probs = np.exp(thresholds)/(1+np.exp(thresholds))\n",
    "\n",
    "def plot_precision_recall_vs_threshold(precisions, recalls, thresholds, probs=None):\n",
    "    fig, ax = plt.subplots(1,1, figsize=(12,4))\n",
    "    \n",
    "    if probs is None:\n",
    "        horiz = thresholds\n",
    "        label = \"Threshold\"\n",
    "    else:\n",
    "        horiz = probs\n",
    "        label = \"Probability threshold\"\n",
    "    _ = ax.plot(horiz, precisions[:-1], \"b--\", label=\"Precision\", linewidth=2)\n",
    "    _ = ax.plot(horiz, recalls[:-1], \"g-\", label=\"Recall\", linewidth=2)\n",
    "    _ = ax.set_xlabel(label, fontsize=16)\n",
    "    _ = ax.legend(loc=\"upper left\", fontsize=16)\n",
    "    _ = ax.set_ylim([0, 1])\n",
    "    \n",
    "    _ = ax.set_xlim([ horiz.min(), horiz.max()])\n",
    "    \n",
    "    return fig, ax\n",
    "\n",
    "fig, ax = plot_precision_recall_vs_threshold(precisions, recalls, thresholds, probs=probs)\n",
    "plt.close(fig)"
   ]
  },
  {
   "cell_type": "code",
   "execution_count": 9,
   "metadata": {
    "slideshow": {
     "slide_type": "subslide"
    }
   },
   "outputs": [
    {
     "data": {
      "image/png": "[encoded data removed]",
      "text/plain": [
       "<Figure size 864x288 with 1 Axes>"
      ]
     },
     "execution_count": 9,
     "metadata": {},
     "output_type": "execute_result"
    }
   ],
   "source": [
    "fig"
   ]
  },
  {
   "cell_type": "markdown",
   "metadata": {
    "slideshow": {
     "slide_type": "subslide"
    }
   },
   "source": [
    "You can see how varying the threshold  affects Recall and Precision\n",
    "- One at the expense of the other"
   ]
  },
  {
   "cell_type": "markdown",
   "metadata": {
    "slideshow": {
     "slide_type": "subslide"
    }
   },
   "source": [
    "### ROC/AUC: Evaluating the Precision/Recall tradeoff\n",
    "\n",
    "There is another common tool used to evaluate the trade-off between competing metrics.\n",
    "\n",
    "The **ROC** is a plot of True Positive Rate (TPR) versus the False Positive Rate (FPR) \n",
    "as we vary the threshold.\n",
    "- each point in the plot corresponds to a particular threshold\n",
    "- the TPR and FPR is measured for that threshold\n"
   ]
  },
  {
   "cell_type": "markdown",
   "metadata": {
    "slideshow": {
     "slide_type": "subslide"
    }
   },
   "source": [
    "Our goal is to choose a threshold (corresponding to a point on the curve)\n",
    "- With the highest True Positive Rate (TPR)\n",
    "    - i.e., Recall\n",
    "    -  fraction of correctly classified Positives\n",
    "- With the smallest *acceptable* False Positive Rate (FPR)\n",
    "    - fraction of negatives that are misclassified as Positive\n",
    "    - larger FPR means *worse* Precision"
   ]
  },
  {
   "cell_type": "markdown",
   "metadata": {
    "slideshow": {
     "slide_type": "subslide"
    }
   },
   "source": [
    "We illustrate by showing the ROC/AUC curve for three different classifiers on the MNIST digit recognition problem.\n",
    " \n",
    "- Logistic Regression\n",
    "- KNN\n",
    "- Random Forests"
   ]
  },
  {
   "cell_type": "code",
   "execution_count": 10,
   "metadata": {
    "slideshow": {
     "slide_type": "subslide"
    }
   },
   "outputs": [
    {
     "data": {
      "image/png": "[encoded data removed]",
      "text/plain": [
       "<Figure size 864x432 with 3 Axes>"
      ]
     },
     "metadata": {
      "needs_background": "light"
     },
     "output_type": "display_data"
    }
   ],
   "source": [
    "# ROC curves for binary classifier: Is Digit/Is not Digit\n",
    "clh.AUC_plot(X_train=mnh.X_train, y_train=y_train_d, X_test=mnh.X_train, y_test=y_train_d)\n"
   ]
  },
  {
   "cell_type": "markdown",
   "metadata": {
    "slideshow": {
     "slide_type": "subslide"
    }
   },
   "source": [
    "The \"ideal\" curve would resemble an inverted \"L\"\n",
    "- With a top, horizontal line near a TPR of $1$\n",
    "- That rises vertically from a FPR of near $0$\n",
    " \n",
    "\n",
    "That would imply that there is a choice of threshold with low FPR and high TPR.\n",
    "\n",
    "**You** decide which threshold produces an acceptable trade-off"
   ]
  },
  {
   "cell_type": "markdown",
   "metadata": {
    "slideshow": {
     "slide_type": "subslide"
    }
   },
   "source": [
    "But you can also compare the curves across models\n",
    "- A model whose curve is closer to the inverted \"L\" shape has a better trade-off\n",
    "- We can measure this by the *Area Under the Curve* (AUC) of the model\n",
    "    - Higher AUC gets us closer to the ideal\n",
    "- The model whose curve has highest AUC might be the model of choice."
   ]
  },
  {
   "cell_type": "markdown",
   "metadata": {
    "slideshow": {
     "slide_type": "subslide"
    }
   },
   "source": [
    "**Note on the mechanics of plotting the ROC/AUC**\n",
    "\n",
    "To produce the ROC/AUC curve\n",
    "- Fit a binary classifier\n",
    "- For each possible value of the threshold\n",
    "    - Predict using this threshold\n",
    "    - Evaluate the TPR and FPR\n",
    "    - This gives a single point on the curve\n",
    "\n",
    "Fortunately: most ML toolkits will implement this process for you\n",
    "- But the principle of \"there is no magic\" means that you should always understand what is happening"
   ]
  },
  {
   "cell_type": "markdown",
   "metadata": {
    "slideshow": {
     "slide_type": "subslide"
    }
   },
   "source": [
    "### $F_1$: Another way to combine Precision and Recall\n",
    "\n",
    "There another metric call the $F_1$ which expresses the trade-off between Precision and Recall as a single number:\n",
    "\n",
    "$$\n",
    "\\textrm{F}_1 = { { \\textrm{TP} } \\over { \\textrm{TP} +  { { \\textrm{FN} + \\textrm{FP} }   \\over 2 } }  }\n",
    "$$"
   ]
  },
  {
   "cell_type": "markdown",
   "metadata": {
    "slideshow": {
     "slide_type": "slide"
    }
   },
   "source": [
    "# Multinomial classification: Confusion matrix\n",
    "\n",
    "So far we have been dealing with a classifier with only two classes.\n",
    "\n",
    "So the simple grid\n",
    "\n",
    "$$\n",
    "\\begin{array}{lll}\n",
    "\\\\\n",
    "           & \\textbf{P} &  \\textbf{N} \\\\\n",
    "\\textbf{P} & \\text{TP}        & \\text{FP} \\\\\n",
    "\\textbf{N} & \\text{FN}        & \\text{TN} \\\\\n",
    "\\end{array}\n",
    "$$\n",
    "\n",
    "was sufficient.\n",
    "\n",
    "The generalization of the grid to  multiple classes is called the *Confusion Matrix*"
   ]
  },
  {
   "cell_type": "markdown",
   "metadata": {
    "slideshow": {
     "slide_type": "subslide"
    }
   },
   "source": [
    "Here is the Confusion Matrix for a classifier on the task of predicting which of 10 digits\n",
    "is represented by an image (MNIST digit recognition)"
   ]
  },
  {
   "cell_type": "code",
   "execution_count": 11,
   "metadata": {
    "slideshow": {
     "slide_type": "subslide"
    }
   },
   "outputs": [
    {
     "name": "stdout",
     "output_type": "stream",
     "text": [
      "Normalized confusion matrix\n"
     ]
    },
    {
     "data": {
      "image/png": "[encoded data removed]",
      "text/plain": [
       "<Figure size 864x432 with 1 Axes>"
      ]
     },
     "metadata": {
      "needs_background": "light"
     },
     "output_type": "display_data"
    }
   ],
   "source": [
    "# Now predict the value of the digit on the second half:\n",
    "fig, ax = plt.subplots(figsize=(12,6))\n",
    "confusion_mat = mnh.create_confusion_matrix()\n",
    "\n",
    "digits = range(0,10)\n",
    "_= clh.plot_confusion_matrix(confusion_mat, digits, ax=ax, normalize=True)"
   ]
  },
  {
   "cell_type": "markdown",
   "metadata": {
    "slideshow": {
     "slide_type": "subslide"
    }
   },
   "source": [
    "- Column labels: the *predicted* class\n",
    "- Row labels: the *true* class\n",
    "\n",
    "The entry in the matrix for row $i$, column $j$\n",
    "- **Percentage** of examples for true digit $i$ that were\n",
    "predicted as digit $j$.\n",
    "\n",
    "The diagonal of the Confusion Matrix is the Recall for each digit/\n",
    "\n",
    "The non-diagonal elements of a row show how often a given digit was mistaken for another.\n"
   ]
  },
  {
   "cell_type": "markdown",
   "metadata": {
    "slideshow": {
     "slide_type": "subslide"
    }
   },
   "source": [
    "The confusion matrix for MNIST digit recognition tells us that our classifier\n",
    "- Does a great job (90+% correct) on images corresponding to digits 0,1,6\n",
    "- Is struggling ($ < 80 \\%$ correct) on images of the digits 5, 8\n",
    "    - Mis-classifying them as \"3\" most often\n"
   ]
  },
  {
   "cell_type": "markdown",
   "metadata": {
    "slideshow": {
     "slide_type": "subslide"
    }
   },
   "source": [
    "Studying the Confusion Matrix in depth can help you\n",
    "- Diagnose the weaknesses in your model\n",
    "- And *perhaps take steps to compensate* for them (improve the model)\n",
    "- By analyzing the examples belonging to the subset corresponding to non-diagonal entries\n",
    "\n",
    "**This is the true power of Error Analysis !**\n",
    "- Having a process and the tools to diagnose mis-prediction will make you more successful !\n",
    "- That is why we emphasize the importance of the Error Analysis step of the Recipe"
   ]
  },
  {
   "cell_type": "markdown",
   "metadata": {
    "slideshow": {
     "slide_type": "subslide"
    }
   },
   "source": [
    "We will perform this analysis *in code*  for the MNIST digit classifier shortly."
   ]
  },
  {
   "cell_type": "markdown",
   "metadata": {
    "slideshow": {
     "slide_type": "subslide"
    }
   },
   "source": [
    "<img src=\"images/Back_to_parent.jpg\">"
   ]
  },
  {
   "cell_type": "markdown",
   "metadata": {
    "slideshow": {
     "slide_type": "slide"
    }
   },
   "source": [
    "## Regression: beyond RMSE/$R^2$\n",
    "\n",
    "What is the process of diagnosing errors for the Regression task ?\n",
    "\n",
    "Answer: Examining the residuals.\n",
    "- the difference $\\y^\\ip - \\hat\\y^\\ip$\n",
    "\n",
    "Recall our first attempt at Linear Regression\n",
    "- where we systematically *under-predicted* (positive residuals) the Target\n",
    "- for low and high values of the single feature $\\x_1$"
   ]
  },
  {
   "cell_type": "code",
   "execution_count": 12,
   "metadata": {
    "slideshow": {
     "slide_type": "notes"
    }
   },
   "outputs": [],
   "source": [
    "import numpy as np\n",
    "import pandas as pd\n",
    "import matplotlib.pyplot as plt\n",
    "         \n",
    "    \n",
    "from sklearn import datasets, linear_model\n",
    "from sklearn.metrics import mean_squared_error, r2_score\n",
    "from sklearn.linear_model import LinearRegression\n",
    "from sklearn.metrics import r2_score\n",
    "from sklearn.model_selection import train_test_split \n",
    "\n",
    "import linearReg_helper as lrh\n",
    "%aimport linearReg_helper\n"
   ]
  },
  {
   "cell_type": "code",
   "execution_count": 13,
   "metadata": {
    "slideshow": {
     "slide_type": "notes"
    }
   },
   "outputs": [],
   "source": [
    "lr_demo = lrh.LinReg()\n",
    "(fig_scatter, fig_x1, fig_x1_x1sq) = lr_demo.createFigs(visible=False)"
   ]
  },
  {
   "cell_type": "code",
   "execution_count": 14,
   "metadata": {
    "slideshow": {
     "slide_type": "subslide"
    }
   },
   "outputs": [
    {
     "data": {
      "image/png": "[encoded data removed]",
      "text/plain": [
       "<Figure size 720x432 with 1 Axes>"
      ]
     },
     "execution_count": 14,
     "metadata": {},
     "output_type": "execute_result"
    }
   ],
   "source": [
    "fig_x1"
   ]
  },
  {
   "cell_type": "markdown",
   "metadata": {
    "slideshow": {
     "slide_type": "subslide"
    }
   },
   "source": [
    "Our Error Analysis\n",
    "- observing the systematic mispricing\n",
    "\n",
    "led us to improve the model\n",
    "- by adding a second feature $\\x_1^2$"
   ]
  },
  {
   "cell_type": "code",
   "execution_count": 15,
   "metadata": {
    "slideshow": {
     "slide_type": "subslide"
    }
   },
   "outputs": [
    {
     "data": {
      "image/png": "[encoded data removed]",
      "text/plain": [
       "<Figure size 720x432 with 1 Axes>"
      ]
     },
     "execution_count": 15,
     "metadata": {},
     "output_type": "execute_result"
    }
   ],
   "source": [
    "fig_x1_x1sq"
   ]
  },
  {
   "cell_type": "code",
   "execution_count": 16,
   "metadata": {
    "slideshow": {
     "slide_type": "slide"
    }
   },
   "outputs": [
    {
     "name": "stdout",
     "output_type": "stream",
     "text": [
      "Done\n"
     ]
    }
   ],
   "source": [
    "print(\"Done\")"
   ]
  }
 ],
 "metadata": {
  "celltoolbar": "Slideshow",
  "kernelspec": {
   "display_name": "Python 3",
   "language": "python",
   "name": "python3"
  },
  "language_info": {
   "codemirror_mode": {
    "name": "ipython",
    "version": 3
   },
   "file_extension": ".py",
   "mimetype": "text/x-python",
   "name": "python",
   "nbconvert_exporter": "python",
   "pygments_lexer": "ipython3",
   "version": "3.7.4"
  },
  "toc": {
   "base_numbering": 1,
   "nav_menu": {},
   "number_sections": true,
   "sideBar": true,
   "skip_h1_title": false,
   "title_cell": "Table of Contents",
   "title_sidebar": "Contents",
   "toc_cell": false,
   "toc_position": {
    "height": "calc(100% - 180px)",
    "left": "10px",
    "top": "150px",
    "width": "370.594px"
   },
   "toc_section_display": true,
   "toc_window_display": true
  }
 },
 "nbformat": 4,
 "nbformat_minor": 2
}
