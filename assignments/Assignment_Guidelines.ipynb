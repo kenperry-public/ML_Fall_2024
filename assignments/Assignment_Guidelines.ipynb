{
 "cells": [
  {
   "cell_type": "markdown",
   "metadata": {},
   "source": [
    "# Proper style \n",
    "\n",
    "## Accessing files\n",
    "\n",
    "When building a notebook you might find the need to reference other files\n",
    "- data files\n",
    "- files that you use to move code out of your notebook\n",
    "\n",
    "The proper way to reference files is via *relative* path names, not *absolute* path names.\n",
    "- The current working directory can be referened with a single dot: \".\"\n",
    "    - On your machine \".\" might be equivalent to `R:/user/ken/ML_Course/Assignment_1`\n",
    "    - On the GA's machine, \".\" might be equivalent to `/home/GA/Students/Ken`\n",
    "- The *absolute* path name for a file is a path from the root of the file systems to a file\n",
    "    - e.g., `R:/user/ken/ML_Course/Assignment_1`\n",
    "- The problem with absolute path names for files is that this complete path *probably doesn't exist* on anyone elses machine\n",
    "    - So if your notebook references a file `R:/user/ken/ML_Course/Assignment_1/Data/stock.csv` *it will not run on the GA's machine*\n",
    "- You can reference the same file by a path name that is *relative* to the current directory\n",
    "    - `./Data/stock.csv`\n",
    "    - That is because \".\" on your machine refers to `R:/user/ken/ML_Course/Assignment_1`\n",
    "- But this also means that if the GA copies your entire directory (which you may submit) to a machine where \".\" means `/home/GA/Students/Ken`\n",
    "    - `./Data/stock.csv` will lead to `/home/GA/Students/Ken/Data/stock.csv`\n",
    "    \n",
    "**Bottom line** Never submit assignments that use *absolute* paths to files or directories\n",
    "- Always use relative paths\n",
    "- If you use an absolute path, your assignment submission won't run on the GA's machine\n",
    "- This applies to references\n",
    "    - to data files\n",
    "    - to directories\n",
    "    - to modules\n",
    "        - e.g., the Python `import` statement implicitly references a path\n"
   ]
  },
  {
   "cell_type": "markdown",
   "metadata": {},
   "source": [
    "## Use markdown \n",
    "\n",
    "Jupyter notebooks allow you to add formated text cells (\"markdown\").\n",
    "\n",
    "You should make generous use of these cells to describe your thought process.\n",
    "- Your notebook is a movie of your work, not the final snapshot\n",
    "\n",
    "**Do not** use code comments to describe anything other than programming fine-points"
   ]
  },
  {
   "cell_type": "markdown",
   "metadata": {},
   "source": [
    "# Submitting your assignment\n",
    "\n",
    "1. Please zip your files into a single archive file before submission. \n",
    "    - name it as `{Net_ID}_{date}_{version number}_HW{HW_number}.zip`.\n",
    "        - where\n",
    "            - `{Net_ID}` should be replaced by your userid\n",
    "            - `{date}` should be replaced by the date of your submission in YYYYMMDD format\n",
    "            - `{version number}` should be replaced by an integer\n",
    "                - starting with 1\n",
    "                - increasing every time you submit an additional file on the **same date**\n",
    "            - `{HW_number}` should be replaced by the identifier of the assignment\n",
    "    - Do NOT use .rar, .7z, etc.\n",
    "    \n",
    "Failure to follow this convention increases the burden on the grader and points will be deducted !"
   ]
  },
  {
   "cell_type": "markdown",
   "metadata": {},
   "source": [
    "2. The only kinds of files necessary to be included in the zip file.\n",
    "    - (a) external files such as \"Data\" folder, you can add your own data here \n",
    "    - (b) jupyter notebook file\n",
    "        - The name of your notebook should be Assignment_[#].ipynb\n",
    "    - (c) Any other files that you have created which are necessary to run your notebook\n",
    "        - e.g., your own modules or separate files (for any other reason)\n",
    "        \n",
    "    - **Avoid** (if possible) un-needed directories, particularly if they are large !\n",
    "        - anything not needed to run/evaluate your notebook\n",
    "        - e.g., checkpoints, backups\n",
    "\n",
    "\n",
    "3. Examples for Homework 1 submission.\n",
    "    - kp67_20240301_1_HW1.zip\n",
    "        - Data (folder)\n",
    "        - Assignment_1.ipynb\n",
    "        - my_module.py\n",
    "    - The grader will evaluate your submission as follows\n",
    "        - Your archive (zip) file will be decompressed into the grader's directory\n",
    "        - Your notebook should be one of the files that were extracted into the grader's directory\n",
    "        - The grader will **run your notebook without changes**\n",
    "            - Do **not** give additional instructions to the grader\n",
    "            - This means that any additional modules that are imported must be relative to the current directory\n",
    "            - This also means that if you installed additional modules on your machine (to your home or system directories): they will not be found\n",
    "\n",
    "\n",
    "4. Please print out the answers for each question in your notebook. \n",
    "    - Add some explanations if your idea is not obvious.\n",
    "\n",
    "\n",
    "5. Failure to follow the instructions may affect your grading.\n",
    "\n",
    "\n",
    "6. Instructions for term project submission might be different."
   ]
  },
  {
   "cell_type": "markdown",
   "metadata": {},
   "source": [
    "# Running your notebook\n",
    "\n",
    "The grader will\n",
    "- unzip your file into an empty directory\n",
    "- run the entire notebook from that directory\n",
    "\n",
    "If your notebook does not run *all cells* without error, your submission will be judged faulty.\n",
    "Only answers produced by running the notebook in this manner will be accepted.\n",
    "\n",
    "You can test whether your notebook meets these requirements by performing the above steps yourself."
   ]
  }
 ],
 "metadata": {
  "kernelspec": {
   "display_name": "Python 3",
   "language": "python",
   "name": "python3"
  },
  "language_info": {
   "codemirror_mode": {
    "name": "ipython",
    "version": 3
   },
   "file_extension": ".py",
   "mimetype": "text/x-python",
   "name": "python",
   "nbconvert_exporter": "python",
   "pygments_lexer": "ipython3",
   "version": "3.7.4"
  },
  "toc": {
   "base_numbering": 1,
   "nav_menu": {},
   "number_sections": true,
   "sideBar": true,
   "skip_h1_title": false,
   "title_cell": "Table of Contents",
   "title_sidebar": "Contents",
   "toc_cell": false,
   "toc_position": {},
   "toc_section_display": true,
   "toc_window_display": false
  }
 },
 "nbformat": 4,
 "nbformat_minor": 2
}
